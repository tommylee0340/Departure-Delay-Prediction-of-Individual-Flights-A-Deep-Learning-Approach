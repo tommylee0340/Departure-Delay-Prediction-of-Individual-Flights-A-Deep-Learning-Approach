{
 "cells": [
  {
   "cell_type": "markdown",
   "metadata": {
    "heading_collapsed": true
   },
   "source": [
    "## Import"
   ]
  },
  {
   "cell_type": "code",
   "execution_count": 14,
   "metadata": {
    "hidden": true
   },
   "outputs": [
    {
     "name": "stderr",
     "output_type": "stream",
     "text": [
      "Using TensorFlow backend.\n"
     ]
    }
   ],
   "source": [
    "import pandas as pd\n",
    "import matplotlib.pyplot as plt\n",
    "import numpy as np\n",
    "import seaborn as sns\n",
    "from datetime import datetime, timedelta\n",
    "from sklearn.metrics import accuracy_score, recall_score, precision_score, f1_score, roc_curve, roc_auc_score\n",
    "from sklearn.model_selection import StratifiedKFold\n",
    "from itertools import chain\n",
    "from sklearn.utils.class_weight import compute_class_weight\n",
    "from sklearn.model_selection import train_test_split\n",
    "from imblearn.under_sampling import RandomUnderSampler\n",
    "from imblearn.over_sampling import RandomOverSampler\n",
    "from imblearn.over_sampling import SMOTE\n",
    "from sklearn.preprocessing import StandardScaler\n",
    "from sklearn.metrics import confusion_matrix\n",
    "from sklearn.utils.multiclass import unique_labels\n",
    "import xgboost as xgb\n",
    "\n",
    "from keras.utils import np_utils\n",
    "from keras.models import Sequential\n",
    "from keras.layers import Dense,Dropout,BatchNormalization,Activation\n",
    "from keras.models import load_model\n",
    "\n",
    "from pandasql import sqldf\n",
    "pysqldf = lambda q: sqldf(q, globals())\n",
    "\n",
    "Morandi = ['#2D241F','#614E52','#7A6747','#A06A50','#ADAEB2','#69647B',\n",
    "           '#E2CDBC','#A56C41','#B17A7D','#A68782',\n",
    "          '#903B1C','#92ACD1','#D0C1C6','#D6D6D6','#511F1E']\n",
    "\n",
    "major_apt = ['ATL','BOS','BWI','CLT','DCA','DEN','DFW','DTW','EWR','FLL','HNL','IAD',\n",
    "             'IAH','JFK','LAS','LAX','LGA','MCO','MDW','MEM','MIA','MSP','ORD','PHL',\n",
    "             'PHX','PDX','SAN','SEA','SFO','SLC','TPA','LGB','OAK','SNA']\n",
    "\n",
    "pd.set_option('display.max_columns', 500)\n",
    "pd.set_option('display.max_rows', 500)\n",
    "\n",
    "import warnings\n",
    "warnings.simplefilter('ignore')"
   ]
  },
  {
   "cell_type": "code",
   "execution_count": 2,
   "metadata": {
    "hidden": true
   },
   "outputs": [
    {
     "name": "stderr",
     "output_type": "stream",
     "text": [
      "/opt/anaconda/envs/Python3/lib/python3.6/site-packages/numpy/lib/arraysetops.py:569: FutureWarning: elementwise comparison failed; returning scalar instead, but in the future will perform elementwise comparison\n",
      "  mask |= (ar1 == a)\n"
     ]
    }
   ],
   "source": [
    "datetime_cols = ['CRS_DEP_DT', 'DEP_DELAY_TD', 'CRS_ELAPSED_TD', 'DEP_DT',\n",
    "                'CRS_ARR_DT','ARR_DELAY_TD', 'ARR_DT']\n",
    "testing = pd.read_csv('testing.csv',index_col=0,parse_dates=datetime_cols)"
   ]
  },
  {
   "cell_type": "code",
   "execution_count": 3,
   "metadata": {
    "hidden": true
   },
   "outputs": [
    {
     "data": {
      "text/html": [
       "<div>\n",
       "<style scoped>\n",
       "    .dataframe tbody tr th:only-of-type {\n",
       "        vertical-align: middle;\n",
       "    }\n",
       "\n",
       "    .dataframe tbody tr th {\n",
       "        vertical-align: top;\n",
       "    }\n",
       "\n",
       "    .dataframe thead th {\n",
       "        text-align: right;\n",
       "    }\n",
       "</style>\n",
       "<table border=\"1\" class=\"dataframe\">\n",
       "  <thead>\n",
       "    <tr style=\"text-align: right;\">\n",
       "      <th></th>\n",
       "      <th>FL_DATE</th>\n",
       "      <th>OP_UNIQUE_CARRIER</th>\n",
       "      <th>TAIL_NUM</th>\n",
       "      <th>OP_CARRIER_FL_NUM</th>\n",
       "      <th>ORIGIN_AIRPORT_ID</th>\n",
       "      <th>ORIGIN</th>\n",
       "      <th>DEST_AIRPORT_ID</th>\n",
       "      <th>DEST</th>\n",
       "      <th>DEP_DELAY</th>\n",
       "      <th>ARR_DELAY</th>\n",
       "      <th>...</th>\n",
       "      <th>pressure</th>\n",
       "      <th>tempC</th>\n",
       "      <th>uvIndex</th>\n",
       "      <th>visibility</th>\n",
       "      <th>winddir16Point</th>\n",
       "      <th>winddirDegree</th>\n",
       "      <th>windspeedKmph</th>\n",
       "      <th>weatherDesc_new</th>\n",
       "      <th>Wide</th>\n",
       "      <th>Year</th>\n",
       "    </tr>\n",
       "  </thead>\n",
       "  <tbody>\n",
       "    <tr>\n",
       "      <th>43767</th>\n",
       "      <td>2018-09-24</td>\n",
       "      <td>WN</td>\n",
       "      <td>N439WN</td>\n",
       "      <td>4597</td>\n",
       "      <td>11618</td>\n",
       "      <td>EWR</td>\n",
       "      <td>11292</td>\n",
       "      <td>DEN</td>\n",
       "      <td>-3.0</td>\n",
       "      <td>-15.0</td>\n",
       "      <td>...</td>\n",
       "      <td>1031</td>\n",
       "      <td>19</td>\n",
       "      <td>5</td>\n",
       "      <td>10</td>\n",
       "      <td>E</td>\n",
       "      <td>79</td>\n",
       "      <td>23</td>\n",
       "      <td>Sunny</td>\n",
       "      <td>0.0</td>\n",
       "      <td>2003.0</td>\n",
       "    </tr>\n",
       "    <tr>\n",
       "      <th>43768</th>\n",
       "      <td>2018-09-24</td>\n",
       "      <td>UA</td>\n",
       "      <td>N18119</td>\n",
       "      <td>2216</td>\n",
       "      <td>11618</td>\n",
       "      <td>EWR</td>\n",
       "      <td>11292</td>\n",
       "      <td>DEN</td>\n",
       "      <td>-7.0</td>\n",
       "      <td>-5.0</td>\n",
       "      <td>...</td>\n",
       "      <td>1031</td>\n",
       "      <td>19</td>\n",
       "      <td>5</td>\n",
       "      <td>10</td>\n",
       "      <td>E</td>\n",
       "      <td>79</td>\n",
       "      <td>23</td>\n",
       "      <td>Sunny</td>\n",
       "      <td>0.0</td>\n",
       "      <td>1997.0</td>\n",
       "    </tr>\n",
       "    <tr>\n",
       "      <th>43769</th>\n",
       "      <td>2018-09-24</td>\n",
       "      <td>UA</td>\n",
       "      <td>N38467</td>\n",
       "      <td>2415</td>\n",
       "      <td>11618</td>\n",
       "      <td>EWR</td>\n",
       "      <td>14057</td>\n",
       "      <td>PDX</td>\n",
       "      <td>-4.0</td>\n",
       "      <td>-13.0</td>\n",
       "      <td>...</td>\n",
       "      <td>1031</td>\n",
       "      <td>19</td>\n",
       "      <td>5</td>\n",
       "      <td>10</td>\n",
       "      <td>E</td>\n",
       "      <td>79</td>\n",
       "      <td>23</td>\n",
       "      <td>Sunny</td>\n",
       "      <td>0.0</td>\n",
       "      <td>2013.0</td>\n",
       "    </tr>\n",
       "    <tr>\n",
       "      <th>43770</th>\n",
       "      <td>2018-09-24</td>\n",
       "      <td>DL</td>\n",
       "      <td>N944AT</td>\n",
       "      <td>2027</td>\n",
       "      <td>11618</td>\n",
       "      <td>EWR</td>\n",
       "      <td>10397</td>\n",
       "      <td>ATL</td>\n",
       "      <td>-8.0</td>\n",
       "      <td>-13.0</td>\n",
       "      <td>...</td>\n",
       "      <td>1031</td>\n",
       "      <td>19</td>\n",
       "      <td>5</td>\n",
       "      <td>10</td>\n",
       "      <td>E</td>\n",
       "      <td>79</td>\n",
       "      <td>23</td>\n",
       "      <td>Sunny</td>\n",
       "      <td>0.0</td>\n",
       "      <td>1999.0</td>\n",
       "    </tr>\n",
       "    <tr>\n",
       "      <th>43771</th>\n",
       "      <td>2018-09-24</td>\n",
       "      <td>UA</td>\n",
       "      <td>N215UA</td>\n",
       "      <td>1148</td>\n",
       "      <td>11618</td>\n",
       "      <td>EWR</td>\n",
       "      <td>12892</td>\n",
       "      <td>LAX</td>\n",
       "      <td>1.0</td>\n",
       "      <td>1.0</td>\n",
       "      <td>...</td>\n",
       "      <td>1031</td>\n",
       "      <td>19</td>\n",
       "      <td>5</td>\n",
       "      <td>10</td>\n",
       "      <td>E</td>\n",
       "      <td>79</td>\n",
       "      <td>23</td>\n",
       "      <td>Sunny</td>\n",
       "      <td>1.0</td>\n",
       "      <td>2000.0</td>\n",
       "    </tr>\n",
       "  </tbody>\n",
       "</table>\n",
       "<p>5 rows × 43 columns</p>\n",
       "</div>"
      ],
      "text/plain": [
       "          FL_DATE OP_UNIQUE_CARRIER TAIL_NUM  OP_CARRIER_FL_NUM  \\\n",
       "43767  2018-09-24                WN   N439WN               4597   \n",
       "43768  2018-09-24                UA   N18119               2216   \n",
       "43769  2018-09-24                UA   N38467               2415   \n",
       "43770  2018-09-24                DL   N944AT               2027   \n",
       "43771  2018-09-24                UA   N215UA               1148   \n",
       "\n",
       "       ORIGIN_AIRPORT_ID ORIGIN  DEST_AIRPORT_ID DEST  DEP_DELAY  ARR_DELAY  \\\n",
       "43767              11618    EWR            11292  DEN       -3.0      -15.0   \n",
       "43768              11618    EWR            11292  DEN       -7.0       -5.0   \n",
       "43769              11618    EWR            14057  PDX       -4.0      -13.0   \n",
       "43770              11618    EWR            10397  ATL       -8.0      -13.0   \n",
       "43771              11618    EWR            12892  LAX        1.0        1.0   \n",
       "\n",
       "       ...  pressure  tempC  uvIndex  visibility winddir16Point winddirDegree  \\\n",
       "43767  ...      1031     19        5          10              E            79   \n",
       "43768  ...      1031     19        5          10              E            79   \n",
       "43769  ...      1031     19        5          10              E            79   \n",
       "43770  ...      1031     19        5          10              E            79   \n",
       "43771  ...      1031     19        5          10              E            79   \n",
       "\n",
       "      windspeedKmph weatherDesc_new  Wide    Year  \n",
       "43767            23           Sunny   0.0  2003.0  \n",
       "43768            23           Sunny   0.0  1997.0  \n",
       "43769            23           Sunny   0.0  2013.0  \n",
       "43770            23           Sunny   0.0  1999.0  \n",
       "43771            23           Sunny   1.0  2000.0  \n",
       "\n",
       "[5 rows x 43 columns]"
      ]
     },
     "execution_count": 3,
     "metadata": {},
     "output_type": "execute_result"
    }
   ],
   "source": [
    "testing.head()"
   ]
  },
  {
   "cell_type": "code",
   "execution_count": 4,
   "metadata": {
    "hidden": true
   },
   "outputs": [
    {
     "data": {
      "text/plain": [
       "(1765464, 43)"
      ]
     },
     "execution_count": 4,
     "metadata": {},
     "output_type": "execute_result"
    }
   ],
   "source": [
    "testing.shape"
   ]
  },
  {
   "cell_type": "markdown",
   "metadata": {},
   "source": [
    "## Feature Engineering"
   ]
  },
  {
   "cell_type": "markdown",
   "metadata": {
    "heading_collapsed": true
   },
   "source": [
    "### Find previous flights"
   ]
  },
  {
   "cell_type": "code",
   "execution_count": 5,
   "metadata": {
    "hidden": true
   },
   "outputs": [
    {
     "name": "stdout",
     "output_type": "stream",
     "text": [
      "1\n",
      "14\n",
      "27\n",
      "40\n"
     ]
    }
   ],
   "source": [
    "trn_mg_all = pd.DataFrame(columns=['TAIL_NUM', 'DEP_DT', 'ORIGIN', 'DEST', 'ARR_DT'])\n",
    "\n",
    "for i in range(1,53,13):\n",
    "#    trn_mg_ori = training[(training['Week_no']>=i)&(training['Week_no']<i+13)&\n",
    "#                          (training['ORIGIN'].isin(major_apt))][['TAIL_NUM','ORIGIN','DEP_DT']]\n",
    "    trn_mg_ori = testing[(testing['Week_no']>=i)&(testing['Week_no']<i+13)][['TAIL_NUM','ORIGIN','DEP_DT']]\n",
    "#     trn_mg_dest = training[(training['Week_no']>=i)&(training['Week_no']<i+13)&\n",
    "#                           (training['DEST'].isin(major_apt))][['TAIL_NUM','DEST','ARR_DT']]\n",
    "    trn_mg_dest = testing[(testing['Week_no']>=i)&(testing['Week_no']<i+13)][['TAIL_NUM','DEST','ARR_DT']]\n",
    "    \n",
    "    trn_mg = pd.merge(trn_mg_ori,trn_mg_dest,\n",
    "                      left_on=['TAIL_NUM','ORIGIN'],\n",
    "                      right_on=['TAIL_NUM','DEST'],how='inner')\n",
    "    \n",
    "    trn_mg_first = trn_mg[trn_mg['DEP_DT']>\n",
    "                          trn_mg['ARR_DT']].sort_values(by=['TAIL_NUM','DEP_DT','ARR_DT'],\n",
    "                                                        ascending=[True,True,False])\n",
    "    \n",
    "    trn_mg_first = trn_mg_first.groupby(['TAIL_NUM','DEP_DT']).first().reset_index()\n",
    "    \n",
    "    trn_mg_all = trn_mg_all.append(trn_mg_first)\n",
    "    \n",
    "    print(i)"
   ]
  },
  {
   "cell_type": "code",
   "execution_count": 6,
   "metadata": {
    "hidden": true
   },
   "outputs": [],
   "source": [
    "trn_mg_all.reset_index(drop=True,inplace=True)"
   ]
  },
  {
   "cell_type": "code",
   "execution_count": 7,
   "metadata": {
    "hidden": true
   },
   "outputs": [],
   "source": [
    "trn_mg_all['Turnaround_time'] = trn_mg_all['DEP_DT'] - trn_mg_all['ARR_DT']"
   ]
  },
  {
   "cell_type": "code",
   "execution_count": 8,
   "metadata": {
    "hidden": true
   },
   "outputs": [
    {
     "data": {
      "text/html": [
       "<div>\n",
       "<style scoped>\n",
       "    .dataframe tbody tr th:only-of-type {\n",
       "        vertical-align: middle;\n",
       "    }\n",
       "\n",
       "    .dataframe tbody tr th {\n",
       "        vertical-align: top;\n",
       "    }\n",
       "\n",
       "    .dataframe thead th {\n",
       "        text-align: right;\n",
       "    }\n",
       "</style>\n",
       "<table border=\"1\" class=\"dataframe\">\n",
       "  <thead>\n",
       "    <tr style=\"text-align: right;\">\n",
       "      <th></th>\n",
       "      <th>TAIL_NUM</th>\n",
       "      <th>DEP_DT</th>\n",
       "      <th>ORIGIN</th>\n",
       "      <th>DEST</th>\n",
       "      <th>ARR_DT</th>\n",
       "      <th>Turnaround_time</th>\n",
       "    </tr>\n",
       "  </thead>\n",
       "  <tbody>\n",
       "    <tr>\n",
       "      <th>0</th>\n",
       "      <td>216NV</td>\n",
       "      <td>2018-09-27 11:49:00</td>\n",
       "      <td>EWR</td>\n",
       "      <td>EWR</td>\n",
       "      <td>2018-09-27 10:40:00</td>\n",
       "      <td>01:09:00</td>\n",
       "    </tr>\n",
       "    <tr>\n",
       "      <th>1</th>\n",
       "      <td>219NV</td>\n",
       "      <td>2018-09-30 11:49:00</td>\n",
       "      <td>EWR</td>\n",
       "      <td>EWR</td>\n",
       "      <td>2018-09-30 10:29:00</td>\n",
       "      <td>01:20:00</td>\n",
       "    </tr>\n",
       "    <tr>\n",
       "      <th>2</th>\n",
       "      <td>221NV</td>\n",
       "      <td>2018-09-30 10:12:00</td>\n",
       "      <td>LAX</td>\n",
       "      <td>LAX</td>\n",
       "      <td>2018-09-30 08:55:00</td>\n",
       "      <td>01:17:00</td>\n",
       "    </tr>\n",
       "    <tr>\n",
       "      <th>3</th>\n",
       "      <td>221NV</td>\n",
       "      <td>2018-09-30 18:22:00</td>\n",
       "      <td>CVG</td>\n",
       "      <td>CVG</td>\n",
       "      <td>2018-09-30 17:15:00</td>\n",
       "      <td>01:07:00</td>\n",
       "    </tr>\n",
       "    <tr>\n",
       "      <th>4</th>\n",
       "      <td>221NV</td>\n",
       "      <td>2018-09-30 20:26:00</td>\n",
       "      <td>DEN</td>\n",
       "      <td>DEN</td>\n",
       "      <td>2018-09-30 19:08:00</td>\n",
       "      <td>01:18:00</td>\n",
       "    </tr>\n",
       "  </tbody>\n",
       "</table>\n",
       "</div>"
      ],
      "text/plain": [
       "  TAIL_NUM              DEP_DT ORIGIN DEST              ARR_DT Turnaround_time\n",
       "0    216NV 2018-09-27 11:49:00    EWR  EWR 2018-09-27 10:40:00        01:09:00\n",
       "1    219NV 2018-09-30 11:49:00    EWR  EWR 2018-09-30 10:29:00        01:20:00\n",
       "2    221NV 2018-09-30 10:12:00    LAX  LAX 2018-09-30 08:55:00        01:17:00\n",
       "3    221NV 2018-09-30 18:22:00    CVG  CVG 2018-09-30 17:15:00        01:07:00\n",
       "4    221NV 2018-09-30 20:26:00    DEN  DEN 2018-09-30 19:08:00        01:18:00"
      ]
     },
     "execution_count": 8,
     "metadata": {},
     "output_type": "execute_result"
    }
   ],
   "source": [
    "trn_mg_all.head()"
   ]
  },
  {
   "cell_type": "code",
   "execution_count": 9,
   "metadata": {
    "hidden": true
   },
   "outputs": [],
   "source": [
    "testing_prev = pd.merge(testing,trn_mg_all,\n",
    "                         left_on=['TAIL_NUM','ORIGIN','DEP_DT'],\n",
    "                         right_on=['TAIL_NUM','ORIGIN','DEP_DT'],\n",
    "                         how='inner',\n",
    "                         suffixes=('','_prev'))"
   ]
  },
  {
   "cell_type": "code",
   "execution_count": 10,
   "metadata": {
    "hidden": true
   },
   "outputs": [],
   "source": [
    "testing_prev = pd.merge(testing_prev,\n",
    "                         testing_prev[['TAIL_NUM','DEST','ARR_DT','CRS_ARR_DT','DISTANCE','DEP_DELAY']],\n",
    "                         left_on=['TAIL_NUM','ORIGIN','ARR_DT_prev'],\n",
    "                         right_on=['TAIL_NUM','DEST','ARR_DT'],\n",
    "                         how='inner',\n",
    "                         suffixes=('','_prev'))"
   ]
  },
  {
   "cell_type": "markdown",
   "metadata": {
    "heading_collapsed": true
   },
   "source": [
    "### Create dependent variable"
   ]
  },
  {
   "cell_type": "code",
   "execution_count": 11,
   "metadata": {
    "hidden": true
   },
   "outputs": [],
   "source": [
    "def binarise(data):\n",
    "    if data <= 15:\n",
    "        return 0\n",
    "    else:\n",
    "        return 1\n",
    "    \n",
    "testing_prev['DEP_DELAY_BI'] = testing_prev['DEP_DELAY'].apply(binarise)"
   ]
  },
  {
   "cell_type": "markdown",
   "metadata": {
    "heading_collapsed": true
   },
   "source": [
    "### Airport average delay in the last 6 hours"
   ]
  },
  {
   "cell_type": "code",
   "execution_count": 15,
   "metadata": {
    "hidden": true
   },
   "outputs": [],
   "source": [
    "testing_prev['Last2'] = testing_prev['CRS_DEP_DT'] - timedelta(seconds=60*60*2)\n",
    "testing_prev['Last8'] = testing_prev['CRS_DEP_DT'] - timedelta(seconds=60*60*8)\n",
    "testing_prev['Last14'] = testing_prev['CRS_DEP_DT'] - timedelta(seconds=60*60*14)"
   ]
  },
  {
   "cell_type": "code",
   "execution_count": 16,
   "metadata": {
    "hidden": true,
    "scrolled": true
   },
   "outputs": [
    {
     "name": "stdout",
     "output_type": "stream",
     "text": [
      "1\n",
      "2\n",
      "3\n",
      "4\n",
      "5\n",
      "6\n",
      "7\n",
      "8\n",
      "9\n",
      "10\n",
      "11\n",
      "12\n",
      "13\n",
      "14\n",
      "15\n",
      "16\n",
      "17\n",
      "18\n",
      "19\n",
      "20\n",
      "21\n",
      "22\n",
      "23\n",
      "24\n",
      "25\n",
      "26\n",
      "27\n",
      "28\n",
      "29\n",
      "30\n",
      "31\n",
      "32\n",
      "33\n",
      "34\n",
      "35\n",
      "36\n",
      "37\n",
      "38\n",
      "39\n",
      "40\n",
      "41\n",
      "42\n",
      "43\n",
      "44\n",
      "45\n",
      "46\n",
      "47\n",
      "48\n",
      "49\n",
      "50\n",
      "51\n",
      "52\n"
     ]
    }
   ],
   "source": [
    "apr_avg_delay = pd.DataFrame(columns=['ORIGIN', 'DEP_DT', 'OP_CARRIER_FL_NUM', \n",
    "                                      'OP_UNIQUE_CARRIER','AVG_DELAY6'])\n",
    "for i in range(1,53,1):\n",
    "    pre_mg1 = testing_prev[(testing_prev['Week_no']>=i)&\n",
    "                           (testing_prev['Week_no']<i+1)][['ORIGIN','Last2','Last8','DEP_DT',\n",
    "                                                            'OP_CARRIER_FL_NUM',\n",
    "                                                            'OP_UNIQUE_CARRIER']]\n",
    "    \n",
    "    pre_mg2 = testing_prev[(testing_prev['Week_no']>=i-1)&\n",
    "                           (testing_prev['Week_no']<i+1)][['ORIGIN','DEP_DT','DEP_DELAY']]\n",
    "    \n",
    "    avg_delay = pysqldf(\"\"\"SELECT a.ORIGIN,\n",
    "                                  a.DEP_DT,\n",
    "                                  a.OP_CARRIER_FL_NUM,\n",
    "                                  a.OP_UNIQUE_CARRIER,\n",
    "                                  avg(a.DEP_DELAY) as AVG_DELAY6\n",
    "                           FROM \n",
    "                              (SELECT *\n",
    "                               FROM pre_mg1 a \n",
    "                                    INNER JOIN pre_mg2 b \n",
    "                                    on a.ORIGIN = b.ORIGIN\n",
    "                                       and a.Last2 >= b.DEP_DT\n",
    "                                       and a.Last8 <= b.DEP_DT) a\n",
    "                            GROUP BY a.ORIGIN,a.DEP_DT,\n",
    "                                     a.OP_CARRIER_FL_NUM,a.OP_UNIQUE_CARRIER\n",
    "                            ;\"\"\")\n",
    "\n",
    "    apr_avg_delay = apr_avg_delay.append(avg_delay)\n",
    "    \n",
    "    print(i)"
   ]
  },
  {
   "cell_type": "code",
   "execution_count": 17,
   "metadata": {
    "hidden": true
   },
   "outputs": [],
   "source": [
    "# Merge back to the training_prev \n",
    "apr_avg_delay['DEP_DT'] = pd.to_datetime(apr_avg_delay['DEP_DT'])\n",
    "testing_prev = pd.merge(testing_prev,apr_avg_delay,\n",
    "                         left_on=['ORIGIN', 'DEP_DT', \n",
    "                                  'OP_CARRIER_FL_NUM','OP_UNIQUE_CARRIER'],\n",
    "                         right_on=['ORIGIN', 'DEP_DT',\n",
    "                                  'OP_CARRIER_FL_NUM','OP_UNIQUE_CARRIER'],\n",
    "                         how='left',\n",
    "                         suffixes=('','_day'))"
   ]
  },
  {
   "cell_type": "code",
   "execution_count": 18,
   "metadata": {
    "hidden": true
   },
   "outputs": [
    {
     "data": {
      "text/plain": [
       "(110590, 56)"
      ]
     },
     "execution_count": 18,
     "metadata": {},
     "output_type": "execute_result"
    }
   ],
   "source": [
    "#  rows don't have avg_delay for the last 6 hours due to no flights in the airport \n",
    "testing_prev[testing_prev['AVG_DELAY6'].isnull()].shape"
   ]
  },
  {
   "cell_type": "code",
   "execution_count": 19,
   "metadata": {
    "hidden": true
   },
   "outputs": [],
   "source": [
    "# fill the missing value with 0 since if it is missing, it normally means there is no flights\n",
    "testing_prev['AVG_DELAY6'] = testing_prev['AVG_DELAY6'].fillna(0)"
   ]
  },
  {
   "cell_type": "code",
   "execution_count": 20,
   "metadata": {
    "hidden": true
   },
   "outputs": [
    {
     "data": {
      "text/plain": [
       "0"
      ]
     },
     "execution_count": 20,
     "metadata": {},
     "output_type": "execute_result"
    }
   ],
   "source": [
    "sum(testing_prev['AVG_DELAY6'].isnull())"
   ]
  },
  {
   "cell_type": "markdown",
   "metadata": {
    "heading_collapsed": true
   },
   "source": [
    "### Estimated turnaround time"
   ]
  },
  {
   "cell_type": "code",
   "execution_count": 22,
   "metadata": {
    "hidden": true
   },
   "outputs": [],
   "source": [
    "testing_prev['EST_TRN'] = testing_prev['CRS_DEP_DT'] - testing_prev['CRS_ARR_DT_prev']"
   ]
  },
  {
   "cell_type": "markdown",
   "metadata": {
    "heading_collapsed": true
   },
   "source": [
    "### OD pair delay status"
   ]
  },
  {
   "cell_type": "code",
   "execution_count": 23,
   "metadata": {
    "hidden": true
   },
   "outputs": [],
   "source": [
    "def get_od_name(x):\n",
    "    if x['ORIGIN'] > x['DEST']:\n",
    "        return x['DEST'] + '-' + x['ORIGIN']\n",
    "    elif x['ORIGIN'] < x['DEST']:\n",
    "        return x['ORIGIN'] + '-' + x['DEST']\n",
    "\n",
    "testing_prev['OD'] = testing_prev[['ORIGIN','DEST']].apply(get_od_name,axis=1)"
   ]
  },
  {
   "cell_type": "code",
   "execution_count": 24,
   "metadata": {
    "hidden": true
   },
   "outputs": [],
   "source": [
    "od_delay_total = pd.DataFrame(columns=['OD', 'ORIGIN', 'DEP_DT', 'OP_CARRIER_FL_NUM',\n",
    "                                       'OP_UNIQUE_CARRIER','OD_DELAY6'])\n",
    "for i in range(1,53,4):\n",
    "    pre_mg1 = testing_prev[(testing_prev['Week_no']>=i)&\n",
    "                           (testing_prev['Week_no']<i+4)][['OD','ORIGIN','Last2','Last8','DEP_DT',\n",
    "                                                            'OP_CARRIER_FL_NUM',\n",
    "                                                            'OP_UNIQUE_CARRIER']]\n",
    "    \n",
    "    pre_mg2 = testing_prev[(testing_prev['Week_no']>=i-1)&\n",
    "                           (testing_prev['Week_no']<i+4)][['OD','ORIGIN','DEP_DT','DEP_DELAY']]\n",
    "    \n",
    "    od_delay = pysqldf(\"\"\"SELECT a.OD,\n",
    "                                  a.ORIGIN,\n",
    "                                  a.DEP_DT,\n",
    "                                  a.OP_CARRIER_FL_NUM,\n",
    "                                  a.OP_UNIQUE_CARRIER,\n",
    "                                  avg(a.DEP_DELAY) as OD_DELAY6\n",
    "                           FROM \n",
    "                              (SELECT a.*,\n",
    "                                      b.DEP_DELAY\n",
    "                               FROM pre_mg1 a \n",
    "                                    INNER JOIN pre_mg2 b \n",
    "                                    on a.OD = b.OD\n",
    "                                       and a.Last2 >= b.DEP_DT\n",
    "                                       and a.Last8 <= b.DEP_DT) a\n",
    "                           GROUP BY a.OD,a.ORIGIN,a.DEP_DT,\n",
    "                                    a.OP_CARRIER_FL_NUM,a.OP_UNIQUE_CARRIER\n",
    "                            ;\"\"\")\n",
    "\n",
    "    od_delay_total = od_delay_total.append(od_delay)"
   ]
  },
  {
   "cell_type": "code",
   "execution_count": 25,
   "metadata": {
    "hidden": true
   },
   "outputs": [],
   "source": [
    "od_delay_total['DEP_DT'] = pd.to_datetime(od_delay_total['DEP_DT'])\n",
    "testing_prev = pd.merge(testing_prev,od_delay_total,\n",
    "                         left_on=['OD','ORIGIN', 'DEP_DT', \n",
    "                                  'OP_CARRIER_FL_NUM','OP_UNIQUE_CARRIER'],\n",
    "                         right_on=['OD','ORIGIN', 'DEP_DT',\n",
    "                                  'OP_CARRIER_FL_NUM','OP_UNIQUE_CARRIER'],\n",
    "                         how='left')"
   ]
  },
  {
   "cell_type": "code",
   "execution_count": 26,
   "metadata": {
    "hidden": true
   },
   "outputs": [
    {
     "name": "stdout",
     "output_type": "stream",
     "text": [
      "the number of missing values: 313970\n"
     ]
    }
   ],
   "source": [
    "print('the number of missing values: ' + str(sum(testing_prev['OD_DELAY6'].isnull())))"
   ]
  },
  {
   "cell_type": "code",
   "execution_count": 27,
   "metadata": {
    "hidden": true
   },
   "outputs": [],
   "source": [
    "testing_prev['OD_DELAY6'] = testing_prev['OD_DELAY6'].fillna(0)"
   ]
  },
  {
   "cell_type": "code",
   "execution_count": 28,
   "metadata": {
    "hidden": true
   },
   "outputs": [
    {
     "data": {
      "text/plain": [
       "0"
      ]
     },
     "execution_count": 28,
     "metadata": {},
     "output_type": "execute_result"
    }
   ],
   "source": [
    "sum(testing_prev['OD_DELAY6'].isnull())"
   ]
  },
  {
   "cell_type": "markdown",
   "metadata": {
    "heading_collapsed": true
   },
   "source": [
    "### Minimum Turnaround Time"
   ]
  },
  {
   "cell_type": "code",
   "execution_count": 29,
   "metadata": {
    "hidden": true
   },
   "outputs": [],
   "source": [
    "min5_trn = testing_prev.groupby(['OP_UNIQUE_CARRIER','OP_CARRIER_FL_NUM','ORIGIN','DEST'])['Turnaround_time'].quantile(.05)\n",
    "min5_trn = pd.DataFrame(min5_trn).reset_index()\n",
    "min5_trn['Turnaround_time'] = min5_trn['Turnaround_time'].dt.seconds/60\n",
    "min5_trn.rename({'Turnaround_time':'MIN5_TRN'},axis=1,inplace=True)"
   ]
  },
  {
   "cell_type": "code",
   "execution_count": 30,
   "metadata": {
    "hidden": true
   },
   "outputs": [],
   "source": [
    "testing_prev = pd.merge(testing_prev,min5_trn,\n",
    "                         left_on=['OP_UNIQUE_CARRIER','OP_CARRIER_FL_NUM','ORIGIN','DEST'],\n",
    "                         right_on=['OP_UNIQUE_CARRIER','OP_CARRIER_FL_NUM','ORIGIN','DEST'],\n",
    "                         how = 'left')"
   ]
  },
  {
   "cell_type": "markdown",
   "metadata": {
    "heading_collapsed": true
   },
   "source": [
    "### Turnaround buffer time (EST_TRN - MIN_TRN)"
   ]
  },
  {
   "cell_type": "code",
   "execution_count": 31,
   "metadata": {
    "hidden": true
   },
   "outputs": [],
   "source": [
    "testing_prev['Buff_TRN'] = (testing_prev['EST_TRN'].dt.seconds/60 \n",
    "                            - testing_prev['MIN5_TRN']).apply(lambda x: 0 if x <= 0 else x)"
   ]
  },
  {
   "cell_type": "markdown",
   "metadata": {
    "heading_collapsed": true
   },
   "source": [
    "### Export testing_prev"
   ]
  },
  {
   "cell_type": "code",
   "execution_count": 35,
   "metadata": {
    "hidden": true
   },
   "outputs": [],
   "source": [
    "testing_prev.to_csv('./test/testing.csv')"
   ]
  },
  {
   "cell_type": "markdown",
   "metadata": {},
   "source": [
    "## Prepare for LSTM"
   ]
  },
  {
   "cell_type": "markdown",
   "metadata": {
    "heading_collapsed": true
   },
   "source": [
    "### Preprocessing"
   ]
  },
  {
   "cell_type": "code",
   "execution_count": 36,
   "metadata": {
    "hidden": true
   },
   "outputs": [],
   "source": [
    "Maj_ORI = testing_prev[testing_prev['ORIGIN'].isin(major_apt)]\n",
    "CRS_DEP_DT = Maj_ORI['CRS_DEP_DT']\n",
    "Maj_ORI = pd.DataFrame(Maj_ORI.groupby(['ORIGIN',\n",
    "                                        CRS_DEP_DT.dt.date,\n",
    "                                        CRS_DEP_DT.dt.hour]).agg({'DEP_DELAY':['count','mean']}))\n",
    "Maj_ORI.index.names = ['ORIGIN','CRS_DEP_DT','CRS_DEP_Hr']\n",
    "Maj_ORI = Maj_ORI.reset_index()\n",
    "Maj_ORI.columns = Maj_ORI.columns.droplevel()\n",
    "Maj_ORI.columns = ['ORIGIN','CRS_DEP_DT','CRS_DEP_Hr','DEP_CNT','AVG_DEP_DELAY']"
   ]
  },
  {
   "cell_type": "code",
   "execution_count": 37,
   "metadata": {
    "hidden": true
   },
   "outputs": [],
   "source": [
    "Maj_DEST = testing_prev[testing_prev['DEST'].isin(major_apt)]\n",
    "CRS_ARR_DT = Maj_DEST['CRS_ARR_DT']\n",
    "Maj_DEST = pd.DataFrame(Maj_DEST.groupby(['DEST',\n",
    "                                          CRS_ARR_DT.dt.date,\n",
    "                                          CRS_ARR_DT.dt.hour]).size())\n",
    "Maj_DEST.index.names = ['DEST','CRS_ARR_DT','CRS_ARR_Hr']\n",
    "Maj_DEST = Maj_DEST.reset_index()\n",
    "Maj_DEST.columns = ['DEST','CRS_ARR_DT','CRS_ARR_Hr','ARR_CNT']"
   ]
  },
  {
   "cell_type": "code",
   "execution_count": 44,
   "metadata": {
    "hidden": true
   },
   "outputs": [],
   "source": [
    "from itertools import product\n",
    "base = pd.date_range('2018-09-24', periods=2376, freq='1H')\n",
    "base = list(product(base,major_apt))\n",
    "base_df = pd.DataFrame(base,columns=['CRS_DEP_DT','ORIGIN'])\n",
    "base_df['CRS_DEP_Hr'] = base_df['CRS_DEP_DT'].dt.hour\n",
    "base_df['Weekday'] = base_df['CRS_DEP_DT'].dt.weekday\n",
    "base_df['Month'] = base_df['CRS_DEP_DT'].dt.month\n",
    "base_df['Day'] = base_df['CRS_DEP_DT'].dt.day\n",
    "base_df['CRS_DEP_DT'] = base_df['CRS_DEP_DT'].dt.date"
   ]
  },
  {
   "cell_type": "code",
   "execution_count": 45,
   "metadata": {
    "hidden": true
   },
   "outputs": [],
   "source": [
    "base_df = pd.merge(base_df,Maj_ORI,\n",
    "                   left_on=['ORIGIN','CRS_DEP_DT','CRS_DEP_Hr'],\n",
    "                   right_on=['ORIGIN','CRS_DEP_DT','CRS_DEP_Hr'],\n",
    "                   how='left')"
   ]
  },
  {
   "cell_type": "code",
   "execution_count": 46,
   "metadata": {
    "hidden": true
   },
   "outputs": [],
   "source": [
    "base_df = base_df.fillna(0)"
   ]
  },
  {
   "cell_type": "code",
   "execution_count": 47,
   "metadata": {
    "hidden": true
   },
   "outputs": [],
   "source": [
    "base_df = pd.merge(base_df,Maj_DEST,\n",
    "                   left_on=['ORIGIN','CRS_DEP_DT','CRS_DEP_Hr'],\n",
    "                   right_on=['DEST','CRS_ARR_DT','CRS_ARR_Hr'],\n",
    "                   how='left')"
   ]
  },
  {
   "cell_type": "code",
   "execution_count": 48,
   "metadata": {
    "hidden": true
   },
   "outputs": [],
   "source": [
    "base_df = base_df.fillna(0)\n",
    "base_df.drop(['DEST','CRS_ARR_DT','CRS_ARR_Hr'],axis=1,inplace=True)"
   ]
  },
  {
   "cell_type": "markdown",
   "metadata": {
    "heading_collapsed": true
   },
   "source": [
    "### Merge with the weather data"
   ]
  },
  {
   "cell_type": "code",
   "execution_count": 49,
   "metadata": {
    "hidden": true
   },
   "outputs": [],
   "source": [
    "all_weather = pd.read_csv('all_weather_data.csv')"
   ]
  },
  {
   "cell_type": "code",
   "execution_count": 50,
   "metadata": {
    "hidden": true
   },
   "outputs": [],
   "source": [
    "all_weather['Datetime'] = pd.to_datetime(all_weather['Datetime']).dt.date"
   ]
  },
  {
   "cell_type": "code",
   "execution_count": 51,
   "metadata": {
    "hidden": true
   },
   "outputs": [],
   "source": [
    "all_weather = all_weather[['Airport_name','DewPointC','cloudcover',\n",
    "                           'precipMM','visibility','Datetime','Hour']]"
   ]
  },
  {
   "cell_type": "code",
   "execution_count": 52,
   "metadata": {
    "hidden": true
   },
   "outputs": [],
   "source": [
    "base_wea = pd.merge(base_df,all_weather,\n",
    "                    left_on=['ORIGIN','CRS_DEP_DT','CRS_DEP_Hr'],\n",
    "                    right_on=['Airport_name','Datetime','Hour'],\n",
    "                    how='left') "
   ]
  },
  {
   "cell_type": "code",
   "execution_count": 53,
   "metadata": {
    "hidden": true
   },
   "outputs": [],
   "source": [
    "base_wea.drop(['Airport_name','Datetime','Hour'],axis=1,inplace=True)"
   ]
  },
  {
   "cell_type": "code",
   "execution_count": 54,
   "metadata": {
    "hidden": true
   },
   "outputs": [
    {
     "data": {
      "text/plain": [
       "(80784, 13)"
      ]
     },
     "execution_count": 54,
     "metadata": {},
     "output_type": "execute_result"
    }
   ],
   "source": [
    "base_wea.shape"
   ]
  },
  {
   "cell_type": "markdown",
   "metadata": {
    "heading_collapsed": true
   },
   "source": [
    "### Set average delay to 0 for those hours with only 1 or 2 flights"
   ]
  },
  {
   "cell_type": "code",
   "execution_count": 55,
   "metadata": {
    "hidden": true
   },
   "outputs": [],
   "source": [
    "base_wea['AVG_DEP_DELAY'][base_wea['DEP_CNT'] <= 2] = 0"
   ]
  },
  {
   "cell_type": "markdown",
   "metadata": {
    "heading_collapsed": true
   },
   "source": [
    "### Export LSTM testing"
   ]
  },
  {
   "cell_type": "code",
   "execution_count": 56,
   "metadata": {
    "hidden": true
   },
   "outputs": [],
   "source": [
    "base_wea.to_csv('lstm_testing.csv')"
   ]
  }
 ],
 "metadata": {
  "kernelspec": {
   "display_name": "Python [conda env:Python3]",
   "language": "python",
   "name": "conda-env-Python3-py"
  },
  "language_info": {
   "codemirror_mode": {
    "name": "ipython",
    "version": 3
   },
   "file_extension": ".py",
   "mimetype": "text/x-python",
   "name": "python",
   "nbconvert_exporter": "python",
   "pygments_lexer": "ipython3",
   "version": "3.6.8"
  },
  "toc": {
   "base_numbering": 1,
   "nav_menu": {},
   "number_sections": true,
   "sideBar": true,
   "skip_h1_title": false,
   "title_cell": "Table of Contents",
   "title_sidebar": "Contents",
   "toc_cell": false,
   "toc_position": {},
   "toc_section_display": true,
   "toc_window_display": false
  }
 },
 "nbformat": 4,
 "nbformat_minor": 2
}
