{
 "cells": [
  {
   "cell_type": "markdown",
   "metadata": {
    "heading_collapsed": true
   },
   "source": [
    "## Importing packages and datasets"
   ]
  },
  {
   "cell_type": "code",
   "execution_count": 7,
   "metadata": {
    "hidden": true
   },
   "outputs": [],
   "source": [
    "#!pip install pandasql\n",
    "#!pip install imblearn\n",
    "#!pip install keras\n",
    "#!pip install xgboost"
   ]
  },
  {
   "cell_type": "code",
   "execution_count": 1,
   "metadata": {
    "hidden": true
   },
   "outputs": [
    {
     "name": "stderr",
     "output_type": "stream",
     "text": [
      "Using TensorFlow backend.\n"
     ]
    }
   ],
   "source": [
    "import pandas as pd\n",
    "import matplotlib.pyplot as plt\n",
    "import numpy as np\n",
    "import seaborn as sns\n",
    "from datetime import datetime, timedelta\n",
    "from sklearn.metrics import accuracy_score, recall_score, precision_score, f1_score, roc_curve, roc_auc_score\n",
    "from sklearn.model_selection import StratifiedKFold\n",
    "from itertools import chain\n",
    "from sklearn.utils.class_weight import compute_class_weight\n",
    "from sklearn.model_selection import train_test_split\n",
    "from imblearn.under_sampling import RandomUnderSampler\n",
    "from imblearn.over_sampling import RandomOverSampler\n",
    "from imblearn.over_sampling import SMOTE\n",
    "from sklearn.preprocessing import StandardScaler\n",
    "from sklearn.metrics import confusion_matrix\n",
    "from sklearn.metrics import roc_curve\n",
    "from sklearn.metrics import auc\n",
    "from sklearn.utils.multiclass import unique_labels\n",
    "import xgboost as xgb\n",
    "\n",
    "from keras.utils import np_utils\n",
    "from keras.models import Sequential\n",
    "from keras.layers import Dense,Dropout,BatchNormalization,Activation\n",
    "from keras.models import load_model\n",
    "\n",
    "from pandasql import sqldf\n",
    "pysqldf = lambda q: sqldf(q, globals())\n",
    "\n",
    "Morandi = ['#2D241F','#614E52','#7A6747','#A06A50','#ADAEB2','#69647B',\n",
    "           '#E2CDBC','#A56C41','#B17A7D','#A68782',\n",
    "          '#903B1C','#92ACD1','#D0C1C6','#D6D6D6','#511F1E']\n",
    "\n",
    "major_apt = ['ATL','BOS','BWI','CLT','DCA','DEN','DFW','DTW','EWR','FLL','HNL','IAD',\n",
    "             'IAH','JFK','LAS','LAX','LGA','MCO','MDW','MEM','MIA','MSP','ORD','PHL',\n",
    "             'PHX','PDX','SAN','SEA','SFO','SLC','TPA','LGB','OAK','SNA']\n",
    "\n",
    "pd.set_option('display.max_columns', 500)\n",
    "pd.set_option('display.max_rows', 500)\n",
    "\n",
    "import warnings\n",
    "warnings.simplefilter('ignore')\n",
    "\n",
    "#from helper import *"
   ]
  },
  {
   "cell_type": "code",
   "execution_count": 2,
   "metadata": {
    "hidden": true
   },
   "outputs": [],
   "source": [
    "#!pip install jupyter_contrib_nbextensions\n",
    "#!jupyter contrib nbextension install --user\n",
    "#!jupyter nbextensions_configurator enable --user\n",
    "#!jupyter nbextension enable collapsible_headings/main #install collasible headings\n",
    "#!jupyter nbextension enable toc2/main #install collasible headings"
   ]
  },
  {
   "cell_type": "code",
   "execution_count": 2,
   "metadata": {
    "hidden": true
   },
   "outputs": [],
   "source": [
    "def plot_confusion_matrix(y_true, y_pred, classes,\n",
    "                          normalize=False,\n",
    "                          title=None,\n",
    "                          cmap=plt.cm.Blues):\n",
    "    \"\"\"\n",
    "    This function prints and plots the confusion matrix.\n",
    "    Normalization can be applied by setting `normalize=True`.\n",
    "    \"\"\"\n",
    "    if not title:\n",
    "        if normalize:\n",
    "            title = 'Normalized confusion matrix'\n",
    "        else:\n",
    "            title = 'Confusion matrix, without normalization'\n",
    "\n",
    "    # Compute confusion matrix\n",
    "    cm = confusion_matrix(y_true, y_pred)\n",
    "    # Only use the labels that appear in the data\n",
    "    #classes = classes[unique_labels(y_true, y_pred)]\n",
    "    if normalize:\n",
    "        cm = cm.astype('float') / cm.sum(axis=1)[:, np.newaxis]\n",
    "        print(\"Normalized confusion matrix\")\n",
    "    else:\n",
    "        print('Confusion matrix, without normalization')\n",
    "\n",
    "    print(cm)\n",
    "\n",
    "    fig, ax = plt.subplots()\n",
    "    im = ax.imshow(cm, interpolation='nearest', cmap=cmap)\n",
    "    ax.figure.colorbar(im, ax=ax)\n",
    "    # We want to show all ticks...\n",
    "    ax.set(xticks=np.arange(cm.shape[1]),\n",
    "           yticks=np.arange(cm.shape[0]),\n",
    "           # ... and label them with the respective list entries\n",
    "           xticklabels=classes, yticklabels=classes,\n",
    "           title=title,\n",
    "           ylabel='True label',\n",
    "           xlabel='Predicted label')\n",
    "\n",
    "    # Rotate the tick labels and set their alignment.\n",
    "    plt.setp(ax.get_xticklabels(), rotation=45, ha=\"right\",\n",
    "             rotation_mode=\"anchor\")\n",
    "\n",
    "    # Loop over data dimensions and create text annotations.\n",
    "    fmt = '.2f' if normalize else 'd'\n",
    "    thresh = cm.max() / 2.\n",
    "    for i in range(cm.shape[0]):\n",
    "        for j in range(cm.shape[1]):\n",
    "            ax.text(j, i, format(cm[i, j], fmt),\n",
    "                    ha=\"center\", va=\"center\",\n",
    "                    color=\"white\" if cm[i, j] > thresh else \"black\")\n",
    "    fig.tight_layout()\n",
    "    if normalize:\n",
    "        plt.savefig('./images/cm1.png',dpi=300)\n",
    "    else: \n",
    "        plt.savefig('./images/cm2.png',dpi=300)\n",
    "    return ax"
   ]
  },
  {
   "cell_type": "code",
   "execution_count": 57,
   "metadata": {
    "hidden": true
   },
   "outputs": [],
   "source": [
    "def plot_roc(fpr, tpr,roc_auc):\n",
    "    fig, ax = plt.subplots()\n",
    "    plt.title('Receiver Operating Characteristic')\n",
    "    ax.plot(fpr, tpr, 'b', label = 'AUC = %0.2f' % roc_auc)\n",
    "    plt.legend(loc = 'lower right')\n",
    "    plt.plot([0, 1], [0, 1],'r--')\n",
    "    plt.xlim([0, 1])\n",
    "    plt.ylim([0, 1])\n",
    "    plt.ylabel('True Positive Rate')\n",
    "    plt.xlabel('False Positive Rate')\n",
    "    return ax"
   ]
  },
  {
   "cell_type": "code",
   "execution_count": 2,
   "metadata": {
    "hidden": true
   },
   "outputs": [],
   "source": [
    "datetime_cols = ['CRS_DEP_DT', 'DEP_DELAY_TD', 'CRS_ELAPSED_TD', 'DEP_DT',\n",
    "                'CRS_ARR_DT','ARR_DELAY_TD', 'ARR_DT']"
   ]
  },
  {
   "cell_type": "code",
   "execution_count": 3,
   "metadata": {
    "hidden": true
   },
   "outputs": [],
   "source": [
    "training = pd.read_csv('training.csv',index_col = 0,parse_dates=datetime_cols)"
   ]
  },
  {
   "cell_type": "code",
   "execution_count": 4,
   "metadata": {
    "hidden": true
   },
   "outputs": [
    {
     "data": {
      "text/plain": [
       "(4880865, 43)"
      ]
     },
     "execution_count": 4,
     "metadata": {},
     "output_type": "execute_result"
    }
   ],
   "source": [
    "training.shape"
   ]
  },
  {
   "cell_type": "markdown",
   "metadata": {
    "heading_collapsed": true
   },
   "source": [
    "## Feature Engineering"
   ]
  },
  {
   "cell_type": "markdown",
   "metadata": {
    "heading_collapsed": true,
    "hidden": true
   },
   "source": [
    "### Find previous flights"
   ]
  },
  {
   "cell_type": "code",
   "execution_count": 7,
   "metadata": {
    "hidden": true
   },
   "outputs": [
    {
     "name": "stdout",
     "output_type": "stream",
     "text": [
      "1\n",
      "14\n",
      "27\n",
      "40\n"
     ]
    }
   ],
   "source": [
    "trn_mg_all = pd.DataFrame(columns=['TAIL_NUM', 'DEP_DT', 'ORIGIN', 'DEST', 'ARR_DT'])\n",
    "\n",
    "for i in range(1,53,13):\n",
    "#    trn_mg_ori = training[(training['Week_no']>=i)&(training['Week_no']<i+13)&\n",
    "#                          (training['ORIGIN'].isin(major_apt))][['TAIL_NUM','ORIGIN','DEP_DT']]\n",
    "    trn_mg_ori = training[(training['Week_no']>=i)&(training['Week_no']<i+13)][['TAIL_NUM','ORIGIN','DEP_DT']]\n",
    "#     trn_mg_dest = training[(training['Week_no']>=i)&(training['Week_no']<i+13)&\n",
    "#                           (training['DEST'].isin(major_apt))][['TAIL_NUM','DEST','ARR_DT']]\n",
    "    trn_mg_dest = training[(training['Week_no']>=i)&(training['Week_no']<i+13)][['TAIL_NUM','DEST','ARR_DT']]\n",
    "    \n",
    "    trn_mg = pd.merge(trn_mg_ori,trn_mg_dest,\n",
    "                      left_on=['TAIL_NUM','ORIGIN'],\n",
    "                      right_on=['TAIL_NUM','DEST'],how='inner')\n",
    "    \n",
    "    trn_mg_first = trn_mg[trn_mg['DEP_DT']>\n",
    "                          trn_mg['ARR_DT']].sort_values(by=['TAIL_NUM','DEP_DT','ARR_DT'],\n",
    "                                                        ascending=[True,True,False])\n",
    "    \n",
    "    trn_mg_first = trn_mg_first.groupby(['TAIL_NUM','DEP_DT']).first().reset_index()\n",
    "    \n",
    "    trn_mg_all = trn_mg_all.append(trn_mg_first)\n",
    "    \n",
    "    print(i)"
   ]
  },
  {
   "cell_type": "code",
   "execution_count": 8,
   "metadata": {
    "hidden": true
   },
   "outputs": [],
   "source": [
    "trn_mg_all.reset_index(drop=True,inplace=True)"
   ]
  },
  {
   "cell_type": "code",
   "execution_count": 9,
   "metadata": {
    "hidden": true
   },
   "outputs": [],
   "source": [
    "trn_mg_all['Turnaround_time'] = trn_mg_all['DEP_DT'] - trn_mg_all['ARR_DT']"
   ]
  },
  {
   "cell_type": "code",
   "execution_count": 10,
   "metadata": {
    "hidden": true
   },
   "outputs": [
    {
     "data": {
      "text/html": [
       "<div>\n",
       "<style scoped>\n",
       "    .dataframe tbody tr th:only-of-type {\n",
       "        vertical-align: middle;\n",
       "    }\n",
       "\n",
       "    .dataframe tbody tr th {\n",
       "        vertical-align: top;\n",
       "    }\n",
       "\n",
       "    .dataframe thead th {\n",
       "        text-align: right;\n",
       "    }\n",
       "</style>\n",
       "<table border=\"1\" class=\"dataframe\">\n",
       "  <thead>\n",
       "    <tr style=\"text-align: right;\">\n",
       "      <th></th>\n",
       "      <th>TAIL_NUM</th>\n",
       "      <th>DEP_DT</th>\n",
       "      <th>ORIGIN</th>\n",
       "      <th>DEST</th>\n",
       "      <th>ARR_DT</th>\n",
       "      <th>Turnaround_time</th>\n",
       "    </tr>\n",
       "  </thead>\n",
       "  <tbody>\n",
       "    <tr>\n",
       "      <th>0</th>\n",
       "      <td>215NV</td>\n",
       "      <td>2018-01-01 08:26:00</td>\n",
       "      <td>MEM</td>\n",
       "      <td>MEM</td>\n",
       "      <td>2018-01-01 07:48:00</td>\n",
       "      <td>00:38:00</td>\n",
       "    </tr>\n",
       "    <tr>\n",
       "      <th>1</th>\n",
       "      <td>215NV</td>\n",
       "      <td>2018-01-01 12:46:00</td>\n",
       "      <td>FLL</td>\n",
       "      <td>FLL</td>\n",
       "      <td>2018-01-01 11:44:00</td>\n",
       "      <td>01:02:00</td>\n",
       "    </tr>\n",
       "    <tr>\n",
       "      <th>2</th>\n",
       "      <td>215NV</td>\n",
       "      <td>2018-01-01 15:31:00</td>\n",
       "      <td>GSP</td>\n",
       "      <td>GSP</td>\n",
       "      <td>2018-01-01 14:51:00</td>\n",
       "      <td>00:40:00</td>\n",
       "    </tr>\n",
       "    <tr>\n",
       "      <th>3</th>\n",
       "      <td>215NV</td>\n",
       "      <td>2018-01-01 18:53:00</td>\n",
       "      <td>FLL</td>\n",
       "      <td>FLL</td>\n",
       "      <td>2018-01-01 17:32:00</td>\n",
       "      <td>01:21:00</td>\n",
       "    </tr>\n",
       "    <tr>\n",
       "      <th>4</th>\n",
       "      <td>215NV</td>\n",
       "      <td>2018-01-01 21:42:00</td>\n",
       "      <td>ORF</td>\n",
       "      <td>ORF</td>\n",
       "      <td>2018-01-01 20:58:00</td>\n",
       "      <td>00:44:00</td>\n",
       "    </tr>\n",
       "  </tbody>\n",
       "</table>\n",
       "</div>"
      ],
      "text/plain": [
       "  TAIL_NUM              DEP_DT ORIGIN DEST              ARR_DT Turnaround_time\n",
       "0    215NV 2018-01-01 08:26:00    MEM  MEM 2018-01-01 07:48:00        00:38:00\n",
       "1    215NV 2018-01-01 12:46:00    FLL  FLL 2018-01-01 11:44:00        01:02:00\n",
       "2    215NV 2018-01-01 15:31:00    GSP  GSP 2018-01-01 14:51:00        00:40:00\n",
       "3    215NV 2018-01-01 18:53:00    FLL  FLL 2018-01-01 17:32:00        01:21:00\n",
       "4    215NV 2018-01-01 21:42:00    ORF  ORF 2018-01-01 20:58:00        00:44:00"
      ]
     },
     "execution_count": 10,
     "metadata": {},
     "output_type": "execute_result"
    }
   ],
   "source": [
    "trn_mg_all.head()"
   ]
  },
  {
   "cell_type": "markdown",
   "metadata": {
    "hidden": true
   },
   "source": [
    "#### Merged back to the training set"
   ]
  },
  {
   "cell_type": "code",
   "execution_count": 11,
   "metadata": {
    "hidden": true
   },
   "outputs": [],
   "source": [
    "training_prev = pd.merge(training,trn_mg_all,\n",
    "                         left_on=['TAIL_NUM','ORIGIN','DEP_DT'],\n",
    "                         right_on=['TAIL_NUM','ORIGIN','DEP_DT'],\n",
    "                         how='inner',\n",
    "                         suffixes=('','_prev'))"
   ]
  },
  {
   "cell_type": "code",
   "execution_count": 12,
   "metadata": {
    "hidden": true
   },
   "outputs": [],
   "source": [
    "training_prev = pd.merge(training_prev,\n",
    "                         training_prev[['TAIL_NUM','DEST','ARR_DT','CRS_ARR_DT','DISTANCE','DEP_DELAY']],\n",
    "                         left_on=['TAIL_NUM','ORIGIN','ARR_DT_prev'],\n",
    "                         right_on=['TAIL_NUM','DEST','ARR_DT'],\n",
    "                         how='inner',\n",
    "                         suffixes=('','_prev'))"
   ]
  },
  {
   "cell_type": "markdown",
   "metadata": {
    "heading_collapsed": true,
    "hidden": true
   },
   "source": [
    "### Create dependent variables"
   ]
  },
  {
   "cell_type": "code",
   "execution_count": 13,
   "metadata": {
    "hidden": true
   },
   "outputs": [],
   "source": [
    "bins = [float('-Inf'),15,45,float('Inf')]\n",
    "training_prev['DEP_DELAY_CAT'] = pd.cut(training_prev['DEP_DELAY'],bins=bins,\n",
    "                                       labels=[0, 1, 2])"
   ]
  },
  {
   "cell_type": "code",
   "execution_count": 14,
   "metadata": {
    "hidden": true
   },
   "outputs": [
    {
     "data": {
      "text/plain": [
       "0    3913141\n",
       "1     450291\n",
       "2     413212\n",
       "Name: DEP_DELAY_CAT, dtype: int64"
      ]
     },
     "execution_count": 14,
     "metadata": {},
     "output_type": "execute_result"
    }
   ],
   "source": [
    "training_prev['DEP_DELAY_CAT'].value_counts()"
   ]
  },
  {
   "cell_type": "code",
   "execution_count": 15,
   "metadata": {
    "hidden": true
   },
   "outputs": [],
   "source": [
    "def binarise(data):\n",
    "    if data <= 15:\n",
    "        return 0\n",
    "    else:\n",
    "        return 1\n",
    "    \n",
    "training_prev['DEP_DELAY_BI'] = training_prev['DEP_DELAY'].apply(binarise)"
   ]
  },
  {
   "cell_type": "markdown",
   "metadata": {
    "heading_collapsed": true,
    "hidden": true
   },
   "source": [
    "### Airport average delay in the last 6 hours"
   ]
  },
  {
   "cell_type": "code",
   "execution_count": 11,
   "metadata": {
    "hidden": true
   },
   "outputs": [],
   "source": [
    "training_prev['Last2'] = training_prev['CRS_DEP_DT'] - timedelta(seconds=60*60*2)\n",
    "training_prev['Last8'] = training_prev['CRS_DEP_DT'] - timedelta(seconds=60*60*8)\n",
    "training_prev['Last14'] = training_prev['CRS_DEP_DT'] - timedelta(seconds=60*60*14)"
   ]
  },
  {
   "cell_type": "code",
   "execution_count": 12,
   "metadata": {
    "hidden": true,
    "scrolled": true
   },
   "outputs": [
    {
     "name": "stdout",
     "output_type": "stream",
     "text": [
      "1\n",
      "2\n",
      "3\n",
      "4\n",
      "5\n",
      "6\n",
      "7\n",
      "8\n",
      "9\n",
      "10\n",
      "11\n",
      "12\n",
      "13\n",
      "14\n",
      "15\n",
      "16\n",
      "17\n",
      "18\n",
      "19\n",
      "20\n",
      "21\n",
      "22\n",
      "23\n",
      "25\n",
      "26\n",
      "27\n",
      "28\n",
      "29\n",
      "30\n",
      "31\n",
      "32\n",
      "33\n",
      "34\n",
      "35\n",
      "36\n",
      "37\n",
      "38\n",
      "39\n",
      "40\n",
      "41\n",
      "42\n",
      "43\n",
      "44\n",
      "45\n",
      "46\n",
      "47\n",
      "48\n",
      "49\n",
      "50\n",
      "51\n",
      "52\n"
     ]
    }
   ],
   "source": [
    "apr_avg_delay = pd.DataFrame(columns=['ORIGIN', 'DEP_DT', 'OP_CARRIER_FL_NUM', \n",
    "                                      'OP_UNIQUE_CARRIER','AVG_DELAY6'])\n",
    "for i in range(1,53,1):\n",
    "    pre_mg1 = training_prev[(training_prev['Week_no']>=i)&\n",
    "                           (training_prev['Week_no']<i+1)][['ORIGIN','Last2','Last8','DEP_DT',\n",
    "                                                            'OP_CARRIER_FL_NUM',\n",
    "                                                            'OP_UNIQUE_CARRIER']]\n",
    "    \n",
    "    pre_mg2 = training_prev[(training_prev['Week_no']>=i-1)&\n",
    "                           (training_prev['Week_no']<i+1)][['ORIGIN','DEP_DT','DEP_DELAY']]\n",
    "    \n",
    "    avg_delay = pysqldf(\"\"\"SELECT a.ORIGIN,\n",
    "                                  a.DEP_DT,\n",
    "                                  a.OP_CARRIER_FL_NUM,\n",
    "                                  a.OP_UNIQUE_CARRIER,\n",
    "                                  avg(a.DEP_DELAY) as AVG_DELAY6\n",
    "                           FROM \n",
    "                              (SELECT *\n",
    "                               FROM pre_mg1 a \n",
    "                                    INNER JOIN pre_mg2 b \n",
    "                                    on a.ORIGIN = b.ORIGIN\n",
    "                                       and a.Last2 >= b.DEP_DT\n",
    "                                       and a.Last8 <= b.DEP_DT) a\n",
    "                            GROUP BY a.ORIGIN,a.DEP_DT,\n",
    "                                     a.OP_CARRIER_FL_NUM,a.OP_UNIQUE_CARRIER\n",
    "                            ;\"\"\")\n",
    "\n",
    "    apr_avg_delay = apr_avg_delay.append(avg_delay)\n",
    "    \n",
    "    print(i)"
   ]
  },
  {
   "cell_type": "code",
   "execution_count": 15,
   "metadata": {
    "hidden": true
   },
   "outputs": [],
   "source": [
    "apr_avg_delay.to_csv('apr_avg_delay.csv')"
   ]
  },
  {
   "cell_type": "code",
   "execution_count": 16,
   "metadata": {
    "hidden": true
   },
   "outputs": [],
   "source": [
    "apr_avg_delay = pd.read_csv('apr_avg_delay.csv',index_col=0)"
   ]
  },
  {
   "cell_type": "code",
   "execution_count": 17,
   "metadata": {
    "hidden": true
   },
   "outputs": [],
   "source": [
    "# Merge back to the training_prev \n",
    "apr_avg_delay['DEP_DT'] = pd.to_datetime(apr_avg_delay['DEP_DT'])\n",
    "training_prev = pd.merge(training_prev,apr_avg_delay,\n",
    "                         left_on=['ORIGIN', 'DEP_DT', \n",
    "                                  'OP_CARRIER_FL_NUM','OP_UNIQUE_CARRIER'],\n",
    "                         right_on=['ORIGIN', 'DEP_DT',\n",
    "                                  'OP_CARRIER_FL_NUM','OP_UNIQUE_CARRIER'],\n",
    "                         how='left',\n",
    "                         suffixes=('','_day'))"
   ]
  },
  {
   "cell_type": "code",
   "execution_count": 18,
   "metadata": {
    "hidden": true
   },
   "outputs": [
    {
     "data": {
      "text/plain": [
       "(287331, 54)"
      ]
     },
     "execution_count": 18,
     "metadata": {},
     "output_type": "execute_result"
    }
   ],
   "source": [
    "# 32520 rows don't have avg_delay for the last 12 hours due to no flights in the airport \n",
    "training_prev[training_prev['AVG_DELAY6'].isnull()].shape"
   ]
  },
  {
   "cell_type": "code",
   "execution_count": 19,
   "metadata": {
    "hidden": true
   },
   "outputs": [],
   "source": [
    "# fill the missing value with 0 since if it is missing, it normally means there is no flights\n",
    "training_prev['AVG_DELAY6'] = training_prev['AVG_DELAY6'].fillna(0)"
   ]
  },
  {
   "cell_type": "code",
   "execution_count": 20,
   "metadata": {
    "hidden": true
   },
   "outputs": [
    {
     "data": {
      "text/plain": [
       "0"
      ]
     },
     "execution_count": 20,
     "metadata": {},
     "output_type": "execute_result"
    }
   ],
   "source": [
    "sum(training_prev['AVG_DELAY6'].isnull())"
   ]
  },
  {
   "cell_type": "markdown",
   "metadata": {
    "heading_collapsed": true,
    "hidden": true
   },
   "source": [
    "### Estimated turnaround time"
   ]
  },
  {
   "cell_type": "code",
   "execution_count": 22,
   "metadata": {
    "hidden": true
   },
   "outputs": [],
   "source": [
    "training_prev['EST_TRN'] = training_prev['CRS_DEP_DT'] - training_prev['CRS_ARR_DT_prev']"
   ]
  },
  {
   "cell_type": "markdown",
   "metadata": {
    "heading_collapsed": true,
    "hidden": true
   },
   "source": [
    "### Future airport delay status from the LSTM model"
   ]
  },
  {
   "cell_type": "code",
   "execution_count": 24,
   "metadata": {
    "hidden": true
   },
   "outputs": [],
   "source": [
    "base_ready = pd.read_csv('base_ready.csv',index_col=0)\n",
    "base_ready = base_ready[['ORIGIN','CRS_DEP_DT','CRS_DEP_Hr','Prediction','DEP_CNT','ARR_CNT']]\n",
    "base_ready.rename({'Prediction':'ARP_DELAY'},axis=1,inplace=True)"
   ]
  },
  {
   "cell_type": "code",
   "execution_count": 26,
   "metadata": {
    "hidden": true
   },
   "outputs": [],
   "source": [
    "training_prev.loc[:,'CRS_DEP_Hr'] = training_prev.loc[:,'CRS_DEP_DT'].dt.hour\n",
    "training_prev = pd.merge(training_prev,base_ready,\n",
    "                         left_on=['ORIGIN','FL_DATE','CRS_DEP_Hr'],\n",
    "                         right_on=['ORIGIN','CRS_DEP_DT','CRS_DEP_Hr'],\n",
    "                         how='inner')"
   ]
  },
  {
   "cell_type": "code",
   "execution_count": 28,
   "metadata": {
    "hidden": true
   },
   "outputs": [
    {
     "data": {
      "text/plain": [
       "(3342691, 60)"
      ]
     },
     "execution_count": 28,
     "metadata": {},
     "output_type": "execute_result"
    }
   ],
   "source": [
    "training_prev.shape"
   ]
  },
  {
   "cell_type": "code",
   "execution_count": 29,
   "metadata": {
    "hidden": true
   },
   "outputs": [],
   "source": [
    "training_prev.rename({'CRS_DEP_DT_x':'CRS_DEP_DT'},axis=1,inplace=True)\n",
    "training_prev.drop(['CRS_DEP_Hr', 'CRS_DEP_DT_y'],axis=1,inplace=True)"
   ]
  },
  {
   "cell_type": "code",
   "execution_count": 30,
   "metadata": {
    "hidden": true
   },
   "outputs": [
    {
     "data": {
      "text/plain": [
       "Index(['FL_DATE', 'OP_UNIQUE_CARRIER', 'TAIL_NUM', 'OP_CARRIER_FL_NUM',\n",
       "       'ORIGIN_AIRPORT_ID', 'ORIGIN', 'DEST_AIRPORT_ID', 'DEST', 'DEP_DELAY',\n",
       "       'ARR_DELAY', 'CRS_ELAPSED_TIME', 'ACTUAL_ELAPSED_TIME', 'AIR_TIME',\n",
       "       'DISTANCE', 'CRS_DEP_DT', 'DEP_DELAY_TD', 'CRS_ELAPSED_TD', 'DEP_DT',\n",
       "       'Weekday', 'Month', 'Day', 'Week_no', 'CRS_ARR_DT', 'ARR_DELAY_TD',\n",
       "       'ARR_DT', 'DewPointC', 'FeelsLikeC', 'HeatIndexC', 'WindChillC',\n",
       "       'WindGustKmph', 'cloudcover', 'humidity', 'precipMM', 'pressure',\n",
       "       'tempC', 'uvIndex', 'visibility', 'winddir16Point', 'winddirDegree',\n",
       "       'windspeedKmph', 'weatherDesc_new', 'Wide', 'Year', 'DEST_prev',\n",
       "       'ARR_DT_prev', 'Turnaround_time', 'DEST_prev', 'ARR_DT_prev',\n",
       "       'CRS_ARR_DT_prev', 'DISTANCE_prev', 'DEP_DELAY_prev', 'DEP_DELAY_CAT',\n",
       "       'DEP_DELAY_BI', 'AVG_DELAY6', 'EST_TRN', 'ARP_DELAY', 'DEP_CNT',\n",
       "       'ARR_CNT'],\n",
       "      dtype='object')"
      ]
     },
     "execution_count": 30,
     "metadata": {},
     "output_type": "execute_result"
    }
   ],
   "source": [
    "training_prev.columns"
   ]
  },
  {
   "cell_type": "markdown",
   "metadata": {
    "heading_collapsed": true,
    "hidden": true
   },
   "source": [
    "### OD-pair delay status"
   ]
  },
  {
   "cell_type": "code",
   "execution_count": 7,
   "metadata": {
    "hidden": true
   },
   "outputs": [],
   "source": [
    "def get_od_name(x):\n",
    "    if x['ORIGIN'] > x['DEST']:\n",
    "        return x['DEST'] + '-' + x['ORIGIN']\n",
    "    elif x['ORIGIN'] < x['DEST']:\n",
    "        return x['ORIGIN'] + '-' + x['DEST']\n",
    "\n",
    "training_prev['OD'] = training_prev[['ORIGIN','DEST']].apply(get_od_name,axis=1)"
   ]
  },
  {
   "cell_type": "code",
   "execution_count": 8,
   "metadata": {
    "hidden": true
   },
   "outputs": [],
   "source": [
    "training_prev['Last2'] = training_prev['CRS_DEP_DT'] - timedelta(seconds=60*60*2)\n",
    "training_prev['Last8'] = training_prev['CRS_DEP_DT'] - timedelta(seconds=60*60*8)"
   ]
  },
  {
   "cell_type": "code",
   "execution_count": 9,
   "metadata": {
    "hidden": true
   },
   "outputs": [],
   "source": [
    "od_delay_total = pd.DataFrame(columns=['OD', 'ORIGIN', 'DEP_DT', 'OP_CARRIER_FL_NUM',\n",
    "                                       'OP_UNIQUE_CARRIER','OD_DELAY6'])\n",
    "for i in range(1,53,4):\n",
    "    pre_mg1 = training_prev[(training_prev['Week_no']>=i)&\n",
    "                           (training_prev['Week_no']<i+4)][['OD','ORIGIN','Last2','Last8','DEP_DT',\n",
    "                                                            'OP_CARRIER_FL_NUM',\n",
    "                                                            'OP_UNIQUE_CARRIER']]\n",
    "    \n",
    "    pre_mg2 = training_prev[(training_prev['Week_no']>=i-1)&\n",
    "                           (training_prev['Week_no']<i+4)][['OD','ORIGIN','DEP_DT','DEP_DELAY']]\n",
    "    \n",
    "    od_delay = pysqldf(\"\"\"SELECT a.OD,\n",
    "                                  a.ORIGIN,\n",
    "                                  a.DEP_DT,\n",
    "                                  a.OP_CARRIER_FL_NUM,\n",
    "                                  a.OP_UNIQUE_CARRIER,\n",
    "                                  avg(a.DEP_DELAY) as OD_DELAY6\n",
    "                           FROM \n",
    "                              (SELECT a.*,\n",
    "                                      b.DEP_DELAY\n",
    "                               FROM pre_mg1 a \n",
    "                                    INNER JOIN pre_mg2 b \n",
    "                                    on a.OD = b.OD\n",
    "                                       and a.Last2 >= b.DEP_DT\n",
    "                                       and a.Last8 <= b.DEP_DT) a\n",
    "                           GROUP BY a.OD,a.ORIGIN,a.DEP_DT,\n",
    "                                    a.OP_CARRIER_FL_NUM,a.OP_UNIQUE_CARRIER\n",
    "                            ;\"\"\")\n",
    "\n",
    "    od_delay_total = od_delay_total.append(od_delay)"
   ]
  },
  {
   "cell_type": "code",
   "execution_count": 10,
   "metadata": {
    "hidden": true
   },
   "outputs": [],
   "source": [
    "od_delay_total['DEP_DT'] = pd.to_datetime(od_delay_total['DEP_DT'])\n",
    "training_prev = pd.merge(training_prev,od_delay_total,\n",
    "                         left_on=['OD','ORIGIN', 'DEP_DT', \n",
    "                                  'OP_CARRIER_FL_NUM','OP_UNIQUE_CARRIER'],\n",
    "                         right_on=['OD','ORIGIN', 'DEP_DT',\n",
    "                                  'OP_CARRIER_FL_NUM','OP_UNIQUE_CARRIER'],\n",
    "                         how='left')"
   ]
  },
  {
   "cell_type": "code",
   "execution_count": 11,
   "metadata": {
    "hidden": true
   },
   "outputs": [
    {
     "name": "stdout",
     "output_type": "stream",
     "text": [
      "the number of missing values: 779310\n"
     ]
    }
   ],
   "source": [
    "print('the number of missing values: ' + str(sum(training_prev['OD_DELAY6'].isnull()))) #due to no flights in the OD during the time"
   ]
  },
  {
   "cell_type": "code",
   "execution_count": 12,
   "metadata": {
    "hidden": true
   },
   "outputs": [],
   "source": [
    "# fill the missing value with 0 since if it is missing, it normally means there is no flights\n",
    "training_prev['OD_DELAY6'] = training_prev['OD_DELAY6'].fillna(0)"
   ]
  },
  {
   "cell_type": "code",
   "execution_count": 13,
   "metadata": {
    "hidden": true
   },
   "outputs": [
    {
     "data": {
      "text/plain": [
       "0"
      ]
     },
     "execution_count": 13,
     "metadata": {},
     "output_type": "execute_result"
    }
   ],
   "source": [
    "sum(training_prev['OD_DELAY6'].isnull())"
   ]
  },
  {
   "cell_type": "markdown",
   "metadata": {
    "heading_collapsed": true,
    "hidden": true
   },
   "source": [
    "### One-hot encoding for airlines and weather description"
   ]
  },
  {
   "cell_type": "code",
   "execution_count": 9,
   "metadata": {
    "hidden": true
   },
   "outputs": [],
   "source": [
    "# get one-hot encoding columns for airlines\n",
    "op_dum = pd.get_dummies(training_prev['OP_UNIQUE_CARRIER'],drop_first=True)\n",
    "training_prev = pd.concat([training_prev,op_dum],axis=1)"
   ]
  },
  {
   "cell_type": "code",
   "execution_count": 10,
   "metadata": {
    "hidden": true
   },
   "outputs": [],
   "source": [
    "# get one-hot encoding columns for weather descriptions\n",
    "training_prev['MHFRain'] = (training_prev['weatherDesc_new'] == 'Moderate or heavy freezing rain').apply(int)\n",
    "training_prev['IcePellets'] = (training_prev['weatherDesc_new'] == 'Ice pellets').apply(int)\n",
    "training_prev['Blizzard'] = (training_prev['weatherDesc_new'] == 'Blizzard').apply(int)\n",
    "training_prev['HeavyRain'] = (training_prev['weatherDesc_new'] == 'Heavy rain').apply(int)\n",
    "training_prev['MHSleet'] = (training_prev['weatherDesc_new'] == 'Moderate or heavy sleet').apply(int)\n",
    "training_prev['HeavySnow'] = (training_prev['weatherDesc_new'] == 'Heavy snow').apply(int)"
   ]
  },
  {
   "cell_type": "markdown",
   "metadata": {
    "heading_collapsed": true,
    "hidden": true
   },
   "source": [
    "### Estimated minimum turnaround time"
   ]
  },
  {
   "cell_type": "code",
   "execution_count": 12,
   "metadata": {
    "hidden": true,
    "scrolled": true
   },
   "outputs": [],
   "source": [
    "min5_trn = training_prev.groupby(['OP_UNIQUE_CARRIER','OP_CARRIER_FL_NUM','ORIGIN','DEST'])['Turnaround_time'].quantile(.05)\n",
    "min5_trn = pd.DataFrame(min5_trn).reset_index()\n",
    "min5_trn['Turnaround_time'] = min5_trn['Turnaround_time'].dt.seconds/60\n",
    "min5_trn.rename({'Turnaround_time':'MIN5_TRN'},axis=1,inplace=True)"
   ]
  },
  {
   "cell_type": "code",
   "execution_count": 13,
   "metadata": {
    "hidden": true
   },
   "outputs": [],
   "source": [
    "training_prev = pd.merge(training_prev,min5_trn,\n",
    "                         left_on=['OP_UNIQUE_CARRIER','OP_CARRIER_FL_NUM','ORIGIN','DEST'],\n",
    "                         right_on=['OP_UNIQUE_CARRIER','OP_CARRIER_FL_NUM','ORIGIN','DEST'],\n",
    "                         how = 'left')"
   ]
  },
  {
   "cell_type": "markdown",
   "metadata": {
    "heading_collapsed": true,
    "hidden": true
   },
   "source": [
    "### Turnaround buffer time (EST_TRN - MIN_TRN)"
   ]
  },
  {
   "cell_type": "code",
   "execution_count": 14,
   "metadata": {
    "hidden": true
   },
   "outputs": [],
   "source": [
    "training_prev['Buff_TRN'] = (training_prev['EST_TRN'].dt.seconds/60 \n",
    "                             - training_prev['MIN5_TRN']).apply(lambda x: 0 if x <= 0 else x)"
   ]
  },
  {
   "cell_type": "markdown",
   "metadata": {
    "heading_collapsed": true,
    "hidden": true
   },
   "source": [
    "### Export training_prev.csv"
   ]
  },
  {
   "cell_type": "code",
   "execution_count": 16,
   "metadata": {
    "hidden": true
   },
   "outputs": [],
   "source": [
    "training_prev.to_csv('training_prev.csv')"
   ]
  },
  {
   "cell_type": "code",
   "execution_count": 3,
   "metadata": {
    "hidden": true
   },
   "outputs": [],
   "source": [
    "datetime_cols = ['CRS_DEP_DT','DEP_DELAY_TD','CRS_ELAPSED_TD','DEP_DT',\n",
    "                 'CRS_ARR_DT','ARR_DELAY_TD','ARR_DT','ARR_DT_prev']"
   ]
  },
  {
   "cell_type": "code",
   "execution_count": 4,
   "metadata": {
    "hidden": true,
    "scrolled": true
   },
   "outputs": [],
   "source": [
    "training_prev = pd.read_csv('training_prev.csv',index_col = 0, parse_dates = datetime_cols)"
   ]
  },
  {
   "cell_type": "code",
   "execution_count": 5,
   "metadata": {
    "hidden": true
   },
   "outputs": [],
   "source": [
    "TD_cols = ['DEP_DELAY_TD', 'CRS_ELAPSED_TD',\n",
    "           'ARR_DELAY_TD','Turnaround_time','EST_TRN']\n",
    "for i in TD_cols:\n",
    "    training_prev.loc[:,i] = pd.to_timedelta(training_prev.loc[:,i])"
   ]
  },
  {
   "cell_type": "code",
   "execution_count": 6,
   "metadata": {
    "hidden": true
   },
   "outputs": [
    {
     "data": {
      "text/plain": [
       "(3342691, 85)"
      ]
     },
     "execution_count": 6,
     "metadata": {},
     "output_type": "execute_result"
    }
   ],
   "source": [
    "training_prev.shape"
   ]
  },
  {
   "cell_type": "code",
   "execution_count": 7,
   "metadata": {
    "hidden": true
   },
   "outputs": [
    {
     "data": {
      "text/plain": [
       "Index(['FL_DATE', 'OP_UNIQUE_CARRIER', 'TAIL_NUM', 'OP_CARRIER_FL_NUM',\n",
       "       'ORIGIN_AIRPORT_ID', 'ORIGIN', 'DEST_AIRPORT_ID', 'DEST', 'DEP_DELAY',\n",
       "       'ARR_DELAY', 'CRS_ELAPSED_TIME', 'ACTUAL_ELAPSED_TIME', 'AIR_TIME',\n",
       "       'DISTANCE', 'CRS_DEP_DT', 'DEP_DELAY_TD', 'CRS_ELAPSED_TD', 'DEP_DT',\n",
       "       'Weekday', 'Month', 'Day', 'Week_no', 'CRS_ARR_DT', 'ARR_DELAY_TD',\n",
       "       'ARR_DT', 'DewPointC', 'FeelsLikeC', 'HeatIndexC', 'WindChillC',\n",
       "       'WindGustKmph', 'cloudcover', 'humidity', 'precipMM', 'pressure',\n",
       "       'tempC', 'uvIndex', 'visibility', 'winddir16Point', 'winddirDegree',\n",
       "       'windspeedKmph', 'weatherDesc_new', 'Wide', 'Year', 'DEST_prev',\n",
       "       'ARR_DT_prev', 'Turnaround_time', 'CRS_ARR_DT_prev', 'DISTANCE_prev',\n",
       "       'DEP_DELAY_prev', 'DEP_DELAY_CAT', 'DEP_DELAY_BI', 'AVG_DELAY6',\n",
       "       'EST_TRN', 'ARP_DELAY', 'DEP_CNT', 'ARR_CNT', 'OD', 'Last2', 'Last8',\n",
       "       'OD_DELAY6', 'AA', 'AS', 'B6', 'DL', 'EV', 'F9', 'G4', 'HA', 'MQ', 'NK',\n",
       "       'OH', 'OO', 'UA', 'VX', 'WN', 'YV', 'YX', 'MHFRain', 'IcePellets',\n",
       "       'Blizzard', 'HeavyRain', 'MHSleet', 'HeavySnow', 'MIN5_TRN',\n",
       "       'Buff_TRN'],\n",
       "      dtype='object')"
      ]
     },
     "execution_count": 7,
     "metadata": {},
     "output_type": "execute_result"
    }
   ],
   "source": [
    "training_prev.columns"
   ]
  },
  {
   "cell_type": "markdown",
   "metadata": {
    "heading_collapsed": true
   },
   "source": [
    "## Create a baseline model"
   ]
  },
  {
   "cell_type": "markdown",
   "metadata": {
    "heading_collapsed": true,
    "hidden": true
   },
   "source": [
    "### Build input dataset"
   ]
  },
  {
   "cell_type": "code",
   "execution_count": 8,
   "metadata": {
    "hidden": true
   },
   "outputs": [],
   "source": [
    "features = ['CRS_ELAPSED_TD','DISTANCE','CRS_DEP_DT','CRS_ARR_DT','DEP_DELAY_prev','AVG_DELAY6','ARP_DELAY','Month', 'EST_TRN', 'WN', \n",
    "            'OD_DELAY6','MIN5_TRN','Buff_TRN','DewPointC','windspeedKmph', 'cloudcover','humidity', 'pressure','tempC','Weekday']\n",
    "features1 = ['CRS_ELAPSED_TD','CRS_DEP_DT','CRS_ARR_DT','DewPointC','DEP_DELAY_prev','AVG_DELAY6','ARP_DELAY','Month',\n",
    "             'EST_TRN','OD_DELAY6','MIN5_TRN','Buff_TRN','DISTANCE','cloudcover']\n",
    "features2 = ['CRS_ELAPSED_TD','CRS_DEP_DT','CRS_ARR_DT','DewPointC','DEP_DELAY_prev','AVG_DELAY6','Month',\n",
    "             'EST_TRN','OD_DELAY6','MIN5_TRN','Buff_TRN','DISTANCE','cloudcover']\n",
    "training_input = training_prev[features2]\n",
    "training_input.loc[:,'CRS_ELAPSED_TD'] = training_input.loc[:,'CRS_ELAPSED_TD'].dt.seconds/60\n",
    "training_input.loc[:,'EST_TRN'] = training_input.loc[:,'EST_TRN'].dt.seconds/60\n",
    "training_input.loc[:,'CRS_DEP_DT'] = training_input.loc[:,'CRS_DEP_DT'].dt.hour\n",
    "training_input.loc[:,'CRS_ARR_DT'] = training_input.loc[:,'CRS_ARR_DT'].dt.hour\n",
    "#training_input.loc[:,'DEP_DELAY_TD_prev'] = training_input.loc[:,'DEP_DELAY_TD_prev'].dt.seconds/60"
   ]
  },
  {
   "cell_type": "code",
   "execution_count": 9,
   "metadata": {
    "hidden": true
   },
   "outputs": [],
   "source": [
    "dummy_y = np_utils.to_categorical(training_prev['DEP_DELAY_CAT'])\n",
    "\n",
    "# consistent with the LSTM model, using August and September as testing data\n",
    "train_ix = training_input[~training_input['Month'].isin([8,9])].index\n",
    "test_ix = training_input[training_input['Month'].isin([8,9])].index\n",
    "\n",
    "X_train = training_input.iloc[train_ix,:]\n",
    "y_train = training_prev['DEP_DELAY_BI'][train_ix]\n",
    "#y_train = dummy_y[train_ix]\n",
    "\n",
    "X_test = training_input.iloc[test_ix,:]\n",
    "y_test = training_prev['DEP_DELAY_BI'][test_ix]\n",
    "#y_test = dummy_y[test_ix]"
   ]
  },
  {
   "cell_type": "code",
   "execution_count": 50,
   "metadata": {
    "hidden": true
   },
   "outputs": [],
   "source": [
    "#from sklearn.model_selection import train_test_split\n",
    "#X_train, X_test, y_train, y_test = train_test_split(training_input,\n",
    "#                                                    training_prev['DEP_DELAY_CAT'],\n",
    "#                                                    test_size=0.33, random_state=42)"
   ]
  },
  {
   "cell_type": "markdown",
   "metadata": {
    "heading_collapsed": true,
    "hidden": true
   },
   "source": [
    "### Under-sampling/over-sampling"
   ]
  },
  {
   "cell_type": "code",
   "execution_count": 30,
   "metadata": {
    "hidden": true
   },
   "outputs": [],
   "source": [
    "cat_cnt = training_prev['DEP_DELAY_BI'].value_counts()"
   ]
  },
  {
   "cell_type": "code",
   "execution_count": 31,
   "metadata": {
    "hidden": true
   },
   "outputs": [
    {
     "data": {
      "text/plain": [
       "0    2714683\n",
       "1     628008\n",
       "Name: DEP_DELAY_BI, dtype: int64"
      ]
     },
     "execution_count": 31,
     "metadata": {},
     "output_type": "execute_result"
    }
   ],
   "source": [
    "cat_cnt"
   ]
  },
  {
   "cell_type": "code",
   "execution_count": 32,
   "metadata": {
    "hidden": true
   },
   "outputs": [],
   "source": [
    "from imblearn.under_sampling import RandomUnderSampler\n",
    "#rus = RandomUnderSampler(sampling_strategy={0:cat_cnt[1],\n",
    "#                                            1:cat_cnt[1],\n",
    "#                                            2:cat_cnt[2]},random_state=42)\n",
    "\n",
    "rus = RandomUnderSampler(sampling_strategy={0:cat_cnt[1],\n",
    "                                            1:cat_cnt[1]},random_state=42)\n",
    "\n",
    "X_resampled, y_resampled = rus.fit_resample(training_input, training_prev['DEP_DELAY_BI'])"
   ]
  },
  {
   "cell_type": "code",
   "execution_count": 199,
   "metadata": {
    "hidden": true
   },
   "outputs": [],
   "source": [
    "from imblearn.over_sampling import RandomOverSampler\n",
    "\n",
    "ros = RandomOverSampler(sampling_strategy={0:cat_cnt[0],\n",
    "                                            1:cat_cnt[0],\n",
    "                                            2:cat_cnt[0]},random_state=42)\n",
    "\n",
    "#rus = RandomUnderSampler(sampling_strategy={0:y_train.value_counts()[1],\n",
    "#                                            1:y_train.value_counts()[1]},random_state=42)\n",
    "\n",
    "X_resampled, y_resampled = ros.fit_resample(X_train, y_train)"
   ]
  },
  {
   "cell_type": "markdown",
   "metadata": {
    "heading_collapsed": true,
    "hidden": true
   },
   "source": [
    "### Standardization"
   ]
  },
  {
   "cell_type": "code",
   "execution_count": 69,
   "metadata": {
    "hidden": true
   },
   "outputs": [],
   "source": [
    "def stdize(X_train,X_test):\n",
    "    scaler = StandardScaler()\n",
    "    scaler.fit(X_train)\n",
    "    X_train = scaler.transform(X_train)\n",
    "    X_test = scaler.transform(X_test)\n",
    "    return X_train, X_test"
   ]
  },
  {
   "cell_type": "markdown",
   "metadata": {
    "heading_collapsed": true,
    "hidden": true
   },
   "source": [
    "### Train the model"
   ]
  },
  {
   "cell_type": "code",
   "execution_count": 17,
   "metadata": {
    "hidden": true
   },
   "outputs": [
    {
     "data": {
      "text/plain": [
       "XGBClassifier(base_score=0.5, booster='gbtree', colsample_bylevel=1,\n",
       "       colsample_bynode=1, colsample_bytree=1, gamma=0, learning_rate=0.1,\n",
       "       max_delta_step=0, max_depth=3, min_child_weight=1, missing=None,\n",
       "       n_estimators=100, n_jobs=1, nthread=None,\n",
       "       objective='binary:logistic', random_state=0, reg_alpha=0,\n",
       "       reg_lambda=1, scale_pos_weight=1, seed=None, silent=None,\n",
       "       subsample=1, verbosity=1)"
      ]
     },
     "execution_count": 17,
     "metadata": {},
     "output_type": "execute_result"
    }
   ],
   "source": [
    "from sklearn.ensemble import GradientBoostingClassifier\n",
    "from sklearn.ensemble import GradientBoostingRegressor\n",
    "from sklearn.ensemble import RandomForestClassifier\n",
    "from sklearn.neural_network import MLPClassifier\n",
    "import xgboost as xgb\n",
    "from xgboost.sklearn import XGBClassifier\n",
    "\n",
    "#clf = RandomForestClassifier(n_estimators=100,random_state=42,verbose=1,n_jobs=-1)\n",
    "\n",
    "#clf = GradientBoostingClassifier(n_estimators=100,learning_rate=0.1,\n",
    "#                                 random_state=42,verbose=1,validation_fraction=0.1,\n",
    "#                                 n_iter_no_change = 10)\n",
    "\n",
    "clf = XGBClassifier(verbosity=1)\n",
    "\n",
    "#clf = MLPClassifier(verbose=2,hidden_layer_sizes=(128,64,32,16,),random_state=42,max_iter=5,early_stopping=True)\n",
    "\n",
    "clf.fit(X_resampled, y_resampled)\n",
    "#clf.fit(X_train, y_train)"
   ]
  },
  {
   "cell_type": "markdown",
   "metadata": {
    "heading_collapsed": true,
    "hidden": true
   },
   "source": [
    "### Make prediction"
   ]
  },
  {
   "cell_type": "code",
   "execution_count": 21,
   "metadata": {
    "hidden": true
   },
   "outputs": [],
   "source": [
    "#X_test = scaler.transform(X_test)\n",
    "y_pred = clf.predict(X_test.values)\n",
    "#y_pred = np.array(list(map(lambda x: 0 if x<=0.5 else 1,y_pred.flatten())))"
   ]
  },
  {
   "cell_type": "code",
   "execution_count": 24,
   "metadata": {
    "hidden": true
   },
   "outputs": [
    {
     "data": {
      "text/html": [
       "<div>\n",
       "<style scoped>\n",
       "    .dataframe tbody tr th:only-of-type {\n",
       "        vertical-align: middle;\n",
       "    }\n",
       "\n",
       "    .dataframe tbody tr th {\n",
       "        vertical-align: top;\n",
       "    }\n",
       "\n",
       "    .dataframe thead th {\n",
       "        text-align: right;\n",
       "    }\n",
       "</style>\n",
       "<table border=\"1\" class=\"dataframe\">\n",
       "  <thead>\n",
       "    <tr style=\"text-align: right;\">\n",
       "      <th></th>\n",
       "      <th>column</th>\n",
       "      <th>importance</th>\n",
       "    </tr>\n",
       "  </thead>\n",
       "  <tbody>\n",
       "    <tr>\n",
       "      <th>4</th>\n",
       "      <td>DEP_DELAY_prev</td>\n",
       "      <td>0.319401</td>\n",
       "    </tr>\n",
       "    <tr>\n",
       "      <th>8</th>\n",
       "      <td>EST_TRN</td>\n",
       "      <td>0.130303</td>\n",
       "    </tr>\n",
       "    <tr>\n",
       "      <th>19</th>\n",
       "      <td>Buff_TRN</td>\n",
       "      <td>0.118637</td>\n",
       "    </tr>\n",
       "    <tr>\n",
       "      <th>6</th>\n",
       "      <td>ARP_DELAY</td>\n",
       "      <td>0.116963</td>\n",
       "    </tr>\n",
       "    <tr>\n",
       "      <th>1</th>\n",
       "      <td>CRS_DEP_DT</td>\n",
       "      <td>0.102159</td>\n",
       "    </tr>\n",
       "    <tr>\n",
       "      <th>17</th>\n",
       "      <td>OD_DELAY6</td>\n",
       "      <td>0.086461</td>\n",
       "    </tr>\n",
       "    <tr>\n",
       "      <th>5</th>\n",
       "      <td>AVG_DELAY6</td>\n",
       "      <td>0.028444</td>\n",
       "    </tr>\n",
       "    <tr>\n",
       "      <th>9</th>\n",
       "      <td>B6</td>\n",
       "      <td>0.020572</td>\n",
       "    </tr>\n",
       "    <tr>\n",
       "      <th>2</th>\n",
       "      <td>CRS_ARR_DT</td>\n",
       "      <td>0.016591</td>\n",
       "    </tr>\n",
       "    <tr>\n",
       "      <th>3</th>\n",
       "      <td>DewPointC</td>\n",
       "      <td>0.012607</td>\n",
       "    </tr>\n",
       "    <tr>\n",
       "      <th>16</th>\n",
       "      <td>HeavySnow</td>\n",
       "      <td>0.012009</td>\n",
       "    </tr>\n",
       "    <tr>\n",
       "      <th>18</th>\n",
       "      <td>MIN5_TRN</td>\n",
       "      <td>0.010810</td>\n",
       "    </tr>\n",
       "    <tr>\n",
       "      <th>0</th>\n",
       "      <td>CRS_ELAPSED_TD</td>\n",
       "      <td>0.010759</td>\n",
       "    </tr>\n",
       "    <tr>\n",
       "      <th>10</th>\n",
       "      <td>F9</td>\n",
       "      <td>0.009134</td>\n",
       "    </tr>\n",
       "    <tr>\n",
       "      <th>7</th>\n",
       "      <td>Month</td>\n",
       "      <td>0.005149</td>\n",
       "    </tr>\n",
       "    <tr>\n",
       "      <th>13</th>\n",
       "      <td>Blizzard</td>\n",
       "      <td>0.000000</td>\n",
       "    </tr>\n",
       "    <tr>\n",
       "      <th>14</th>\n",
       "      <td>HeavyRain</td>\n",
       "      <td>0.000000</td>\n",
       "    </tr>\n",
       "    <tr>\n",
       "      <th>15</th>\n",
       "      <td>MHSleet</td>\n",
       "      <td>0.000000</td>\n",
       "    </tr>\n",
       "    <tr>\n",
       "      <th>12</th>\n",
       "      <td>IcePellets</td>\n",
       "      <td>0.000000</td>\n",
       "    </tr>\n",
       "    <tr>\n",
       "      <th>11</th>\n",
       "      <td>MHFRain</td>\n",
       "      <td>0.000000</td>\n",
       "    </tr>\n",
       "  </tbody>\n",
       "</table>\n",
       "</div>"
      ],
      "text/plain": [
       "            column  importance\n",
       "4   DEP_DELAY_prev    0.319401\n",
       "8          EST_TRN    0.130303\n",
       "19        Buff_TRN    0.118637\n",
       "6        ARP_DELAY    0.116963\n",
       "1       CRS_DEP_DT    0.102159\n",
       "17       OD_DELAY6    0.086461\n",
       "5       AVG_DELAY6    0.028444\n",
       "9               B6    0.020572\n",
       "2       CRS_ARR_DT    0.016591\n",
       "3        DewPointC    0.012607\n",
       "16       HeavySnow    0.012009\n",
       "18        MIN5_TRN    0.010810\n",
       "0   CRS_ELAPSED_TD    0.010759\n",
       "10              F9    0.009134\n",
       "7            Month    0.005149\n",
       "13        Blizzard    0.000000\n",
       "14       HeavyRain    0.000000\n",
       "15         MHSleet    0.000000\n",
       "12      IcePellets    0.000000\n",
       "11         MHFRain    0.000000"
      ]
     },
     "execution_count": 24,
     "metadata": {},
     "output_type": "execute_result"
    }
   ],
   "source": [
    "pd.DataFrame({'column':training_input.columns,\n",
    "              'importance':clf.feature_importances_}).sort_values(by='importance',ascending=False)"
   ]
  },
  {
   "cell_type": "code",
   "execution_count": 25,
   "metadata": {
    "hidden": true
   },
   "outputs": [
    {
     "data": {
      "text/plain": [
       "array([[468038,  96548],\n",
       "       [ 41648,  93747]])"
      ]
     },
     "execution_count": 25,
     "metadata": {},
     "output_type": "execute_result"
    }
   ],
   "source": [
    "confusion_matrix(y_test, y_pred, labels=[0,1])"
   ]
  },
  {
   "cell_type": "code",
   "execution_count": 26,
   "metadata": {
    "hidden": true
   },
   "outputs": [
    {
     "name": "stdout",
     "output_type": "stream",
     "text": [
      "Confusion matrix, without normalization\n",
      "[[468038  96548]\n",
      " [ 41648  93747]]\n"
     ]
    },
    {
     "data": {
      "text/plain": [
       "<matplotlib.axes._subplots.AxesSubplot at 0x7f8e5f26ea20>"
      ]
     },
     "execution_count": 26,
     "metadata": {},
     "output_type": "execute_result"
    },
    {
     "data": {
      "image/png": "[encoded data removed]",
      "text/plain": [
       "<Figure size 432x288 with 2 Axes>"
      ]
     },
     "metadata": {
      "needs_background": "light"
     },
     "output_type": "display_data"
    }
   ],
   "source": [
    "plot_confusion_matrix(y_test,y_pred,classes=[0,1])"
   ]
  },
  {
   "cell_type": "code",
   "execution_count": 27,
   "metadata": {
    "hidden": true
   },
   "outputs": [
    {
     "name": "stdout",
     "output_type": "stream",
     "text": [
      "Normalized confusion matrix\n",
      "[[0.82899328 0.17100672]\n",
      " [0.30760368 0.69239632]]\n"
     ]
    },
    {
     "data": {
      "text/plain": [
       "<matplotlib.axes._subplots.AxesSubplot at 0x7f8e2746b748>"
      ]
     },
     "execution_count": 27,
     "metadata": {},
     "output_type": "execute_result"
    },
    {
     "data": {
      "image/png": "[encoded data removed]",
      "text/plain": [
       "<Figure size 432x288 with 2 Axes>"
      ]
     },
     "metadata": {
      "needs_background": "light"
     },
     "output_type": "display_data"
    }
   ],
   "source": [
    "plot_confusion_matrix(y_test,y_pred,classes=[0,1],normalize=True)"
   ]
  },
  {
   "cell_type": "code",
   "execution_count": 28,
   "metadata": {
    "hidden": true
   },
   "outputs": [
    {
     "name": "stdout",
     "output_type": "stream",
     "text": [
      "Accuracy: 0.8025717840912825\n",
      "Recall: 0.6923963218730381\n",
      "Precision: 0.49264037415591583\n",
      "F1: 0.5756823973717338\n"
     ]
    }
   ],
   "source": [
    "from sklearn.metrics import accuracy_score\n",
    "\n",
    "print('Accuracy: ' + str(accuracy_score(y_test, y_pred)))\n",
    "print('Recall: ' + str(recall_score(y_test, y_pred)))\n",
    "print('Precision: ' + str(precision_score(y_test, y_pred)))\n",
    "print('F1: ' + str(f1_score(y_test, y_pred)))"
   ]
  },
  {
   "cell_type": "code",
   "execution_count": 77,
   "metadata": {
    "hidden": true
   },
   "outputs": [
    {
     "data": {
      "text/plain": [
       "0.20277407529632946"
      ]
     },
     "execution_count": 77,
     "metadata": {},
     "output_type": "execute_result"
    }
   ],
   "source": [
    "from sklearn.metrics import mean_absolute_error\n",
    "mean_absolute_error(y_test, y_pred)"
   ]
  },
  {
   "cell_type": "code",
   "execution_count": 159,
   "metadata": {
    "hidden": true
   },
   "outputs": [
    {
     "name": "stdout",
     "output_type": "stream",
     "text": [
      "100.0% of times the error is less than 10 minutes\n"
     ]
    }
   ],
   "source": [
    "maes = abs(np.array(y_pred) - np.array(y_test))\n",
    "print(str(round(sum(maes < 5)/len(maes)*100)) + '% of times the error is less than 10 minutes')"
   ]
  },
  {
   "cell_type": "markdown",
   "metadata": {
    "heading_collapsed": true,
    "hidden": true
   },
   "source": [
    "### Linear Regression Result"
   ]
  },
  {
   "cell_type": "code",
   "execution_count": 90,
   "metadata": {
    "hidden": true
   },
   "outputs": [
    {
     "data": {
      "text/html": [
       "<table class=\"simpletable\">\n",
       "<caption>OLS Regression Results</caption>\n",
       "<tr>\n",
       "  <th>Dep. Variable:</th>        <td>DEP_DELAY</td>    <th>  R-squared:         </th>  <td>   0.196</td>  \n",
       "</tr>\n",
       "<tr>\n",
       "  <th>Model:</th>                   <td>OLS</td>       <th>  Adj. R-squared:    </th>  <td>   0.196</td>  \n",
       "</tr>\n",
       "<tr>\n",
       "  <th>Method:</th>             <td>Least Squares</td>  <th>  F-statistic:       </th>  <td>4.064e+04</td> \n",
       "</tr>\n",
       "<tr>\n",
       "  <th>Date:</th>             <td>Wed, 05 Jun 2019</td> <th>  Prob (F-statistic):</th>   <td>  0.00</td>   \n",
       "</tr>\n",
       "<tr>\n",
       "  <th>Time:</th>                 <td>18:50:40</td>     <th>  Log-Likelihood:    </th> <td>-1.6970e+07</td>\n",
       "</tr>\n",
       "<tr>\n",
       "  <th>No. Observations:</th>      <td>3342691</td>     <th>  AIC:               </th>  <td>3.394e+07</td> \n",
       "</tr>\n",
       "<tr>\n",
       "  <th>Df Residuals:</th>          <td>3342670</td>     <th>  BIC:               </th>  <td>3.394e+07</td> \n",
       "</tr>\n",
       "<tr>\n",
       "  <th>Df Model:</th>              <td>    20</td>      <th>                     </th>      <td> </td>     \n",
       "</tr>\n",
       "<tr>\n",
       "  <th>Covariance Type:</th>      <td>nonrobust</td>    <th>                     </th>      <td> </td>     \n",
       "</tr>\n",
       "</table>\n",
       "<table class=\"simpletable\">\n",
       "<tr>\n",
       "         <td></td>           <th>coef</th>     <th>std err</th>      <th>t</th>      <th>P>|t|</th>  <th>[0.025</th>    <th>0.975]</th>  \n",
       "</tr>\n",
       "<tr>\n",
       "  <th>const</th>          <td>   10.7528</td> <td>    0.021</td> <td>  506.972</td> <td> 0.000</td> <td>   10.711</td> <td>   10.794</td>\n",
       "</tr>\n",
       "<tr>\n",
       "  <th>CRS_ELAPSED_TD</th> <td>    0.2227</td> <td>    0.022</td> <td>   10.324</td> <td> 0.000</td> <td>    0.180</td> <td>    0.265</td>\n",
       "</tr>\n",
       "<tr>\n",
       "  <th>CRS_DEP_DT</th>     <td>    1.6841</td> <td>    0.028</td> <td>   60.243</td> <td> 0.000</td> <td>    1.629</td> <td>    1.739</td>\n",
       "</tr>\n",
       "<tr>\n",
       "  <th>CRS_ARR_DT</th>     <td>    0.8808</td> <td>    0.027</td> <td>   33.135</td> <td> 0.000</td> <td>    0.829</td> <td>    0.933</td>\n",
       "</tr>\n",
       "<tr>\n",
       "  <th>DewPointC</th>      <td>    0.2377</td> <td>    0.028</td> <td>    8.478</td> <td> 0.000</td> <td>    0.183</td> <td>    0.293</td>\n",
       "</tr>\n",
       "<tr>\n",
       "  <th>DEP_DELAY_prev</th> <td>   11.5875</td> <td>    0.022</td> <td>  529.356</td> <td> 0.000</td> <td>   11.545</td> <td>   11.630</td>\n",
       "</tr>\n",
       "<tr>\n",
       "  <th>AVG_DELAY6</th>     <td>   -0.5723</td> <td>    0.023</td> <td>  -24.688</td> <td> 0.000</td> <td>   -0.618</td> <td>   -0.527</td>\n",
       "</tr>\n",
       "<tr>\n",
       "  <th>ARP_DELAY</th>      <td>   10.9420</td> <td>    0.023</td> <td>  484.707</td> <td> 0.000</td> <td>   10.898</td> <td>   10.986</td>\n",
       "</tr>\n",
       "<tr>\n",
       "  <th>Month</th>          <td>    0.2864</td> <td>    0.028</td> <td>   10.259</td> <td> 0.000</td> <td>    0.232</td> <td>    0.341</td>\n",
       "</tr>\n",
       "<tr>\n",
       "  <th>EST_TRN</th>        <td>  -23.1122</td> <td>    0.407</td> <td>  -56.720</td> <td> 0.000</td> <td>  -23.911</td> <td>  -22.314</td>\n",
       "</tr>\n",
       "<tr>\n",
       "  <th>B6</th>             <td>    0.5943</td> <td>    0.021</td> <td>   27.778</td> <td> 0.000</td> <td>    0.552</td> <td>    0.636</td>\n",
       "</tr>\n",
       "<tr>\n",
       "  <th>F9</th>             <td>    0.9341</td> <td>    0.021</td> <td>   43.897</td> <td> 0.000</td> <td>    0.892</td> <td>    0.976</td>\n",
       "</tr>\n",
       "<tr>\n",
       "  <th>MHFRain</th>        <td>    0.2804</td> <td>    0.021</td> <td>   13.208</td> <td> 0.000</td> <td>    0.239</td> <td>    0.322</td>\n",
       "</tr>\n",
       "<tr>\n",
       "  <th>IcePellets</th>     <td>    0.1757</td> <td>    0.021</td> <td>    8.284</td> <td> 0.000</td> <td>    0.134</td> <td>    0.217</td>\n",
       "</tr>\n",
       "<tr>\n",
       "  <th>Blizzard</th>       <td>    0.3126</td> <td>    0.021</td> <td>   14.726</td> <td> 0.000</td> <td>    0.271</td> <td>    0.354</td>\n",
       "</tr>\n",
       "<tr>\n",
       "  <th>HeavyRain</th>      <td>    0.1981</td> <td>    0.021</td> <td>    9.331</td> <td> 0.000</td> <td>    0.156</td> <td>    0.240</td>\n",
       "</tr>\n",
       "<tr>\n",
       "  <th>MHSleet</th>        <td>    0.0891</td> <td>    0.021</td> <td>    4.200</td> <td> 0.000</td> <td>    0.048</td> <td>    0.131</td>\n",
       "</tr>\n",
       "<tr>\n",
       "  <th>HeavySnow</th>      <td>    0.6085</td> <td>    0.021</td> <td>   28.609</td> <td> 0.000</td> <td>    0.567</td> <td>    0.650</td>\n",
       "</tr>\n",
       "<tr>\n",
       "  <th>OD_DELAY6</th>      <td>    1.0328</td> <td>    0.022</td> <td>   46.324</td> <td> 0.000</td> <td>    0.989</td> <td>    1.076</td>\n",
       "</tr>\n",
       "<tr>\n",
       "  <th>MIN5_TRN</th>       <td>    7.6005</td> <td>    0.151</td> <td>   50.310</td> <td> 0.000</td> <td>    7.304</td> <td>    7.897</td>\n",
       "</tr>\n",
       "<tr>\n",
       "  <th>Buff_TRN</th>       <td>   26.3987</td> <td>    0.371</td> <td>   71.178</td> <td> 0.000</td> <td>   25.672</td> <td>   27.126</td>\n",
       "</tr>\n",
       "</table>\n",
       "<table class=\"simpletable\">\n",
       "<tr>\n",
       "  <th>Omnibus:</th>       <td>4939916.677</td> <th>  Durbin-Watson:     </th>    <td>   1.884</td>   \n",
       "</tr>\n",
       "<tr>\n",
       "  <th>Prob(Omnibus):</th>   <td> 0.000</td>    <th>  Jarque-Bera (JB):  </th> <td>4384044737.703</td>\n",
       "</tr>\n",
       "<tr>\n",
       "  <th>Skew:</th>            <td> 8.767</td>    <th>  Prob(JB):          </th>    <td>    0.00</td>   \n",
       "</tr>\n",
       "<tr>\n",
       "  <th>Kurtosis:</th>        <td>179.548</td>   <th>  Cond. No.          </th>    <td>    42.8</td>   \n",
       "</tr>\n",
       "</table><br/><br/>Warnings:<br/>[1] Standard Errors assume that the covariance matrix of the errors is correctly specified."
      ],
      "text/plain": [
       "<class 'statsmodels.iolib.summary.Summary'>\n",
       "\"\"\"\n",
       "                            OLS Regression Results                            \n",
       "==============================================================================\n",
       "Dep. Variable:              DEP_DELAY   R-squared:                       0.196\n",
       "Model:                            OLS   Adj. R-squared:                  0.196\n",
       "Method:                 Least Squares   F-statistic:                 4.064e+04\n",
       "Date:                Wed, 05 Jun 2019   Prob (F-statistic):               0.00\n",
       "Time:                        18:50:40   Log-Likelihood:            -1.6970e+07\n",
       "No. Observations:             3342691   AIC:                         3.394e+07\n",
       "Df Residuals:                 3342670   BIC:                         3.394e+07\n",
       "Df Model:                          20                                         \n",
       "Covariance Type:            nonrobust                                         \n",
       "==================================================================================\n",
       "                     coef    std err          t      P>|t|      [0.025      0.975]\n",
       "----------------------------------------------------------------------------------\n",
       "const             10.7528      0.021    506.972      0.000      10.711      10.794\n",
       "CRS_ELAPSED_TD     0.2227      0.022     10.324      0.000       0.180       0.265\n",
       "CRS_DEP_DT         1.6841      0.028     60.243      0.000       1.629       1.739\n",
       "CRS_ARR_DT         0.8808      0.027     33.135      0.000       0.829       0.933\n",
       "DewPointC          0.2377      0.028      8.478      0.000       0.183       0.293\n",
       "DEP_DELAY_prev    11.5875      0.022    529.356      0.000      11.545      11.630\n",
       "AVG_DELAY6        -0.5723      0.023    -24.688      0.000      -0.618      -0.527\n",
       "ARP_DELAY         10.9420      0.023    484.707      0.000      10.898      10.986\n",
       "Month              0.2864      0.028     10.259      0.000       0.232       0.341\n",
       "EST_TRN          -23.1122      0.407    -56.720      0.000     -23.911     -22.314\n",
       "B6                 0.5943      0.021     27.778      0.000       0.552       0.636\n",
       "F9                 0.9341      0.021     43.897      0.000       0.892       0.976\n",
       "MHFRain            0.2804      0.021     13.208      0.000       0.239       0.322\n",
       "IcePellets         0.1757      0.021      8.284      0.000       0.134       0.217\n",
       "Blizzard           0.3126      0.021     14.726      0.000       0.271       0.354\n",
       "HeavyRain          0.1981      0.021      9.331      0.000       0.156       0.240\n",
       "MHSleet            0.0891      0.021      4.200      0.000       0.048       0.131\n",
       "HeavySnow          0.6085      0.021     28.609      0.000       0.567       0.650\n",
       "OD_DELAY6          1.0328      0.022     46.324      0.000       0.989       1.076\n",
       "MIN5_TRN           7.6005      0.151     50.310      0.000       7.304       7.897\n",
       "Buff_TRN          26.3987      0.371     71.178      0.000      25.672      27.126\n",
       "==============================================================================\n",
       "Omnibus:                  4939916.677   Durbin-Watson:                   1.884\n",
       "Prob(Omnibus):                  0.000   Jarque-Bera (JB):       4384044737.703\n",
       "Skew:                           8.767   Prob(JB):                         0.00\n",
       "Kurtosis:                     179.548   Cond. No.                         42.8\n",
       "==============================================================================\n",
       "\n",
       "Warnings:\n",
       "[1] Standard Errors assume that the covariance matrix of the errors is correctly specified.\n",
       "\"\"\""
      ]
     },
     "execution_count": 90,
     "metadata": {},
     "output_type": "execute_result"
    }
   ],
   "source": [
    "import statsmodels.api as sm\n",
    "\n",
    "X = training_input\n",
    "y = training_prev['DEP_DELAY']\n",
    "scaler = StandardScaler()\n",
    "X = scaler.fit_transform(X)\n",
    "X = pd.DataFrame(X,columns=training_input.columns)\n",
    "X = sm.add_constant(X)\n",
    "model = sm.OLS(y, X).fit()\n",
    "model.summary()"
   ]
  },
  {
   "cell_type": "markdown",
   "metadata": {
    "heading_collapsed": true
   },
   "source": [
    "## Build a simple keras ANN model"
   ]
  },
  {
   "cell_type": "code",
   "execution_count": 9,
   "metadata": {
    "hidden": true
   },
   "outputs": [],
   "source": [
    "# fix random seed for reproducibility\n",
    "seed = 7\n",
    "np.random.seed(seed)"
   ]
  },
  {
   "cell_type": "code",
   "execution_count": 10,
   "metadata": {
    "hidden": true
   },
   "outputs": [],
   "source": [
    "from keras import optimizers\n",
    "def train_ann(X_train,y_train,params,class_weight=False):\n",
    "    \n",
    "    # Get the hyper-parameters\n",
    "    epochs = params['epochs']\n",
    "    validation_split = params['validation_split']\n",
    "    batch_size = params['batch_size']\n",
    "    if class_weight == True:     \n",
    "        class_weight = params['class_weight']\n",
    "    else:\n",
    "        class_weight = None\n",
    "    n_features = X_train.shape[1]\n",
    "    \n",
    "    # create model\n",
    "    \n",
    "    model = Sequential()\n",
    "    model.add(Dense(200, input_dim=n_features, activation='relu'))\n",
    "    model.add(Dropout(0.5))\n",
    "    model.add(Dense(128, activation='relu'))\n",
    "    model.add(Dropout(0.5))\n",
    "    model.add(Dense(64, activation='relu'))\n",
    "    model.add(Dropout(0.5))\n",
    "    #model.add(Dense(64, activation='relu'))\n",
    "    #model.add(Dropout(0.5))\n",
    "    model.add(Dense(32, activation='relu'))\n",
    "    model.add(Dropout(0.5))\n",
    "    #model.add(Dense(32, activation='relu'))\n",
    "    #model.add(Dropout(0.5))\n",
    "    #model.add(Dense(10, activation='relu'))\n",
    "    #model.add(Dense(10, activation='relu'))\n",
    "    model.add(Dense(1, activation='sigmoid'))\n",
    "    #model.add(Dense(3, activation='softmax'))\n",
    "    \n",
    "    \n",
    "    \"\"\"\n",
    "    model = Sequential()\n",
    "    model.add(Dense(200, input_dim=n_features))\n",
    "    model.add(BatchNormalization())\n",
    "    model.add(Activation('relu'))\n",
    "    \n",
    "    model.add(Dense(128))\n",
    "    model.add(BatchNormalization())\n",
    "    model.add(Activation('relu'))\n",
    "    \n",
    "    model.add(Dense(64))\n",
    "    model.add(BatchNormalization())\n",
    "    model.add(Activation('relu'))\n",
    "    \n",
    "    model.add(Dense(32))\n",
    "    model.add(BatchNormalization())\n",
    "    model.add(Activation('relu'))\n",
    "    \n",
    "    model.add(Dense(1, activation='sigmoid'))\n",
    "    #model.add(Dense(3, activation='softmax'))\n",
    "    \"\"\"\n",
    "    \n",
    "    #model.summary()\n",
    "    \n",
    "    opt = optimizers.Adadelta()\n",
    "    #opt = optimizers.Adam()\n",
    "    # Compile model\n",
    "    model.compile(loss='binary_crossentropy', optimizer=opt, metrics=['accuracy'])\n",
    "    #model.compile(loss='categorical_crossentropy', optimizer=opt, metrics=['accuracy'])\n",
    "    \n",
    "    # Fit model\n",
    "    history = model.fit(X_train, y_train\n",
    "                        ,batch_size=batch_size\n",
    "                        ,epochs=epochs\n",
    "                        ,verbose=1\n",
    "                        ,validation_split=validation_split\n",
    "                        ,class_weight = class_weight\n",
    "                       )\n",
    "    \n",
    "    return model, history"
   ]
  },
  {
   "cell_type": "code",
   "execution_count": 60,
   "metadata": {
    "hidden": true
   },
   "outputs": [],
   "source": [
    "y_integers = np.argmax(dummy_y, axis=1)\n",
    "class_weights = compute_class_weight('balanced', np.unique(y_integers), y_integers)\n",
    "d_class_weights = dict(enumerate(class_weights))"
   ]
  },
  {
   "cell_type": "code",
   "execution_count": 42,
   "metadata": {
    "hidden": true
   },
   "outputs": [],
   "source": [
    "class_weights = compute_class_weight('balanced', np.array([0,1]), training_prev['DEP_DELAY_BI'])\n",
    "d_class_weights = dict(enumerate(class_weights))"
   ]
  },
  {
   "cell_type": "code",
   "execution_count": 78,
   "metadata": {
    "hidden": true
   },
   "outputs": [],
   "source": [
    "ann_param = {'batch_size':128,\n",
    "             'epochs':2,\n",
    "             'validation_split':0,\n",
    "             'class_weight':d_class_weights}"
   ]
  },
  {
   "cell_type": "code",
   "execution_count": 79,
   "metadata": {
    "hidden": true
   },
   "outputs": [
    {
     "name": "stdout",
     "output_type": "stream",
     "text": [
      "Epoch 1/2\n",
      "2642710/2642710 [==============================] - 67s 25us/step - loss: 0.5144 - acc: 0.8079\n",
      "Epoch 2/2\n",
      "2642710/2642710 [==============================] - 64s 24us/step - loss: 0.5002 - acc: 0.8122\n"
     ]
    }
   ],
   "source": [
    "#model, history = train_ann(X_resampled,y_resampled,ann_param)\n",
    "model, history = train_ann(X_train,y_train,ann_param)"
   ]
  },
  {
   "cell_type": "code",
   "execution_count": 80,
   "metadata": {
    "hidden": true
   },
   "outputs": [
    {
     "name": "stdout",
     "output_type": "stream",
     "text": [
      "699981/699981 [==============================] - 21s 30us/step\n"
     ]
    }
   ],
   "source": [
    "y_pred = model.predict(X_test, verbose=1)\n",
    "#y_pred = np.array(list(map(lambda x: 0 if x<=0.5 else 1,y_pred.flatten())))"
   ]
  },
  {
   "cell_type": "code",
   "execution_count": 82,
   "metadata": {
    "hidden": true
   },
   "outputs": [],
   "source": [
    "y_pred = [np.argmax(i) for i in y_pred]"
   ]
  },
  {
   "cell_type": "code",
   "execution_count": 34,
   "metadata": {
    "hidden": true
   },
   "outputs": [],
   "source": [
    "y_test_c = [np.argmax(i) for i in y_test]"
   ]
  },
  {
   "cell_type": "code",
   "execution_count": 85,
   "metadata": {
    "hidden": true
   },
   "outputs": [
    {
     "name": "stdout",
     "output_type": "stream",
     "text": [
      "Accuracy: 0.8065733212758632\n",
      "Recall: 0.5\n",
      "Precision: 0.4032866606379316\n",
      "F1: 0.4464658653910785\n"
     ]
    }
   ],
   "source": [
    "print('Accuracy: ' + str(accuracy_score(y_test, y_pred)))\n",
    "print('Recall: ' + str(recall_score(y_test, y_pred,average='macro')))\n",
    "print('Precision: ' + str(precision_score(y_test, y_pred,average='macro')))\n",
    "print('F1: ' + str(f1_score(y_test, y_pred,average='macro')))"
   ]
  },
  {
   "cell_type": "code",
   "execution_count": null,
   "metadata": {
    "hidden": true
   },
   "outputs": [],
   "source": [
    "plot_confusion_matrix(y_test,y_pred,classes=[0,1],normalize=True)"
   ]
  },
  {
   "cell_type": "code",
   "execution_count": 37,
   "metadata": {
    "hidden": true
   },
   "outputs": [
    {
     "name": "stdout",
     "output_type": "stream",
     "text": [
      "Confusion matrix, without normalization\n",
      "[[417579 103741  43266]\n",
      " [ 21412  33988  11708]\n",
      " [ 11626  14802  41859]]\n"
     ]
    },
    {
     "data": {
      "text/plain": [
       "<matplotlib.axes._subplots.AxesSubplot at 0x7fec00905d30>"
      ]
     },
     "execution_count": 37,
     "metadata": {},
     "output_type": "execute_result"
    },
    {
     "data": {
      "image/png": "[encoded data removed]",
      "text/plain": [
       "<Figure size 432x288 with 2 Axes>"
      ]
     },
     "metadata": {
      "needs_background": "light"
     },
     "output_type": "display_data"
    }
   ],
   "source": [
    "plot_confusion_matrix(y_test_c,y_pred,classes=[0,1,2],normalize=False)"
   ]
  },
  {
   "cell_type": "code",
   "execution_count": 179,
   "metadata": {
    "hidden": true
   },
   "outputs": [],
   "source": [
    "# save the keras model\n",
    "model.save('./keras_model/#A8.h5')"
   ]
  },
  {
   "cell_type": "markdown",
   "metadata": {},
   "source": [
    "## Build a Cross Validation model"
   ]
  },
  {
   "cell_type": "code",
   "execution_count": 11,
   "metadata": {},
   "outputs": [],
   "source": [
    "def kfold_validation(x_train,y_train,cats=3,std=False,class_weight=False):\n",
    "\n",
    "    cross_val_f1_score_lst = [];cross_val_accuracy_lst = [];train_accuracy_lst = [];cross_val_recall_lst = []\n",
    "    cross_val_precision_lst = [];validation_preds_lst = [];target_val_lst = [];cross_val_roc_lst = [];prob_lst = []\n",
    "\n",
    "    train_end_months = np.array([2,3,4,5,6,7,8])\n",
    "    for train_month in train_end_months:\n",
    "        train_ix = x_train[(x_train['Month']<=train_month)\n",
    "                           &(x_train['Month']>=train_month-1)\n",
    "                          ].index\n",
    "        val_ix = x_train[(x_train['Month']>train_month)&(x_train['Month']<=train_month+1)].index\n",
    "        # keeping validation set apart and undersampling in each iteration \n",
    "        train, validation = x_train.iloc[train_ix], x_train.iloc[val_ix]\n",
    "        target_train, target_val = y_train.iloc[train_ix], y_train.iloc[val_ix]\n",
    "        if cats == 3:\n",
    "            target_train_3 = np_utils.to_categorical(target_train)\n",
    "            target_val = np_utils.to_categorical(target_val)\n",
    "        print(train.shape,validation.shape)\n",
    "        \n",
    "        #cat_cnt = target_train.value_counts()\n",
    "        #rus = RandomUnderSampler(sampling_strategy={0:cat_cnt[1],\n",
    "        #                                           1:cat_cnt[1],\n",
    "        #                                           2:cat_cnt[2]},random_state=42)\n",
    "        #rus = RandomUnderSampler(sampling_strategy={0:cat_cnt[1],\n",
    "        #                                           1:cat_cnt[1]},random_state=42)\n",
    "        #sm = SMOTE(random_state=42)\n",
    "        #X_train_res, y_train_res = sm.fit_resample(train, target_train)\n",
    "        #X_train_res, y_train_res = rus.fit_resample(train, target_train_3)\n",
    "        #X_train_res, y_train_res = rus.fit_resample(train, target_train)\n",
    "\n",
    "        if std == True: #standardize the training and testing set\n",
    "            X_train_res, validation = stdize(X_train_res,validation)\n",
    "        \n",
    "        # training the model\n",
    "        #model,history = train_ann(train,target_train_3,ann_param,class_weight=class_weight)\n",
    "        model,history = train_ann(train,target_train,ann_param,class_weight=class_weight)\n",
    "        #model,history = train_ann(X_train_res,y_train_res,ann_param,class_weight=class_weight)\n",
    "        \n",
    "        # testing on 1 fold of validation set\n",
    "        validation_preds = model.predict(validation, verbose=1)\n",
    "        #prob = model.predict_proba(validation)\n",
    "        #train_preds = model.predict(train, verbose=1)\n",
    "        if cats == 3:\n",
    "            validation_preds = [np.argmax(i) for i in validation_preds]\n",
    "            target_val = [np.argmax(i) for i in target_val]\n",
    "            train_preds = [np.argmax(i) for i in train_preds]\n",
    "            target_train = [np.argmax(i) for i in target_train]\n",
    "        elif cats == 2:\n",
    "            validation_preds = np.array(list(map(lambda x: 0 if x<=0.5 else 1,validation_preds.flatten())))\n",
    "            #train_preds = np.array(list(map(lambda x: 0 if x<=0.5 else 1,train_preds.flatten())))\n",
    "\n",
    "        cross_val_recall_lst.append(recall_score(target_val, validation_preds,average='macro'))\n",
    "        cross_val_accuracy_lst.append(accuracy_score(target_val, validation_preds))\n",
    "        #train_accuracy_lst.append(accuracy_score(target_train, train_preds))\n",
    "        cross_val_precision_lst.append(precision_score(target_val, validation_preds,average='macro'))\n",
    "        cross_val_f1_score_lst.append(f1_score(target_val, validation_preds,average='macro'))\n",
    "        validation_preds_lst.append(validation_preds)\n",
    "        #prob_lst.append(prob)\n",
    "        target_val_lst.append(target_val)\n",
    "        cross_val_roc_lst.append(roc_auc_score(target_val, validation_preds))\n",
    "        \n",
    "    print ('Cross validated accuracy: {}'.format(np.mean(cross_val_accuracy_lst)))\n",
    "    #print ('Training accuracy: {}'.format(np.mean(train_accuracy_lst)))\n",
    "    print ('Cross validated recall score: {}'.format(np.mean(cross_val_recall_lst)))\n",
    "    print ('Cross validated precision score: {}'.format(np.mean(cross_val_precision_lst)))\n",
    "    print ('Cross validated f1_score: {}'.format(np.mean(cross_val_f1_score_lst)))\n",
    "    print ('Cross validated roc_auc: {}'.format(np.mean(cross_val_roc_lst)))\n",
    "    \n",
    "    validation_preds = list(chain.from_iterable(validation_preds_lst))\n",
    "    target_val = list(chain.from_iterable(target_val_lst))\n",
    "    plot_confusion_matrix(target_val,validation_preds,classes=[0,1,2],normalize=True) #plot confusion matrix\n",
    "    plot_confusion_matrix(target_val,validation_preds,classes=[0,1,2],normalize=False)\n",
    "    \n",
    "    #prob = list(chain.from_iterable(prob_lst))\n",
    "    #fpr, tpr, threshold = roc_curve(target_val, prob)\n",
    "    #roc_auc = auc(fpr, tpr)\n",
    "    \n",
    "    return model,validation_preds_lst,target_val_lst"
   ]
  },
  {
   "cell_type": "code",
   "execution_count": 12,
   "metadata": {},
   "outputs": [],
   "source": [
    "def get_cw(data):\n",
    "    y_integers = np.argmax(data, axis=1)\n",
    "    class_weights = compute_class_weight('balanced', np.unique(y_integers), y_integers)\n",
    "    d_class_weights = dict(enumerate(class_weights))\n",
    "    return d_class_weights"
   ]
  },
  {
   "cell_type": "code",
   "execution_count": 17,
   "metadata": {},
   "outputs": [],
   "source": [
    "# for three categories\n",
    "d_class_weights = get_cw(dummy_y)"
   ]
  },
  {
   "cell_type": "code",
   "execution_count": 12,
   "metadata": {},
   "outputs": [],
   "source": [
    "class_weights = compute_class_weight('balanced', np.array([0,1]), training_prev['DEP_DELAY_BI'])\n",
    "d_class_weights = dict(enumerate(class_weights))"
   ]
  },
  {
   "cell_type": "code",
   "execution_count": 13,
   "metadata": {},
   "outputs": [],
   "source": [
    "ann_param = { \n",
    "              'batch_size':128\n",
    "             ,'epochs':2\n",
    "             ,'validation_split':0\n",
    "             ,'class_weight':d_class_weights\n",
    "            }"
   ]
  },
  {
   "cell_type": "code",
   "execution_count": 244,
   "metadata": {},
   "outputs": [],
   "source": [
    "# load the model\n",
    "model = load_model('./keras_model/#A8.h5')"
   ]
  },
  {
   "cell_type": "code",
   "execution_count": 30,
   "metadata": {
    "scrolled": false
   },
   "outputs": [
    {
     "name": "stdout",
     "output_type": "stream",
     "text": [
      "(691142, 13) (366282, 13)\n",
      "Epoch 1/2\n",
      "691142/691142 [==============================] - 17s 25us/step - loss: 1.7431 - acc: 0.7576\n",
      "Epoch 2/2\n",
      "691142/691142 [==============================] - 16s 23us/step - loss: 0.5444 - acc: 0.8475\n",
      "366282/366282 [==============================] - 8s 22us/step\n",
      "(704186, 13) (376050, 13)\n",
      "Epoch 1/2\n",
      "704186/704186 [==============================] - 18s 26us/step - loss: 2.8576 - acc: 0.7395\n",
      "Epoch 2/2\n",
      "704186/704186 [==============================] - 17s 24us/step - loss: 0.5729 - acc: 0.7797\n",
      "376050/376050 [==============================] - 9s 23us/step\n",
      "(742332, 13) (401094, 13)\n",
      "Epoch 1/2\n",
      "742332/742332 [==============================] - 19s 26us/step - loss: 1.9073 - acc: 0.7666\n",
      "Epoch 2/2\n",
      "742332/742332 [==============================] - 18s 24us/step - loss: 0.5216 - acc: 0.8558\n",
      "401094/401094 [==============================] - 9s 23us/step\n",
      "(777144, 13) (404744, 13)\n",
      "Epoch 1/2\n",
      "777144/777144 [==============================] - 20s 26us/step - loss: 2.2067 - acc: 0.7426\n",
      "Epoch 2/2\n",
      "777144/777144 [==============================] - 18s 24us/step - loss: 0.5304 - acc: 0.8447\n",
      "404744/404744 [==============================] - 10s 24us/step\n",
      "(805838, 13) (403398, 13)\n",
      "Epoch 1/2\n",
      "805838/805838 [==============================] - 21s 26us/step - loss: 1.1193 - acc: 0.4028\n",
      "Epoch 2/2\n",
      "805838/805838 [==============================] - 19s 24us/step - loss: 0.5779 - acc: 0.7607\n",
      "403398/403398 [==============================] - 10s 25us/step\n",
      "(808142, 13) (409224, 13)\n",
      "Epoch 1/2\n",
      "808142/808142 [==============================] - 21s 26us/step - loss: 1.5883 - acc: 0.2803\n",
      "Epoch 2/2\n",
      "808142/808142 [==============================] - 20s 25us/step - loss: 0.6875 - acc: 0.4974\n",
      "409224/409224 [==============================] - 11s 27us/step\n",
      "(812622, 13) (290757, 13)\n",
      "Epoch 1/2\n",
      "812622/812622 [==============================] - 22s 27us/step - loss: 2.0973 - acc: 0.3295\n",
      "Epoch 2/2\n",
      "812622/812622 [==============================] - 20s 24us/step - loss: 0.6079 - acc: 0.7640\n",
      "290757/290757 [==============================] - 8s 27us/step\n",
      "Cross validated accuracy: 0.7961439498581704\n",
      "Cross validated recall score: 0.7205152447894025\n",
      "Cross validated precision score: 0.7132122413134648\n",
      "Cross validated f1_score: 0.701474159414871\n",
      "Cross validated roc_auc: 0.7205152447894025\n",
      "Normalized confusion matrix\n",
      "[[0.83497547 0.16502453]\n",
      " [0.38125496 0.61874504]]\n",
      "Confusion matrix, without normalization\n",
      "[[1788879  353554]\n",
      " [ 194103  315013]]\n"
     ]
    },
    {
     "data": {
      "image/png": "[encoded data removed]",
      "text/plain": [
       "<Figure size 432x288 with 2 Axes>"
      ]
     },
     "metadata": {
      "needs_background": "light"
     },
     "output_type": "display_data"
    },
    {
     "data": {
      "image/png": "[encoded data removed]",
      "text/plain": [
       "<Figure size 432x288 with 2 Axes>"
      ]
     },
     "metadata": {
      "needs_background": "light"
     },
     "output_type": "display_data"
    }
   ],
   "source": [
    "model,validation_preds_lst,target_val_lst = kfold_validation(training_input,\n",
    "                                                             training_prev['DEP_DELAY_BI'],\n",
    "                                                             cats=2,std=False,class_weight=True)"
   ]
  },
  {
   "cell_type": "code",
   "execution_count": 26,
   "metadata": {},
   "outputs": [],
   "source": [
    "# save the keras model\n",
    "model.save('./keras_model/#A18.h5')"
   ]
  },
  {
   "cell_type": "markdown",
   "metadata": {},
   "source": [
    "## Predict on the testing set"
   ]
  },
  {
   "cell_type": "code",
   "execution_count": 17,
   "metadata": {},
   "outputs": [],
   "source": [
    "testing = pd.read_csv('./test/testing.csv',index_col=0)\n",
    "lstm_test_pred = pd.read_csv('./test/lstm_test_pred.csv',index_col=0)"
   ]
  },
  {
   "cell_type": "code",
   "execution_count": 18,
   "metadata": {},
   "outputs": [],
   "source": [
    "testing['CRS_DEP_DT'] = pd.to_datetime(testing['CRS_DEP_DT'])\n",
    "lstm_test_pred = lstm_test_pred[['ORIGIN','CRS_DEP_DT','CRS_DEP_Hr','Prediction']]\n",
    "testing.loc[:,'CRS_DEP_Hr'] = testing.loc[:,'CRS_DEP_DT'].dt.hour\n",
    "testing = pd.merge(testing,lstm_test_pred,\n",
    "                   left_on=['ORIGIN','FL_DATE','CRS_DEP_Hr'],\n",
    "                   right_on=['ORIGIN','CRS_DEP_DT','CRS_DEP_Hr'],\n",
    "                   how='inner')"
   ]
  },
  {
   "cell_type": "code",
   "execution_count": 19,
   "metadata": {},
   "outputs": [],
   "source": [
    "testing.rename({'Prediction':'ARP_DELAY'},axis=1,inplace=True)\n",
    "testing.rename({'CRS_DEP_DT_x':'CRS_DEP_DT'},axis=1,inplace=True)"
   ]
  },
  {
   "cell_type": "code",
   "execution_count": 21,
   "metadata": {},
   "outputs": [],
   "source": [
    "features1 = ['CRS_ELAPSED_TD','CRS_DEP_DT','CRS_ARR_DT','DewPointC','DEP_DELAY_prev','AVG_DELAY6','ARP_DELAY','Month',\n",
    "             'EST_TRN','OD_DELAY6','MIN5_TRN','Buff_TRN','DISTANCE','cloudcover']\n",
    "features2 = ['CRS_ELAPSED_TD','CRS_DEP_DT','CRS_ARR_DT','DewPointC','DEP_DELAY_prev','AVG_DELAY6','Month',\n",
    "             'EST_TRN','OD_DELAY6','MIN5_TRN','Buff_TRN','DISTANCE','cloudcover']\n",
    "testing_input = testing[features2]\n",
    "\n",
    "TD_cols = ['CRS_ELAPSED_TD','EST_TRN']\n",
    "for i in TD_cols:\n",
    "    testing_input.loc[:,i] = pd.to_timedelta(testing_input.loc[:,i])\n",
    "    \n",
    "testing_input.loc[:,'CRS_ELAPSED_TD'] = testing_input.loc[:,'CRS_ELAPSED_TD'].dt.seconds/60\n",
    "testing_input.loc[:,'EST_TRN'] = testing_input.loc[:,'EST_TRN'].dt.seconds/60\n",
    "testing_input.loc[:,'CRS_DEP_DT'] = testing_input.loc[:,'CRS_DEP_DT'].dt.hour\n",
    "testing_input['CRS_ARR_DT'] = pd.to_datetime(testing_input['CRS_ARR_DT'])\n",
    "testing_input.loc[:,'CRS_ARR_DT'] = testing_input.loc[:,'CRS_ARR_DT'].dt.hour"
   ]
  },
  {
   "cell_type": "markdown",
   "metadata": {
    "heading_collapsed": true
   },
   "source": [
    "### Fit a baseline model on testing set"
   ]
  },
  {
   "cell_type": "code",
   "execution_count": 12,
   "metadata": {
    "hidden": true
   },
   "outputs": [],
   "source": [
    "features1 = ['CRS_ELAPSED_TD','CRS_DEP_DT','CRS_ARR_DT','DewPointC','DEP_DELAY_prev','AVG_DELAY6','ARP_DELAY','Month',\n",
    "             'EST_TRN','OD_DELAY6','MIN5_TRN','Buff_TRN','DISTANCE','cloudcover']\n",
    "training_input = training_prev[features1]\n",
    "training_input.loc[:,'CRS_ELAPSED_TD'] = training_input.loc[:,'CRS_ELAPSED_TD'].dt.seconds/60\n",
    "training_input.loc[:,'EST_TRN'] = training_input.loc[:,'EST_TRN'].dt.seconds/60\n",
    "training_input.loc[:,'CRS_DEP_DT'] = training_input.loc[:,'CRS_DEP_DT'].dt.hour\n",
    "training_input.loc[:,'CRS_ARR_DT'] = training_input.loc[:,'CRS_ARR_DT'].dt.hour"
   ]
  },
  {
   "cell_type": "code",
   "execution_count": 13,
   "metadata": {
    "hidden": true
   },
   "outputs": [],
   "source": [
    "from imblearn.under_sampling import RandomUnderSampler\n",
    "cat_cnt = training_prev['DEP_DELAY_BI'].value_counts()\n",
    "\n",
    "rus = RandomUnderSampler(sampling_strategy={0:cat_cnt[1],\n",
    "                                            1:cat_cnt[1]},random_state=42)\n",
    "\n",
    "X_resampled, y_resampled = rus.fit_resample(training_input, training_prev['DEP_DELAY_BI'])"
   ]
  },
  {
   "cell_type": "code",
   "execution_count": 14,
   "metadata": {
    "hidden": true
   },
   "outputs": [
    {
     "name": "stderr",
     "output_type": "stream",
     "text": [
      "[Parallel(n_jobs=-1)]: Using backend ThreadingBackend with 4 concurrent workers.\n",
      "[Parallel(n_jobs=-1)]: Done  42 tasks      | elapsed:  1.4min\n",
      "[Parallel(n_jobs=-1)]: Done 100 out of 100 | elapsed:  3.2min finished\n"
     ]
    },
    {
     "data": {
      "text/plain": [
       "RandomForestClassifier(bootstrap=True, class_weight=None, criterion='gini',\n",
       "            max_depth=None, max_features='auto', max_leaf_nodes=None,\n",
       "            min_impurity_decrease=0.0, min_impurity_split=None,\n",
       "            min_samples_leaf=1, min_samples_split=2,\n",
       "            min_weight_fraction_leaf=0.0, n_estimators=100, n_jobs=-1,\n",
       "            oob_score=False, random_state=42, verbose=1, warm_start=False)"
      ]
     },
     "execution_count": 14,
     "metadata": {},
     "output_type": "execute_result"
    }
   ],
   "source": [
    "from sklearn.ensemble import RandomForestClassifier\n",
    "from sklearn.tree import DecisionTreeClassifier\n",
    "#clf = DecisionTreeClassifier(random_state=42)\n",
    "clf = RandomForestClassifier(n_estimators=100,random_state=42,verbose=1,n_jobs=-1)\n",
    "clf.fit(X_resampled, y_resampled)"
   ]
  },
  {
   "cell_type": "code",
   "execution_count": 15,
   "metadata": {
    "hidden": true
   },
   "outputs": [
    {
     "name": "stderr",
     "output_type": "stream",
     "text": [
      "[Parallel(n_jobs=4)]: Using backend ThreadingBackend with 4 concurrent workers.\n",
      "[Parallel(n_jobs=4)]: Done  42 tasks      | elapsed:    5.7s\n",
      "[Parallel(n_jobs=4)]: Done 100 out of 100 | elapsed:   13.4s finished\n"
     ]
    }
   ],
   "source": [
    "y_pred_base = clf.predict(testing_input)"
   ]
  },
  {
   "cell_type": "code",
   "execution_count": 16,
   "metadata": {
    "hidden": true,
    "scrolled": true
   },
   "outputs": [
    {
     "name": "stdout",
     "output_type": "stream",
     "text": [
      "Accuracy: 0.8308236987239175\n",
      "Recall: 0.7096209354108982\n",
      "Precision0.7565016535362504\n",
      "F1 0.7276972806778036\n"
     ]
    }
   ],
   "source": [
    "print('Accuracy: ' + str(accuracy_score(y_pred_base,testing['DEP_DELAY_BI'])))\n",
    "print('Recall: '+ str(recall_score(y_pred_base,testing['DEP_DELAY_BI'],average='macro')))\n",
    "print('Precision'+ str(precision_score(y_pred_base,testing['DEP_DELAY_BI'],average='macro')))\n",
    "print('F1 ' + str(f1_score(y_pred_base,testing['DEP_DELAY_BI'],average='macro')))"
   ]
  },
  {
   "cell_type": "code",
   "execution_count": 17,
   "metadata": {
    "hidden": true
   },
   "outputs": [
    {
     "name": "stdout",
     "output_type": "stream",
     "text": [
      "Confusion matrix, without normalization\n",
      "[[868246 131919]\n",
      " [ 71212 129329]]\n"
     ]
    },
    {
     "data": {
      "text/plain": [
       "<matplotlib.axes._subplots.AxesSubplot at 0x7fccffc746a0>"
      ]
     },
     "execution_count": 17,
     "metadata": {},
     "output_type": "execute_result"
    },
    {
     "data": {
      "image/png": "[encoded data removed]",
      "text/plain": [
       "<Figure size 432x288 with 2 Axes>"
      ]
     },
     "metadata": {
      "needs_background": "light"
     },
     "output_type": "display_data"
    }
   ],
   "source": [
    "plot_confusion_matrix(testing['DEP_DELAY_BI'],y_pred_base,[0,1])"
   ]
  },
  {
   "cell_type": "code",
   "execution_count": 18,
   "metadata": {
    "hidden": true
   },
   "outputs": [
    {
     "name": "stdout",
     "output_type": "stream",
     "text": [
      "Normalized confusion matrix\n",
      "[[0.86810276 0.13189724]\n",
      " [0.35509946 0.64490054]]\n"
     ]
    },
    {
     "data": {
      "text/plain": [
       "<matplotlib.axes._subplots.AxesSubplot at 0x7fcd0563e390>"
      ]
     },
     "execution_count": 18,
     "metadata": {},
     "output_type": "execute_result"
    },
    {
     "data": {
      "image/png": "[encoded data removed]",
      "text/plain": [
       "<Figure size 432x288 with 2 Axes>"
      ]
     },
     "metadata": {
      "needs_background": "light"
     },
     "output_type": "display_data"
    }
   ],
   "source": [
    "plot_confusion_matrix(testing['DEP_DELAY_BI'],y_pred_base,[0,1],normalize=True)"
   ]
  },
  {
   "cell_type": "markdown",
   "metadata": {},
   "source": [
    "### Fit MLP on testing set"
   ]
  },
  {
   "cell_type": "code",
   "execution_count": 31,
   "metadata": {},
   "outputs": [
    {
     "name": "stdout",
     "output_type": "stream",
     "text": [
      "1200706/1200706 [==============================] - 30s 25us/step\n"
     ]
    }
   ],
   "source": [
    "y_pred_mlp = model.predict(testing_input,verbose=1)\n",
    "y_pred_mlp = np.array(list(map(lambda x: 0 if x<=0.5 else 1,y_pred_mlp.flatten())))"
   ]
  },
  {
   "cell_type": "code",
   "execution_count": 32,
   "metadata": {},
   "outputs": [
    {
     "name": "stdout",
     "output_type": "stream",
     "text": [
      "Accuracy: 0.8088874378907076\n",
      "Recall: 0.6814080472038061\n",
      "Precision0.7294527187143053\n",
      "F1 0.6985109414284105\n"
     ]
    }
   ],
   "source": [
    "print('Accuracy: ' + str(accuracy_score(y_pred_mlp,testing['DEP_DELAY_BI'])))\n",
    "print('Recall: '+ str(recall_score(y_pred_mlp,testing['DEP_DELAY_BI'],average='macro')))\n",
    "print('Precision'+ str(precision_score(y_pred_mlp,testing['DEP_DELAY_BI'],average='macro')))\n",
    "print('F1 ' + str(f1_score(y_pred_mlp,testing['DEP_DELAY_BI'],average='macro')))"
   ]
  },
  {
   "cell_type": "code",
   "execution_count": 35,
   "metadata": {},
   "outputs": [
    {
     "name": "stdout",
     "output_type": "stream",
     "text": [
      "Confusion matrix, without normalization\n",
      "[[848871 151294]\n",
      " [ 78176 122365]]\n"
     ]
    },
    {
     "data": {
      "text/plain": [
       "<matplotlib.axes._subplots.AxesSubplot at 0x7f9d7da54198>"
      ]
     },
     "execution_count": 35,
     "metadata": {},
     "output_type": "execute_result"
    },
    {
     "data": {
      "image/png": "[encoded data removed]",
      "text/plain": [
       "<Figure size 432x288 with 2 Axes>"
      ]
     },
     "metadata": {
      "needs_background": "light"
     },
     "output_type": "display_data"
    }
   ],
   "source": [
    "plot_confusion_matrix(testing['DEP_DELAY_BI'],y_pred_mlp,[0,1])"
   ]
  },
  {
   "cell_type": "code",
   "execution_count": 36,
   "metadata": {},
   "outputs": [
    {
     "name": "stdout",
     "output_type": "stream",
     "text": [
      "Normalized confusion matrix\n",
      "[[0.84873096 0.15126904]\n",
      " [0.38982552 0.61017448]]\n"
     ]
    },
    {
     "data": {
      "text/plain": [
       "<matplotlib.axes._subplots.AxesSubplot at 0x7f9d810eda20>"
      ]
     },
     "execution_count": 36,
     "metadata": {},
     "output_type": "execute_result"
    },
    {
     "data": {
      "image/png": "[encoded data removed]",
      "text/plain": [
       "<Figure size 432x288 with 2 Axes>"
      ]
     },
     "metadata": {
      "needs_background": "light"
     },
     "output_type": "display_data"
    }
   ],
   "source": [
    "plot_confusion_matrix(testing['DEP_DELAY_BI'],y_pred_mlp,[0,1],normalize=True)"
   ]
  },
  {
   "cell_type": "markdown",
   "metadata": {},
   "source": [
    "### Fit a baseline without LSTM input"
   ]
  },
  {
   "cell_type": "code",
   "execution_count": 19,
   "metadata": {},
   "outputs": [],
   "source": [
    "features2 = ['CRS_ELAPSED_TD','CRS_DEP_DT','CRS_ARR_DT','DewPointC','DEP_DELAY_prev','AVG_DELAY6','Month',\n",
    "             'EST_TRN','OD_DELAY6','MIN5_TRN','Buff_TRN','DISTANCE','cloudcover']\n",
    "testing_input = testing[features2]\n",
    "\n",
    "TD_cols = ['CRS_ELAPSED_TD','EST_TRN']\n",
    "for i in TD_cols:\n",
    "    testing_input.loc[:,i] = pd.to_timedelta(testing_input.loc[:,i])\n",
    "    \n",
    "testing_input.loc[:,'CRS_ELAPSED_TD'] = testing_input.loc[:,'CRS_ELAPSED_TD'].dt.seconds/60\n",
    "testing_input.loc[:,'EST_TRN'] = testing_input.loc[:,'EST_TRN'].dt.seconds/60\n",
    "testing_input.loc[:,'CRS_DEP_DT'] = testing_input.loc[:,'CRS_DEP_DT'].dt.hour\n",
    "testing_input['CRS_ARR_DT'] = pd.to_datetime(testing_input['CRS_ARR_DT'])\n",
    "testing_input.loc[:,'CRS_ARR_DT'] = testing_input.loc[:,'CRS_ARR_DT'].dt.hour"
   ]
  },
  {
   "cell_type": "code",
   "execution_count": 20,
   "metadata": {},
   "outputs": [],
   "source": [
    "training_input = training_prev[features2]\n",
    "training_input.loc[:,'CRS_ELAPSED_TD'] = training_input.loc[:,'CRS_ELAPSED_TD'].dt.seconds/60\n",
    "training_input.loc[:,'EST_TRN'] = training_input.loc[:,'EST_TRN'].dt.seconds/60\n",
    "training_input.loc[:,'CRS_DEP_DT'] = training_input.loc[:,'CRS_DEP_DT'].dt.hour\n",
    "training_input.loc[:,'CRS_ARR_DT'] = training_input.loc[:,'CRS_ARR_DT'].dt.hour"
   ]
  },
  {
   "cell_type": "code",
   "execution_count": 21,
   "metadata": {},
   "outputs": [],
   "source": [
    "cat_cnt = training_prev['DEP_DELAY_BI'].value_counts()\n",
    "\n",
    "rus = RandomUnderSampler(sampling_strategy={0:cat_cnt[1],\n",
    "                                            1:cat_cnt[1]},random_state=42)\n",
    "\n",
    "X_resampled, y_resampled = rus.fit_resample(training_input, training_prev['DEP_DELAY_BI'])"
   ]
  },
  {
   "cell_type": "code",
   "execution_count": 22,
   "metadata": {},
   "outputs": [
    {
     "name": "stderr",
     "output_type": "stream",
     "text": [
      "[Parallel(n_jobs=-1)]: Using backend ThreadingBackend with 4 concurrent workers.\n",
      "[Parallel(n_jobs=-1)]: Done  42 tasks      | elapsed:  1.3min\n",
      "[Parallel(n_jobs=-1)]: Done 100 out of 100 | elapsed:  3.1min finished\n"
     ]
    },
    {
     "data": {
      "text/plain": [
       "RandomForestClassifier(bootstrap=True, class_weight=None, criterion='gini',\n",
       "            max_depth=None, max_features='auto', max_leaf_nodes=None,\n",
       "            min_impurity_decrease=0.0, min_impurity_split=None,\n",
       "            min_samples_leaf=1, min_samples_split=2,\n",
       "            min_weight_fraction_leaf=0.0, n_estimators=100, n_jobs=-1,\n",
       "            oob_score=False, random_state=42, verbose=1, warm_start=False)"
      ]
     },
     "execution_count": 22,
     "metadata": {},
     "output_type": "execute_result"
    }
   ],
   "source": [
    "#clf = DecisionTreeClassifier(random_state=29)\n",
    "clf = RandomForestClassifier(n_estimators=100,random_state=42,verbose=1,n_jobs=-1)\n",
    "clf.fit(X_resampled, y_resampled)"
   ]
  },
  {
   "cell_type": "code",
   "execution_count": 23,
   "metadata": {},
   "outputs": [
    {
     "name": "stderr",
     "output_type": "stream",
     "text": [
      "[Parallel(n_jobs=4)]: Using backend ThreadingBackend with 4 concurrent workers.\n",
      "[Parallel(n_jobs=4)]: Done  42 tasks      | elapsed:    5.8s\n",
      "[Parallel(n_jobs=4)]: Done 100 out of 100 | elapsed:   13.4s finished\n"
     ]
    }
   ],
   "source": [
    "y_pred_base_nolstm = clf.predict(testing_input)"
   ]
  },
  {
   "cell_type": "code",
   "execution_count": 24,
   "metadata": {},
   "outputs": [
    {
     "name": "stdout",
     "output_type": "stream",
     "text": [
      "Accuracy: 0.8302373770098592\n",
      "Recall: 0.7069029284896134\n",
      "Precision0.7476102506310438\n",
      "F1 0.723142196538273\n"
     ]
    }
   ],
   "source": [
    "print('Accuracy: ' + str(accuracy_score(y_pred_base_nolstm,testing['DEP_DELAY_BI'])))\n",
    "print('Recall: '+ str(recall_score(y_pred_base_nolstm,testing['DEP_DELAY_BI'],average='macro')))\n",
    "print('Precision'+ str(precision_score(y_pred_base_nolstm,testing['DEP_DELAY_BI'],average='macro')))\n",
    "print('F1 ' + str(f1_score(y_pred_base_nolstm,testing['DEP_DELAY_BI'],average='macro')))"
   ]
  },
  {
   "cell_type": "code",
   "execution_count": 44,
   "metadata": {},
   "outputs": [
    {
     "name": "stdout",
     "output_type": "stream",
     "text": [
      "Confusion matrix, without normalization\n",
      "[[871826 128339]\n",
      " [ 75496 125045]]\n"
     ]
    },
    {
     "data": {
      "text/plain": [
       "<matplotlib.axes._subplots.AxesSubplot at 0x7fec7c81b6d8>"
      ]
     },
     "execution_count": 44,
     "metadata": {},
     "output_type": "execute_result"
    },
    {
     "data": {
      "image/png": "[encoded data removed]",
      "text/plain": [
       "<Figure size 432x288 with 2 Axes>"
      ]
     },
     "metadata": {
      "needs_background": "light"
     },
     "output_type": "display_data"
    }
   ],
   "source": [
    "plot_confusion_matrix(testing['DEP_DELAY_BI'],y_pred_base_nolstm,[0,1])"
   ]
  },
  {
   "cell_type": "code",
   "execution_count": 45,
   "metadata": {},
   "outputs": [
    {
     "name": "stdout",
     "output_type": "stream",
     "text": [
      "Normalized confusion matrix\n",
      "[[0.87168217 0.12831783]\n",
      " [0.37646167 0.62353833]]\n"
     ]
    },
    {
     "data": {
      "text/plain": [
       "<matplotlib.axes._subplots.AxesSubplot at 0x7fec61affbe0>"
      ]
     },
     "execution_count": 45,
     "metadata": {},
     "output_type": "execute_result"
    },
    {
     "data": {
      "image/png": "[encoded data removed]",
      "text/plain": [
       "<Figure size 432x288 with 2 Axes>"
      ]
     },
     "metadata": {
      "needs_background": "light"
     },
     "output_type": "display_data"
    }
   ],
   "source": [
    "plot_confusion_matrix(testing['DEP_DELAY_BI'],y_pred_base_nolstm,[0,1],normalize=True)"
   ]
  },
  {
   "cell_type": "markdown",
   "metadata": {
    "heading_collapsed": true
   },
   "source": [
    "## Build a XGBoost model and CV"
   ]
  },
  {
   "cell_type": "markdown",
   "metadata": {
    "heading_collapsed": true,
    "hidden": true
   },
   "source": [
    "### CV model"
   ]
  },
  {
   "cell_type": "code",
   "execution_count": 12,
   "metadata": {
    "hidden": true
   },
   "outputs": [],
   "source": [
    "def cv_folds(x_train,y_train,train_month,feature_names):\n",
    "    train_ix = x_train[(x_train['Month']<=train_month)\n",
    "                       &(x_train['Month']>=train_month-1)\n",
    "                      ].index\n",
    "    val_ix = x_train[(x_train['Month']>train_month)&(x_train['Month']<=train_month+1)].index\n",
    "    # keeping validation set apart and undersampling in each iteration \n",
    "    train, validation = x_train.iloc[train_ix], x_train.iloc[val_ix]\n",
    "    target_train, target_val = y_train.iloc[train_ix], y_train.iloc[val_ix]\n",
    "    # convert to xgboost format\n",
    "    d_train = xgb.DMatrix(train.values, target_train.values,feature_names=feature_names)\n",
    "    d_val = xgb.DMatrix(validation.values, target_val.values,feature_names=feature_names)\n",
    "    train = xgb.DMatrix(train.values,feature_names=feature_names)\n",
    "    validation = xgb.DMatrix(validation.values,feature_names=feature_names)\n",
    "    return d_train,d_val,train,validation,target_train,target_val"
   ]
  },
  {
   "cell_type": "code",
   "execution_count": 13,
   "metadata": {
    "hidden": true
   },
   "outputs": [],
   "source": [
    "def xgb_train(x_train,y_train,params,feature_names,\n",
    "              num_round = 100,early_stopping_rounds=10):\n",
    "    \n",
    "    cross_val_f1_score_lst = [];cross_val_accuracy_lst = [];train_accuracy_lst = [];cross_val_recall_lst = []\n",
    "    cross_val_precision_lst = [];validation_preds_lst = [];target_val_lst = [];cross_val_roc_lst = []\n",
    "    \n",
    "    train_end_months = np.array([2,3,4,5,6,7,8])\n",
    "    for i, train_month in enumerate(train_end_months):\n",
    "        print('This is the #'+str(i+1)+' fold')\n",
    "        d_train,d_val,train,validation,target_train,target_val = cv_folds(x_train,y_train,train_month,feature_names)\n",
    "        # specify validations set to watch performance\n",
    "        watchlist = [(d_val, 'eval'), (d_train, 'train')]\n",
    "        # train the model\n",
    "        mdl = xgb.train(params, d_train, num_round, watchlist, \n",
    "                        early_stopping_rounds=early_stopping_rounds,verbose_eval=False)\n",
    "        # make the prediction\n",
    "        val_pred = mdl.predict(validation)\n",
    "        val_pred = np.array(list(map(lambda x: 0 if x<=0.5 else 1,val_pred)))\n",
    "        train_pred = mdl.predict(train)\n",
    "        train_pred = np.array(list(map(lambda x: 0 if x<=0.5 else 1,train_pred)))\n",
    "        \n",
    "        cross_val_accuracy_lst.append(accuracy_score(target_val, val_pred))\n",
    "        train_accuracy_lst.append(accuracy_score(target_train, train_pred))\n",
    "        cross_val_recall_lst.append(recall_score(target_val, val_pred,average='macro'))\n",
    "        cross_val_precision_lst.append(precision_score(target_val, val_pred,average='macro'))\n",
    "        cross_val_f1_score_lst.append(f1_score(target_val, val_pred,average='macro'))\n",
    "        cross_val_roc_lst.append(roc_auc_score(target_val, val_pred))\n",
    "        validation_preds_lst.append(val_pred)\n",
    "        target_val_lst.append(target_val)\n",
    "    \n",
    "    metric_dict = {'val_acc': np.mean(cross_val_accuracy_lst),'train_acc':np.mean(train_accuracy_lst),\n",
    "                   'recall': np.mean(cross_val_recall_lst),'precision': np.mean(cross_val_precision_lst),\n",
    "                   'f1': np.mean(cross_val_f1_score_lst),'roc_auc':np.mean(cross_val_roc_lst)}\n",
    "    \n",
    "    print ('Cross validated accuracy: {}'.format(metric_dict['val_acc']))\n",
    "    print ('Training accuracy: {}'.format(metric_dict['train_acc']))\n",
    "    print ('Cross validated recall score: {}'.format(metric_dict['recall']))\n",
    "    print ('Cross validated precision score: {}'.format(metric_dict['precision']))\n",
    "    print ('Cross validated f1_score: {}'.format(metric_dict['f1']))\n",
    "    print ('Cross validated roc_auc: {}'.format(metric_dict['roc_auc']))\n",
    "    \n",
    "    val_pred = list(chain.from_iterable(validation_preds_lst))\n",
    "    target_val = list(chain.from_iterable(target_val_lst))\n",
    "    plot_confusion_matrix(target_val,val_pred,classes=[0,1],normalize=True) #plot confusion matrix\n",
    "    plot_confusion_matrix(target_val,val_pred,classes=[0,1],normalize=False)\n",
    "    \n",
    "    return mdl, metric_dict"
   ]
  },
  {
   "cell_type": "code",
   "execution_count": 14,
   "metadata": {
    "hidden": true
   },
   "outputs": [],
   "source": [
    "scale_pos_weight = training_prev['DEP_DELAY_BI'].value_counts()[0]/training_prev['DEP_DELAY_BI'].value_counts()[1]\n",
    "xgb_params = {\n",
    "    'objective': 'binary:logistic',\n",
    "    'eval_metric':'auc',\n",
    "    'eta': 0.1,\n",
    "    'scale_pos_weight':scale_pos_weight,\n",
    "    'nthread':4,\n",
    "    'max_depth':5,\n",
    "    'min_child_weight':3,\n",
    "    'gamma':0,\n",
    "    'subsample':0.8,\n",
    "    'colsample_bytree':0.8\n",
    "    }\n",
    "num_round = 200\n",
    "early_stopping_rounds=5"
   ]
  },
  {
   "cell_type": "code",
   "execution_count": 27,
   "metadata": {
    "hidden": true,
    "scrolled": true
   },
   "outputs": [
    {
     "name": "stdout",
     "output_type": "stream",
     "text": [
      "This is the #1 fold\n",
      "This is the #2 fold\n",
      "This is the #3 fold\n",
      "This is the #4 fold\n",
      "This is the #5 fold\n",
      "This is the #6 fold\n",
      "This is the #7 fold\n",
      "Cross validated accuracy: 0.8188384372354618\n",
      "Training accuracy: 0.8238459506648015\n",
      "Cross validated recall score: 0.7653248179823915\n",
      "Cross validated precision score: 0.717977487452187\n",
      "Cross validated f1_score: 0.7346995011299458\n",
      "Cross validated roc_auc: 0.7653248179823916\n",
      "Normalized confusion matrix\n",
      "[[0.84689323 0.15310677]\n",
      " [0.30786893 0.69213107]]\n",
      "Confusion matrix, without normalization\n",
      "[[1814412  328021]\n",
      " [ 156741  352375]]\n"
     ]
    },
    {
     "data": {
      "image/png": "[encoded data removed]",
      "text/plain": [
       "<Figure size 432x288 with 2 Axes>"
      ]
     },
     "metadata": {
      "needs_background": "light"
     },
     "output_type": "display_data"
    },
    {
     "data": {
      "image/png": "[encoded data removed]",
      "text/plain": [
       "<Figure size 432x288 with 2 Axes>"
      ]
     },
     "metadata": {
      "needs_background": "light"
     },
     "output_type": "display_data"
    }
   ],
   "source": [
    "mdl,metric_dict = xgb_train(training_input,training_prev['DEP_DELAY_BI'],\n",
    "                            params=xgb_params,feature_names=features,\n",
    "                            num_round = num_round,early_stopping_rounds=early_stopping_rounds)"
   ]
  },
  {
   "cell_type": "code",
   "execution_count": 35,
   "metadata": {
    "hidden": true
   },
   "outputs": [],
   "source": [
    "features = list(reversed(['Airport Delay','Turnaround Slack','Departure Delay previous flight','Scheduled Turnaround','Minimum Turnaround','Avg. Delay last 6 hours',\n",
    "                    'Distance','Scheduled Departure Time','Scheduled Elapsed Time','Dew Point','Cloud Cover','Scheduled Arrival Time','Temp','Pressure','Humidity',\n",
    "                    'Wind Speed','OD-pair Delay','Weekday','WN','Precipitation','AA','F9','MQ','DL','Month','B6','AS','OO','YX','EV','UA','OH','HA','YV','NK','G4']))"
   ]
  },
  {
   "cell_type": "code",
   "execution_count": 48,
   "metadata": {
    "hidden": true
   },
   "outputs": [
    {
     "data": {
      "image/png": "[encoded data removed]",
      "text/plain": [
       "<Figure size 864x864 with 1 Axes>"
      ]
     },
     "metadata": {
      "needs_background": "light"
     },
     "output_type": "display_data"
    }
   ],
   "source": [
    "fig, ax = plt.subplots(1,1,figsize=(12,12))\n",
    "xgb.plot_importance(mdl,ax=ax,grid=False)\n",
    "ax.set_yticklabels(features)\n",
    "plt.savefig('./images/fea_impo.png',dpi=600,bbox_inches=\"tight\")\n",
    "plt.tight_layout()\n",
    "plt.show()"
   ]
  },
  {
   "cell_type": "markdown",
   "metadata": {
    "heading_collapsed": true,
    "hidden": true
   },
   "source": [
    "### Grid Search CV"
   ]
  },
  {
   "cell_type": "code",
   "execution_count": 13,
   "metadata": {
    "hidden": true
   },
   "outputs": [],
   "source": [
    "performance = pd.DataFrame([],columns=['objective', 'eval_metric', 'eta', 'scale_pos_weight', 'nthread',\n",
    "                                       'max_depth', 'min_child_weight', 'gamma', 'subsample', 'colsample_bytree','reg_alpha',\n",
    "                                       'num_rounds','early_stopping_rounds', 'val_acc', 'train_acc', 'recall', 'precision',\n",
    "                                       'f1', 'roc_auc'])"
   ]
  },
  {
   "cell_type": "code",
   "execution_count": 105,
   "metadata": {
    "hidden": true
   },
   "outputs": [],
   "source": [
    "def gs_cv_xgb1(X,Y,lower,upper,interval,target_param,params,\n",
    "              num_round,early_stopping_rounds,feature_names,performance_df):\n",
    "    # a for loop to iterate over the possible values for the target parameter\n",
    "    for i in np.arange(lower,upper+interval,interval):\n",
    "        params[target_param] = i\n",
    "        print(target_param + ': ' + str(i))\n",
    "        # train the model with 7 folds cv\n",
    "        mdl,metric_dict = xgb_train(X,Y,params=params,feature_names=feature_names,num_round = num_round,\n",
    "                                    early_stopping_rounds=early_stopping_rounds)\n",
    "        \n",
    "        # append the metrics and hyper-parameters to the dataframe\n",
    "        a_dict = {**params,**{'num_rounds':num_round,'early_stopping_rounds':5},**metric_dict}\n",
    "        performance_df = performance_df.append(a_dict,ignore_index=True)\n",
    "    \n",
    "    return performance_df,mdl"
   ]
  },
  {
   "cell_type": "code",
   "execution_count": 57,
   "metadata": {
    "hidden": true
   },
   "outputs": [],
   "source": [
    "def gs_cv_xgb2(X,Y,target_names,para_values,params,\n",
    "              num_round,early_stopping_rounds,feature_names,performance_df):\n",
    "    for i in para_values[0]:\n",
    "        params[target_names[0]] = i\n",
    "        for j in para_values[1]:\n",
    "            params[target_names[1]] = j\n",
    "            print(str(target_names[0]) + ': ' + str(i) + ' & ' + target_names[1] + ': ' + str(j))\n",
    "            # train the model with 7 folds cv\n",
    "            mdl,metric_dict = xgb_train(X,Y,params=params,feature_names=feature_names,num_round = num_round,\n",
    "                                        early_stopping_rounds=early_stopping_rounds)\n",
    "\n",
    "            # append the metrics and hyper-parameters to the dataframe\n",
    "            a_dict = {**params,**{'num_rounds':num_round,'early_stopping_rounds':5},**metric_dict}\n",
    "            performance_df = performance_df.append(a_dict,ignore_index=True)\n",
    "    \n",
    "    return performance_df,mdl"
   ]
  },
  {
   "cell_type": "code",
   "execution_count": 112,
   "metadata": {
    "hidden": true
   },
   "outputs": [],
   "source": [
    "scale_pos_weight = training_prev['DEP_DELAY_BI'].value_counts()[0]/training_prev['DEP_DELAY_BI'].value_counts()[1]\n",
    "xgb_params = {\n",
    "    'objective': 'binary:logistic',\n",
    "    'eval_metric':'auc',\n",
    "    'eta': 0.1,\n",
    "    'scale_pos_weight':scale_pos_weight,\n",
    "    'nthread':4,\n",
    "    'max_depth':5,\n",
    "    'min_child_weight':3,\n",
    "    'gamma':0,\n",
    "    'subsample':0.8,\n",
    "    'colsample_bytree':0.8,\n",
    "    'reg_alpha':0\n",
    "    }\n",
    "num_round = 150\n",
    "early_stopping_rounds = 5"
   ]
  },
  {
   "cell_type": "code",
   "execution_count": 80,
   "metadata": {
    "hidden": true
   },
   "outputs": [],
   "source": [
    "X = training_input\n",
    "Y = training_prev['DEP_DELAY_BI']\n",
    "X,_1,Y,_2 = train_test_split(X,Y,test_size=0.9,random_state=36, stratify=X['Month'])\n",
    "X.reset_index(drop=True,inplace=True)\n",
    "Y.reset_index(drop=True,inplace=True)"
   ]
  },
  {
   "cell_type": "code",
   "execution_count": 109,
   "metadata": {
    "hidden": true,
    "scrolled": true
   },
   "outputs": [
    {
     "name": "stdout",
     "output_type": "stream",
     "text": [
      "subsample: 0.6 & colsample_bytree: 0.6\n",
      "This is the #1 fold\n",
      "This is the #2 fold\n",
      "This is the #3 fold\n",
      "This is the #4 fold\n",
      "This is the #5 fold\n",
      "This is the #6 fold\n",
      "This is the #7 fold\n",
      "This is the #5 fold\n",
      "This is the #6 fold\n",
      "This is the #7 fold\n",
      "Cross validated accuracy: 0.8194194416333109\n",
      "Training accuracy: 0.8442284196950915\n",
      "Cross validated recall score: 0.7571012955253212\n",
      "Cross validated precision score: 0.7172551679772249\n",
      "Cross validated f1_score: 0.7318662669817273\n",
      "Cross validated roc_auc: 0.7571012955253212\n",
      "subsample: 0.7 & colsample_bytree: 0.6\n",
      "This is the #1 fold\n",
      "This is the #2 fold\n",
      "This is the #3 fold\n",
      "This is the #4 fold\n",
      "This is the #5 fold\n",
      "This is the #6 fold\n",
      "This is the #7 fold\n",
      "Cross validated accuracy: 0.820629583126413\n",
      "Training accuracy: 0.8434342591987244\n",
      "Cross validated recall score: 0.7578035151522801\n",
      "Cross validated precision score: 0.7186647801124975\n",
      "Cross validated f1_score: 0.7330865316932188\n",
      "Cross validated roc_auc: 0.7578035151522802\n",
      "subsample: 0.7 & colsample_bytree: 0.7\n",
      "This is the #1 fold\n",
      "This is the #2 fold\n",
      "This is the #3 fold\n",
      "This is the #4 fold\n",
      "This is the #5 fold\n",
      "This is the #6 fold\n",
      "This is the #7 fold\n",
      "Cross validated accuracy: 0.8212466451892996\n",
      "Training accuracy: 0.8440764806149971\n",
      "Cross validated recall score: 0.7580887890968346\n",
      "Cross validated precision score: 0.7194703546353873\n",
      "Cross validated f1_score: 0.733719394412161\n",
      "Cross validated roc_auc: 0.7580887890968346\n",
      "subsample: 0.7 & colsample_bytree: 0.8\n",
      "This is the #1 fold\n",
      "This is the #2 fold\n",
      "This is the #3 fold\n",
      "This is the #4 fold\n",
      "This is the #5 fold\n",
      "This is the #6 fold\n",
      "This is the #7 fold\n",
      "Cross validated accuracy: 0.8204097547155904\n",
      "Training accuracy: 0.8439168448198827\n",
      "Cross validated recall score: 0.7582906702218308\n",
      "Cross validated precision score: 0.7185081569164061\n",
      "Cross validated f1_score: 0.7331239601706435\n",
      "Cross validated roc_auc: 0.7582906702218308\n",
      "subsample: 0.7 & colsample_bytree: 0.9\n",
      "This is the #1 fold\n",
      "This is the #2 fold\n",
      "This is the #3 fold\n",
      "This is the #4 fold\n",
      "This is the #5 fold\n",
      "This is the #6 fold\n",
      "This is the #7 fold\n",
      "Cross validated accuracy: 0.8203601644829883\n",
      "Training accuracy: 0.8443978956939117\n",
      "Cross validated recall score: 0.7579867811902173\n",
      "Cross validated precision score: 0.718253136198508\n",
      "Cross validated f1_score: 0.732903222378149\n",
      "Cross validated roc_auc: 0.7579867811902173\n",
      "subsample: 0.8 & colsample_bytree: 0.6\n",
      "This is the #1 fold\n",
      "This is the #2 fold\n",
      "This is the #3 fold\n",
      "This is the #4 fold\n",
      "This is the #5 fold\n",
      "This is the #6 fold\n",
      "This is the #7 fold\n",
      "Cross validated accuracy: 0.8214445761048145\n",
      "Training accuracy: 0.8440603588649311\n",
      "Cross validated recall score: 0.7591096525916378\n",
      "Cross validated precision score: 0.7198429961355889\n",
      "Cross validated f1_score: 0.7343586152202628\n",
      "Cross validated roc_auc: 0.7591096525916375\n",
      "subsample: 0.8 & colsample_bytree: 0.7\n",
      "This is the #1 fold\n",
      "This is the #2 fold\n",
      "This is the #3 fold\n",
      "This is the #4 fold\n",
      "This is the #5 fold\n",
      "This is the #6 fold\n",
      "This is the #7 fold\n",
      "Cross validated accuracy: 0.8219277383975518\n",
      "Training accuracy: 0.8449943641836234\n",
      "Cross validated recall score: 0.7588268683492015\n",
      "Cross validated precision score: 0.7200896719569218\n",
      "Cross validated f1_score: 0.7345166120441519\n",
      "Cross validated roc_auc: 0.7588268683492017\n",
      "subsample: 0.8 & colsample_bytree: 0.8\n",
      "This is the #1 fold\n",
      "This is the #2 fold\n",
      "This is the #3 fold\n",
      "This is the #4 fold\n",
      "This is the #5 fold\n",
      "This is the #6 fold\n",
      "This is the #7 fold\n",
      "Cross validated accuracy: 0.8207089775839906\n",
      "Training accuracy: 0.8447530550500814\n",
      "Cross validated recall score: 0.7580261793315854\n",
      "Cross validated precision score: 0.7188335232007058\n",
      "Cross validated f1_score: 0.733290962243255\n",
      "Cross validated roc_auc: 0.7580261793315854\n",
      "subsample: 0.8 & colsample_bytree: 0.9\n",
      "This is the #1 fold\n",
      "This is the #2 fold\n",
      "This is the #3 fold\n",
      "This is the #4 fold\n",
      "This is the #5 fold\n",
      "This is the #6 fold\n",
      "This is the #7 fold\n",
      "Cross validated accuracy: 0.8210781504749766\n",
      "Training accuracy: 0.8449294856458726\n",
      "Cross validated recall score: 0.7581567606627144\n",
      "Cross validated precision score: 0.7191698660566388\n",
      "Cross validated f1_score: 0.7336080740853808\n",
      "Cross validated roc_auc: 0.7581567606627144\n",
      "subsample: 0.9 & colsample_bytree: 0.6\n",
      "This is the #1 fold\n",
      "This is the #2 fold\n",
      "This is the #3 fold\n",
      "This is the #4 fold\n",
      "This is the #5 fold\n",
      "This is the #6 fold\n",
      "This is the #7 fold\n",
      "Cross validated accuracy: 0.8220769103234026\n",
      "Training accuracy: 0.8441972409091302\n",
      "Cross validated recall score: 0.7588632020474737\n",
      "Cross validated precision score: 0.7202992626555378\n",
      "Cross validated f1_score: 0.7346316575446604\n",
      "Cross validated roc_auc: 0.7588632020474737\n",
      "subsample: 0.9 & colsample_bytree: 0.7\n",
      "This is the #1 fold\n",
      "This is the #2 fold\n",
      "This is the #3 fold\n",
      "This is the #4 fold\n",
      "This is the #5 fold\n",
      "This is the #6 fold\n",
      "This is the #7 fold\n",
      "Cross validated accuracy: 0.8210160615698957\n",
      "Training accuracy: 0.8442701076176127\n",
      "Cross validated recall score: 0.7585715907202667\n",
      "Cross validated precision score: 0.7193073636330334\n",
      "Cross validated f1_score: 0.7338030415753151\n",
      "Cross validated roc_auc: 0.7585715907202669\n",
      "subsample: 0.9 & colsample_bytree: 0.8\n",
      "This is the #1 fold\n",
      "This is the #2 fold\n",
      "This is the #3 fold\n",
      "This is the #4 fold\n",
      "This is the #5 fold\n",
      "This is the #6 fold\n",
      "This is the #7 fold\n",
      "Cross validated accuracy: 0.8211497319842611\n",
      "Training accuracy: 0.8448876368650377\n",
      "Cross validated recall score: 0.7578964133391418\n",
      "Cross validated precision score: 0.7192216405886181\n",
      "Cross validated f1_score: 0.733558753092254\n",
      "Cross validated roc_auc: 0.7578964133391418\n",
      "subsample: 0.9 & colsample_bytree: 0.9\n",
      "This is the #1 fold\n",
      "This is the #2 fold\n",
      "This is the #3 fold\n",
      "This is the #4 fold\n",
      "This is the #5 fold\n",
      "This is the #6 fold\n",
      "This is the #7 fold\n",
      "Cross validated accuracy: 0.8214442086854533\n",
      "Training accuracy: 0.8450670445129854\n",
      "Cross validated recall score: 0.7576909362772822\n",
      "Cross validated precision score: 0.7193976192601241\n",
      "Cross validated f1_score: 0.7336376928678698\n",
      "Cross validated roc_auc: 0.7576909362772819\n"
     ]
    }
   ],
   "source": [
    "performance,mdl = gs_cv_xgb2(X,Y,target_names=['subsample','colsample_bytree'],para_values=[[0.6,0.7,0.8,0.9],[0.6,0.7,0.8,0.9]],\n",
    "                             params=xgb_params,num_round=num_round,early_stopping_rounds=early_stopping_rounds,\n",
    "                             feature_names=features,performance_df=performance)"
   ]
  },
  {
   "cell_type": "code",
   "execution_count": 111,
   "metadata": {
    "hidden": true
   },
   "outputs": [
    {
     "data": {
      "text/html": [
       "<div>\n",
       "<style scoped>\n",
       "    .dataframe tbody tr th:only-of-type {\n",
       "        vertical-align: middle;\n",
       "    }\n",
       "\n",
       "    .dataframe tbody tr th {\n",
       "        vertical-align: top;\n",
       "    }\n",
       "\n",
       "    .dataframe thead th {\n",
       "        text-align: right;\n",
       "    }\n",
       "</style>\n",
       "<table border=\"1\" class=\"dataframe\">\n",
       "  <thead>\n",
       "    <tr style=\"text-align: right;\">\n",
       "      <th></th>\n",
       "      <th>objective</th>\n",
       "      <th>eval_metric</th>\n",
       "      <th>eta</th>\n",
       "      <th>scale_pos_weight</th>\n",
       "      <th>nthread</th>\n",
       "      <th>max_depth</th>\n",
       "      <th>min_child_weight</th>\n",
       "      <th>gamma</th>\n",
       "      <th>subsample</th>\n",
       "      <th>colsample_bytree</th>\n",
       "      <th>reg_alpha</th>\n",
       "      <th>num_rounds</th>\n",
       "      <th>early_stopping_rounds</th>\n",
       "      <th>val_acc</th>\n",
       "      <th>train_acc</th>\n",
       "      <th>recall</th>\n",
       "      <th>precision</th>\n",
       "      <th>f1</th>\n",
       "      <th>roc_auc</th>\n",
       "    </tr>\n",
       "  </thead>\n",
       "  <tbody>\n",
       "    <tr>\n",
       "      <th>1</th>\n",
       "      <td>binary:logistic</td>\n",
       "      <td>auc</td>\n",
       "      <td>0.1</td>\n",
       "      <td>4.322689</td>\n",
       "      <td>4</td>\n",
       "      <td>5</td>\n",
       "      <td>3</td>\n",
       "      <td>0</td>\n",
       "      <td>0.8</td>\n",
       "      <td>0.8</td>\n",
       "      <td>0</td>\n",
       "      <td>150</td>\n",
       "      <td>5</td>\n",
       "      <td>0.817240</td>\n",
       "      <td>0.832862</td>\n",
       "      <td>0.759349</td>\n",
       "      <td>0.715862</td>\n",
       "      <td>0.731276</td>\n",
       "      <td>0.759349</td>\n",
       "    </tr>\n",
       "    <tr>\n",
       "      <th>43</th>\n",
       "      <td>binary:logistic</td>\n",
       "      <td>auc</td>\n",
       "      <td>0.1</td>\n",
       "      <td>4.322689</td>\n",
       "      <td>4</td>\n",
       "      <td>6</td>\n",
       "      <td>6</td>\n",
       "      <td>0.4</td>\n",
       "      <td>0.8</td>\n",
       "      <td>0.6</td>\n",
       "      <td>0</td>\n",
       "      <td>150</td>\n",
       "      <td>5</td>\n",
       "      <td>0.821445</td>\n",
       "      <td>0.844060</td>\n",
       "      <td>0.759110</td>\n",
       "      <td>0.719843</td>\n",
       "      <td>0.734359</td>\n",
       "      <td>0.759110</td>\n",
       "    </tr>\n",
       "    <tr>\n",
       "      <th>26</th>\n",
       "      <td>binary:logistic</td>\n",
       "      <td>auc</td>\n",
       "      <td>0.1</td>\n",
       "      <td>4.322689</td>\n",
       "      <td>4</td>\n",
       "      <td>5</td>\n",
       "      <td>6</td>\n",
       "      <td>0</td>\n",
       "      <td>0.8</td>\n",
       "      <td>0.8</td>\n",
       "      <td>0</td>\n",
       "      <td>150</td>\n",
       "      <td>5</td>\n",
       "      <td>0.817169</td>\n",
       "      <td>0.832133</td>\n",
       "      <td>0.759065</td>\n",
       "      <td>0.715663</td>\n",
       "      <td>0.731064</td>\n",
       "      <td>0.759065</td>\n",
       "    </tr>\n",
       "    <tr>\n",
       "      <th>24</th>\n",
       "      <td>binary:logistic</td>\n",
       "      <td>auc</td>\n",
       "      <td>0.1</td>\n",
       "      <td>4.322689</td>\n",
       "      <td>4</td>\n",
       "      <td>5</td>\n",
       "      <td>4</td>\n",
       "      <td>0</td>\n",
       "      <td>0.8</td>\n",
       "      <td>0.8</td>\n",
       "      <td>0</td>\n",
       "      <td>150</td>\n",
       "      <td>5</td>\n",
       "      <td>0.817191</td>\n",
       "      <td>0.832624</td>\n",
       "      <td>0.759035</td>\n",
       "      <td>0.715549</td>\n",
       "      <td>0.731022</td>\n",
       "      <td>0.759035</td>\n",
       "    </tr>\n",
       "    <tr>\n",
       "      <th>22</th>\n",
       "      <td>binary:logistic</td>\n",
       "      <td>auc</td>\n",
       "      <td>0.1</td>\n",
       "      <td>4.322689</td>\n",
       "      <td>4</td>\n",
       "      <td>4</td>\n",
       "      <td>5</td>\n",
       "      <td>0</td>\n",
       "      <td>0.8</td>\n",
       "      <td>0.8</td>\n",
       "      <td>0</td>\n",
       "      <td>150</td>\n",
       "      <td>5</td>\n",
       "      <td>0.812681</td>\n",
       "      <td>0.822464</td>\n",
       "      <td>0.759034</td>\n",
       "      <td>0.711528</td>\n",
       "      <td>0.727674</td>\n",
       "      <td>0.759034</td>\n",
       "    </tr>\n",
       "    <tr>\n",
       "      <th>21</th>\n",
       "      <td>binary:logistic</td>\n",
       "      <td>auc</td>\n",
       "      <td>0.1</td>\n",
       "      <td>4.322689</td>\n",
       "      <td>4</td>\n",
       "      <td>4</td>\n",
       "      <td>4</td>\n",
       "      <td>0</td>\n",
       "      <td>0.8</td>\n",
       "      <td>0.8</td>\n",
       "      <td>0</td>\n",
       "      <td>150</td>\n",
       "      <td>5</td>\n",
       "      <td>0.812909</td>\n",
       "      <td>0.822415</td>\n",
       "      <td>0.758971</td>\n",
       "      <td>0.711756</td>\n",
       "      <td>0.727825</td>\n",
       "      <td>0.758971</td>\n",
       "    </tr>\n",
       "    <tr>\n",
       "      <th>47</th>\n",
       "      <td>binary:logistic</td>\n",
       "      <td>auc</td>\n",
       "      <td>0.1</td>\n",
       "      <td>4.322689</td>\n",
       "      <td>4</td>\n",
       "      <td>6</td>\n",
       "      <td>6</td>\n",
       "      <td>0.4</td>\n",
       "      <td>0.9</td>\n",
       "      <td>0.6</td>\n",
       "      <td>0</td>\n",
       "      <td>150</td>\n",
       "      <td>5</td>\n",
       "      <td>0.822077</td>\n",
       "      <td>0.844197</td>\n",
       "      <td>0.758863</td>\n",
       "      <td>0.720299</td>\n",
       "      <td>0.734632</td>\n",
       "      <td>0.758863</td>\n",
       "    </tr>\n",
       "    <tr>\n",
       "      <th>25</th>\n",
       "      <td>binary:logistic</td>\n",
       "      <td>auc</td>\n",
       "      <td>0.1</td>\n",
       "      <td>4.322689</td>\n",
       "      <td>4</td>\n",
       "      <td>5</td>\n",
       "      <td>5</td>\n",
       "      <td>0</td>\n",
       "      <td>0.8</td>\n",
       "      <td>0.8</td>\n",
       "      <td>0</td>\n",
       "      <td>150</td>\n",
       "      <td>5</td>\n",
       "      <td>0.816635</td>\n",
       "      <td>0.832345</td>\n",
       "      <td>0.758843</td>\n",
       "      <td>0.715057</td>\n",
       "      <td>0.730545</td>\n",
       "      <td>0.758843</td>\n",
       "    </tr>\n",
       "    <tr>\n",
       "      <th>2</th>\n",
       "      <td>binary:logistic</td>\n",
       "      <td>auc</td>\n",
       "      <td>0.1</td>\n",
       "      <td>4.322689</td>\n",
       "      <td>4</td>\n",
       "      <td>5</td>\n",
       "      <td>5</td>\n",
       "      <td>0</td>\n",
       "      <td>0.8</td>\n",
       "      <td>0.8</td>\n",
       "      <td>0</td>\n",
       "      <td>150</td>\n",
       "      <td>5</td>\n",
       "      <td>0.816635</td>\n",
       "      <td>0.832345</td>\n",
       "      <td>0.758843</td>\n",
       "      <td>0.715057</td>\n",
       "      <td>0.730545</td>\n",
       "      <td>0.758843</td>\n",
       "    </tr>\n",
       "    <tr>\n",
       "      <th>44</th>\n",
       "      <td>binary:logistic</td>\n",
       "      <td>auc</td>\n",
       "      <td>0.1</td>\n",
       "      <td>4.322689</td>\n",
       "      <td>4</td>\n",
       "      <td>6</td>\n",
       "      <td>6</td>\n",
       "      <td>0.4</td>\n",
       "      <td>0.8</td>\n",
       "      <td>0.7</td>\n",
       "      <td>0</td>\n",
       "      <td>150</td>\n",
       "      <td>5</td>\n",
       "      <td>0.821928</td>\n",
       "      <td>0.844994</td>\n",
       "      <td>0.758827</td>\n",
       "      <td>0.720090</td>\n",
       "      <td>0.734517</td>\n",
       "      <td>0.758827</td>\n",
       "    </tr>\n",
       "    <tr>\n",
       "      <th>23</th>\n",
       "      <td>binary:logistic</td>\n",
       "      <td>auc</td>\n",
       "      <td>0.1</td>\n",
       "      <td>4.322689</td>\n",
       "      <td>4</td>\n",
       "      <td>4</td>\n",
       "      <td>6</td>\n",
       "      <td>0</td>\n",
       "      <td>0.8</td>\n",
       "      <td>0.8</td>\n",
       "      <td>0</td>\n",
       "      <td>150</td>\n",
       "      <td>5</td>\n",
       "      <td>0.812842</td>\n",
       "      <td>0.822362</td>\n",
       "      <td>0.758745</td>\n",
       "      <td>0.711563</td>\n",
       "      <td>0.727635</td>\n",
       "      <td>0.758745</td>\n",
       "    </tr>\n",
       "    <tr>\n",
       "      <th>48</th>\n",
       "      <td>binary:logistic</td>\n",
       "      <td>auc</td>\n",
       "      <td>0.1</td>\n",
       "      <td>4.322689</td>\n",
       "      <td>4</td>\n",
       "      <td>6</td>\n",
       "      <td>6</td>\n",
       "      <td>0.4</td>\n",
       "      <td>0.9</td>\n",
       "      <td>0.7</td>\n",
       "      <td>0</td>\n",
       "      <td>150</td>\n",
       "      <td>5</td>\n",
       "      <td>0.821016</td>\n",
       "      <td>0.844270</td>\n",
       "      <td>0.758572</td>\n",
       "      <td>0.719307</td>\n",
       "      <td>0.733803</td>\n",
       "      <td>0.758572</td>\n",
       "    </tr>\n",
       "    <tr>\n",
       "      <th>0</th>\n",
       "      <td>binary:logistic</td>\n",
       "      <td>auc</td>\n",
       "      <td>0.1</td>\n",
       "      <td>4.322689</td>\n",
       "      <td>4</td>\n",
       "      <td>5</td>\n",
       "      <td>1</td>\n",
       "      <td>0</td>\n",
       "      <td>0.8</td>\n",
       "      <td>0.8</td>\n",
       "      <td>0</td>\n",
       "      <td>150</td>\n",
       "      <td>5</td>\n",
       "      <td>0.816690</td>\n",
       "      <td>0.833546</td>\n",
       "      <td>0.758496</td>\n",
       "      <td>0.715180</td>\n",
       "      <td>0.730494</td>\n",
       "      <td>0.758496</td>\n",
       "    </tr>\n",
       "    <tr>\n",
       "      <th>33</th>\n",
       "      <td>binary:logistic</td>\n",
       "      <td>auc</td>\n",
       "      <td>0.1</td>\n",
       "      <td>4.322689</td>\n",
       "      <td>4</td>\n",
       "      <td>6</td>\n",
       "      <td>6</td>\n",
       "      <td>0.3</td>\n",
       "      <td>0.8</td>\n",
       "      <td>0.8</td>\n",
       "      <td>0</td>\n",
       "      <td>150</td>\n",
       "      <td>5</td>\n",
       "      <td>0.821355</td>\n",
       "      <td>0.844720</td>\n",
       "      <td>0.758451</td>\n",
       "      <td>0.719554</td>\n",
       "      <td>0.733980</td>\n",
       "      <td>0.758451</td>\n",
       "    </tr>\n",
       "    <tr>\n",
       "      <th>41</th>\n",
       "      <td>binary:logistic</td>\n",
       "      <td>auc</td>\n",
       "      <td>0.1</td>\n",
       "      <td>4.322689</td>\n",
       "      <td>4</td>\n",
       "      <td>6</td>\n",
       "      <td>6</td>\n",
       "      <td>0.4</td>\n",
       "      <td>0.7</td>\n",
       "      <td>0.8</td>\n",
       "      <td>0</td>\n",
       "      <td>150</td>\n",
       "      <td>5</td>\n",
       "      <td>0.820410</td>\n",
       "      <td>0.843917</td>\n",
       "      <td>0.758291</td>\n",
       "      <td>0.718508</td>\n",
       "      <td>0.733124</td>\n",
       "      <td>0.758291</td>\n",
       "    </tr>\n",
       "    <tr>\n",
       "      <th>46</th>\n",
       "      <td>binary:logistic</td>\n",
       "      <td>auc</td>\n",
       "      <td>0.1</td>\n",
       "      <td>4.322689</td>\n",
       "      <td>4</td>\n",
       "      <td>6</td>\n",
       "      <td>6</td>\n",
       "      <td>0.4</td>\n",
       "      <td>0.8</td>\n",
       "      <td>0.9</td>\n",
       "      <td>0</td>\n",
       "      <td>150</td>\n",
       "      <td>5</td>\n",
       "      <td>0.821078</td>\n",
       "      <td>0.844929</td>\n",
       "      <td>0.758157</td>\n",
       "      <td>0.719170</td>\n",
       "      <td>0.733608</td>\n",
       "      <td>0.758157</td>\n",
       "    </tr>\n",
       "    <tr>\n",
       "      <th>31</th>\n",
       "      <td>binary:logistic</td>\n",
       "      <td>auc</td>\n",
       "      <td>0.1</td>\n",
       "      <td>4.322689</td>\n",
       "      <td>4</td>\n",
       "      <td>6</td>\n",
       "      <td>6</td>\n",
       "      <td>0.1</td>\n",
       "      <td>0.8</td>\n",
       "      <td>0.8</td>\n",
       "      <td>0</td>\n",
       "      <td>150</td>\n",
       "      <td>5</td>\n",
       "      <td>0.821193</td>\n",
       "      <td>0.844917</td>\n",
       "      <td>0.758137</td>\n",
       "      <td>0.719263</td>\n",
       "      <td>0.733684</td>\n",
       "      <td>0.758137</td>\n",
       "    </tr>\n",
       "    <tr>\n",
       "      <th>40</th>\n",
       "      <td>binary:logistic</td>\n",
       "      <td>auc</td>\n",
       "      <td>0.1</td>\n",
       "      <td>4.322689</td>\n",
       "      <td>4</td>\n",
       "      <td>6</td>\n",
       "      <td>6</td>\n",
       "      <td>0.4</td>\n",
       "      <td>0.7</td>\n",
       "      <td>0.7</td>\n",
       "      <td>0</td>\n",
       "      <td>150</td>\n",
       "      <td>5</td>\n",
       "      <td>0.821247</td>\n",
       "      <td>0.844076</td>\n",
       "      <td>0.758089</td>\n",
       "      <td>0.719470</td>\n",
       "      <td>0.733719</td>\n",
       "      <td>0.758089</td>\n",
       "    </tr>\n",
       "    <tr>\n",
       "      <th>45</th>\n",
       "      <td>binary:logistic</td>\n",
       "      <td>auc</td>\n",
       "      <td>0.1</td>\n",
       "      <td>4.322689</td>\n",
       "      <td>4</td>\n",
       "      <td>6</td>\n",
       "      <td>6</td>\n",
       "      <td>0.4</td>\n",
       "      <td>0.8</td>\n",
       "      <td>0.8</td>\n",
       "      <td>0</td>\n",
       "      <td>150</td>\n",
       "      <td>5</td>\n",
       "      <td>0.820709</td>\n",
       "      <td>0.844753</td>\n",
       "      <td>0.758026</td>\n",
       "      <td>0.718834</td>\n",
       "      <td>0.733291</td>\n",
       "      <td>0.758026</td>\n",
       "    </tr>\n",
       "    <tr>\n",
       "      <th>34</th>\n",
       "      <td>binary:logistic</td>\n",
       "      <td>auc</td>\n",
       "      <td>0.1</td>\n",
       "      <td>4.322689</td>\n",
       "      <td>4</td>\n",
       "      <td>6</td>\n",
       "      <td>6</td>\n",
       "      <td>0.4</td>\n",
       "      <td>0.8</td>\n",
       "      <td>0.8</td>\n",
       "      <td>0</td>\n",
       "      <td>150</td>\n",
       "      <td>5</td>\n",
       "      <td>0.820709</td>\n",
       "      <td>0.844753</td>\n",
       "      <td>0.758026</td>\n",
       "      <td>0.718834</td>\n",
       "      <td>0.733291</td>\n",
       "      <td>0.758026</td>\n",
       "    </tr>\n",
       "    <tr>\n",
       "      <th>42</th>\n",
       "      <td>binary:logistic</td>\n",
       "      <td>auc</td>\n",
       "      <td>0.1</td>\n",
       "      <td>4.322689</td>\n",
       "      <td>4</td>\n",
       "      <td>6</td>\n",
       "      <td>6</td>\n",
       "      <td>0.4</td>\n",
       "      <td>0.7</td>\n",
       "      <td>0.9</td>\n",
       "      <td>0</td>\n",
       "      <td>150</td>\n",
       "      <td>5</td>\n",
       "      <td>0.820360</td>\n",
       "      <td>0.844398</td>\n",
       "      <td>0.757987</td>\n",
       "      <td>0.718253</td>\n",
       "      <td>0.732903</td>\n",
       "      <td>0.757987</td>\n",
       "    </tr>\n",
       "    <tr>\n",
       "      <th>36</th>\n",
       "      <td>binary:logistic</td>\n",
       "      <td>auc</td>\n",
       "      <td>0.1</td>\n",
       "      <td>4.322689</td>\n",
       "      <td>4</td>\n",
       "      <td>6</td>\n",
       "      <td>6</td>\n",
       "      <td>0.4</td>\n",
       "      <td>0.6</td>\n",
       "      <td>0.7</td>\n",
       "      <td>0</td>\n",
       "      <td>150</td>\n",
       "      <td>5</td>\n",
       "      <td>0.819870</td>\n",
       "      <td>0.843081</td>\n",
       "      <td>0.757987</td>\n",
       "      <td>0.718001</td>\n",
       "      <td>0.732622</td>\n",
       "      <td>0.757987</td>\n",
       "    </tr>\n",
       "    <tr>\n",
       "      <th>37</th>\n",
       "      <td>binary:logistic</td>\n",
       "      <td>auc</td>\n",
       "      <td>0.1</td>\n",
       "      <td>4.322689</td>\n",
       "      <td>4</td>\n",
       "      <td>6</td>\n",
       "      <td>6</td>\n",
       "      <td>0.4</td>\n",
       "      <td>0.6</td>\n",
       "      <td>0.8</td>\n",
       "      <td>0</td>\n",
       "      <td>150</td>\n",
       "      <td>5</td>\n",
       "      <td>0.820149</td>\n",
       "      <td>0.843840</td>\n",
       "      <td>0.757964</td>\n",
       "      <td>0.718156</td>\n",
       "      <td>0.732793</td>\n",
       "      <td>0.757964</td>\n",
       "    </tr>\n",
       "    <tr>\n",
       "      <th>49</th>\n",
       "      <td>binary:logistic</td>\n",
       "      <td>auc</td>\n",
       "      <td>0.1</td>\n",
       "      <td>4.322689</td>\n",
       "      <td>4</td>\n",
       "      <td>6</td>\n",
       "      <td>6</td>\n",
       "      <td>0.4</td>\n",
       "      <td>0.9</td>\n",
       "      <td>0.8</td>\n",
       "      <td>0</td>\n",
       "      <td>150</td>\n",
       "      <td>5</td>\n",
       "      <td>0.821150</td>\n",
       "      <td>0.844888</td>\n",
       "      <td>0.757896</td>\n",
       "      <td>0.719222</td>\n",
       "      <td>0.733559</td>\n",
       "      <td>0.757896</td>\n",
       "    </tr>\n",
       "    <tr>\n",
       "      <th>28</th>\n",
       "      <td>binary:logistic</td>\n",
       "      <td>auc</td>\n",
       "      <td>0.1</td>\n",
       "      <td>4.322689</td>\n",
       "      <td>4</td>\n",
       "      <td>6</td>\n",
       "      <td>5</td>\n",
       "      <td>0</td>\n",
       "      <td>0.8</td>\n",
       "      <td>0.8</td>\n",
       "      <td>0</td>\n",
       "      <td>150</td>\n",
       "      <td>5</td>\n",
       "      <td>0.821349</td>\n",
       "      <td>0.845151</td>\n",
       "      <td>0.757865</td>\n",
       "      <td>0.719397</td>\n",
       "      <td>0.733701</td>\n",
       "      <td>0.757865</td>\n",
       "    </tr>\n",
       "    <tr>\n",
       "      <th>29</th>\n",
       "      <td>binary:logistic</td>\n",
       "      <td>auc</td>\n",
       "      <td>0.1</td>\n",
       "      <td>4.322689</td>\n",
       "      <td>4</td>\n",
       "      <td>6</td>\n",
       "      <td>6</td>\n",
       "      <td>0</td>\n",
       "      <td>0.8</td>\n",
       "      <td>0.8</td>\n",
       "      <td>0</td>\n",
       "      <td>150</td>\n",
       "      <td>5</td>\n",
       "      <td>0.820905</td>\n",
       "      <td>0.844831</td>\n",
       "      <td>0.757830</td>\n",
       "      <td>0.718907</td>\n",
       "      <td>0.733319</td>\n",
       "      <td>0.757830</td>\n",
       "    </tr>\n",
       "    <tr>\n",
       "      <th>30</th>\n",
       "      <td>binary:logistic</td>\n",
       "      <td>auc</td>\n",
       "      <td>0.1</td>\n",
       "      <td>4.322689</td>\n",
       "      <td>4</td>\n",
       "      <td>6</td>\n",
       "      <td>6</td>\n",
       "      <td>0</td>\n",
       "      <td>0.8</td>\n",
       "      <td>0.8</td>\n",
       "      <td>0</td>\n",
       "      <td>150</td>\n",
       "      <td>5</td>\n",
       "      <td>0.820905</td>\n",
       "      <td>0.844831</td>\n",
       "      <td>0.757830</td>\n",
       "      <td>0.718907</td>\n",
       "      <td>0.733319</td>\n",
       "      <td>0.757830</td>\n",
       "    </tr>\n",
       "    <tr>\n",
       "      <th>32</th>\n",
       "      <td>binary:logistic</td>\n",
       "      <td>auc</td>\n",
       "      <td>0.1</td>\n",
       "      <td>4.322689</td>\n",
       "      <td>4</td>\n",
       "      <td>6</td>\n",
       "      <td>6</td>\n",
       "      <td>0.2</td>\n",
       "      <td>0.8</td>\n",
       "      <td>0.8</td>\n",
       "      <td>0</td>\n",
       "      <td>150</td>\n",
       "      <td>5</td>\n",
       "      <td>0.820759</td>\n",
       "      <td>0.844790</td>\n",
       "      <td>0.757808</td>\n",
       "      <td>0.718709</td>\n",
       "      <td>0.733177</td>\n",
       "      <td>0.757808</td>\n",
       "    </tr>\n",
       "    <tr>\n",
       "      <th>39</th>\n",
       "      <td>binary:logistic</td>\n",
       "      <td>auc</td>\n",
       "      <td>0.1</td>\n",
       "      <td>4.322689</td>\n",
       "      <td>4</td>\n",
       "      <td>6</td>\n",
       "      <td>6</td>\n",
       "      <td>0.4</td>\n",
       "      <td>0.7</td>\n",
       "      <td>0.6</td>\n",
       "      <td>0</td>\n",
       "      <td>150</td>\n",
       "      <td>5</td>\n",
       "      <td>0.820630</td>\n",
       "      <td>0.843434</td>\n",
       "      <td>0.757804</td>\n",
       "      <td>0.718665</td>\n",
       "      <td>0.733087</td>\n",
       "      <td>0.757804</td>\n",
       "    </tr>\n",
       "    <tr>\n",
       "      <th>50</th>\n",
       "      <td>binary:logistic</td>\n",
       "      <td>auc</td>\n",
       "      <td>0.1</td>\n",
       "      <td>4.322689</td>\n",
       "      <td>4</td>\n",
       "      <td>6</td>\n",
       "      <td>6</td>\n",
       "      <td>0.4</td>\n",
       "      <td>0.9</td>\n",
       "      <td>0.9</td>\n",
       "      <td>0</td>\n",
       "      <td>150</td>\n",
       "      <td>5</td>\n",
       "      <td>0.821444</td>\n",
       "      <td>0.845067</td>\n",
       "      <td>0.757691</td>\n",
       "      <td>0.719398</td>\n",
       "      <td>0.733638</td>\n",
       "      <td>0.757691</td>\n",
       "    </tr>\n",
       "    <tr>\n",
       "      <th>35</th>\n",
       "      <td>binary:logistic</td>\n",
       "      <td>auc</td>\n",
       "      <td>0.1</td>\n",
       "      <td>4.322689</td>\n",
       "      <td>4</td>\n",
       "      <td>6</td>\n",
       "      <td>6</td>\n",
       "      <td>0.4</td>\n",
       "      <td>0.6</td>\n",
       "      <td>0.6</td>\n",
       "      <td>0</td>\n",
       "      <td>150</td>\n",
       "      <td>5</td>\n",
       "      <td>0.819598</td>\n",
       "      <td>0.842506</td>\n",
       "      <td>0.757590</td>\n",
       "      <td>0.717500</td>\n",
       "      <td>0.732185</td>\n",
       "      <td>0.757590</td>\n",
       "    </tr>\n",
       "    <tr>\n",
       "      <th>27</th>\n",
       "      <td>binary:logistic</td>\n",
       "      <td>auc</td>\n",
       "      <td>0.1</td>\n",
       "      <td>4.322689</td>\n",
       "      <td>4</td>\n",
       "      <td>6</td>\n",
       "      <td>4</td>\n",
       "      <td>0</td>\n",
       "      <td>0.8</td>\n",
       "      <td>0.8</td>\n",
       "      <td>0</td>\n",
       "      <td>150</td>\n",
       "      <td>5</td>\n",
       "      <td>0.821009</td>\n",
       "      <td>0.845437</td>\n",
       "      <td>0.757188</td>\n",
       "      <td>0.718926</td>\n",
       "      <td>0.733130</td>\n",
       "      <td>0.757188</td>\n",
       "    </tr>\n",
       "    <tr>\n",
       "      <th>38</th>\n",
       "      <td>binary:logistic</td>\n",
       "      <td>auc</td>\n",
       "      <td>0.1</td>\n",
       "      <td>4.322689</td>\n",
       "      <td>4</td>\n",
       "      <td>6</td>\n",
       "      <td>6</td>\n",
       "      <td>0.4</td>\n",
       "      <td>0.6</td>\n",
       "      <td>0.9</td>\n",
       "      <td>0</td>\n",
       "      <td>150</td>\n",
       "      <td>5</td>\n",
       "      <td>0.819419</td>\n",
       "      <td>0.844228</td>\n",
       "      <td>0.757101</td>\n",
       "      <td>0.717255</td>\n",
       "      <td>0.731866</td>\n",
       "      <td>0.757101</td>\n",
       "    </tr>\n",
       "    <tr>\n",
       "      <th>5</th>\n",
       "      <td>binary:logistic</td>\n",
       "      <td>auc</td>\n",
       "      <td>0.1</td>\n",
       "      <td>4.322689</td>\n",
       "      <td>4</td>\n",
       "      <td>7</td>\n",
       "      <td>5</td>\n",
       "      <td>0</td>\n",
       "      <td>0.8</td>\n",
       "      <td>0.8</td>\n",
       "      <td>0</td>\n",
       "      <td>150</td>\n",
       "      <td>5</td>\n",
       "      <td>0.825497</td>\n",
       "      <td>0.860853</td>\n",
       "      <td>0.756762</td>\n",
       "      <td>0.723411</td>\n",
       "      <td>0.736358</td>\n",
       "      <td>0.756762</td>\n",
       "    </tr>\n",
       "    <tr>\n",
       "      <th>11</th>\n",
       "      <td>binary:logistic</td>\n",
       "      <td>auc</td>\n",
       "      <td>0.1</td>\n",
       "      <td>4.322689</td>\n",
       "      <td>4</td>\n",
       "      <td>7</td>\n",
       "      <td>5</td>\n",
       "      <td>0</td>\n",
       "      <td>0.8</td>\n",
       "      <td>0.8</td>\n",
       "      <td>0</td>\n",
       "      <td>150</td>\n",
       "      <td>5</td>\n",
       "      <td>0.825497</td>\n",
       "      <td>0.860853</td>\n",
       "      <td>0.756762</td>\n",
       "      <td>0.723411</td>\n",
       "      <td>0.736358</td>\n",
       "      <td>0.756762</td>\n",
       "    </tr>\n",
       "    <tr>\n",
       "      <th>10</th>\n",
       "      <td>binary:logistic</td>\n",
       "      <td>auc</td>\n",
       "      <td>0.1</td>\n",
       "      <td>4.322689</td>\n",
       "      <td>4</td>\n",
       "      <td>7</td>\n",
       "      <td>3</td>\n",
       "      <td>0</td>\n",
       "      <td>0.8</td>\n",
       "      <td>0.8</td>\n",
       "      <td>0</td>\n",
       "      <td>150</td>\n",
       "      <td>5</td>\n",
       "      <td>0.825800</td>\n",
       "      <td>0.862833</td>\n",
       "      <td>0.756578</td>\n",
       "      <td>0.723720</td>\n",
       "      <td>0.736440</td>\n",
       "      <td>0.756578</td>\n",
       "    </tr>\n",
       "    <tr>\n",
       "      <th>4</th>\n",
       "      <td>binary:logistic</td>\n",
       "      <td>auc</td>\n",
       "      <td>0.1</td>\n",
       "      <td>4.322689</td>\n",
       "      <td>4</td>\n",
       "      <td>7</td>\n",
       "      <td>3</td>\n",
       "      <td>0</td>\n",
       "      <td>0.8</td>\n",
       "      <td>0.8</td>\n",
       "      <td>0</td>\n",
       "      <td>150</td>\n",
       "      <td>5</td>\n",
       "      <td>0.825800</td>\n",
       "      <td>0.862833</td>\n",
       "      <td>0.756578</td>\n",
       "      <td>0.723720</td>\n",
       "      <td>0.736440</td>\n",
       "      <td>0.756578</td>\n",
       "    </tr>\n",
       "    <tr>\n",
       "      <th>9</th>\n",
       "      <td>binary:logistic</td>\n",
       "      <td>auc</td>\n",
       "      <td>0.1</td>\n",
       "      <td>4.322689</td>\n",
       "      <td>4</td>\n",
       "      <td>7</td>\n",
       "      <td>1</td>\n",
       "      <td>0</td>\n",
       "      <td>0.8</td>\n",
       "      <td>0.8</td>\n",
       "      <td>0</td>\n",
       "      <td>150</td>\n",
       "      <td>5</td>\n",
       "      <td>0.826530</td>\n",
       "      <td>0.866914</td>\n",
       "      <td>0.755689</td>\n",
       "      <td>0.724567</td>\n",
       "      <td>0.736706</td>\n",
       "      <td>0.755689</td>\n",
       "    </tr>\n",
       "    <tr>\n",
       "      <th>3</th>\n",
       "      <td>binary:logistic</td>\n",
       "      <td>auc</td>\n",
       "      <td>0.1</td>\n",
       "      <td>4.322689</td>\n",
       "      <td>4</td>\n",
       "      <td>7</td>\n",
       "      <td>1</td>\n",
       "      <td>0</td>\n",
       "      <td>0.8</td>\n",
       "      <td>0.8</td>\n",
       "      <td>0</td>\n",
       "      <td>150</td>\n",
       "      <td>5</td>\n",
       "      <td>0.826530</td>\n",
       "      <td>0.866914</td>\n",
       "      <td>0.755689</td>\n",
       "      <td>0.724567</td>\n",
       "      <td>0.736706</td>\n",
       "      <td>0.755689</td>\n",
       "    </tr>\n",
       "    <tr>\n",
       "      <th>14</th>\n",
       "      <td>binary:logistic</td>\n",
       "      <td>auc</td>\n",
       "      <td>0.1</td>\n",
       "      <td>4.322689</td>\n",
       "      <td>4</td>\n",
       "      <td>9</td>\n",
       "      <td>5</td>\n",
       "      <td>0</td>\n",
       "      <td>0.8</td>\n",
       "      <td>0.8</td>\n",
       "      <td>0</td>\n",
       "      <td>150</td>\n",
       "      <td>5</td>\n",
       "      <td>0.834439</td>\n",
       "      <td>0.901012</td>\n",
       "      <td>0.750890</td>\n",
       "      <td>0.733176</td>\n",
       "      <td>0.740491</td>\n",
       "      <td>0.750890</td>\n",
       "    </tr>\n",
       "    <tr>\n",
       "      <th>8</th>\n",
       "      <td>binary:logistic</td>\n",
       "      <td>auc</td>\n",
       "      <td>0.1</td>\n",
       "      <td>4.322689</td>\n",
       "      <td>4</td>\n",
       "      <td>9</td>\n",
       "      <td>5</td>\n",
       "      <td>0</td>\n",
       "      <td>0.8</td>\n",
       "      <td>0.8</td>\n",
       "      <td>0</td>\n",
       "      <td>150</td>\n",
       "      <td>5</td>\n",
       "      <td>0.834439</td>\n",
       "      <td>0.901012</td>\n",
       "      <td>0.750890</td>\n",
       "      <td>0.733176</td>\n",
       "      <td>0.740491</td>\n",
       "      <td>0.750890</td>\n",
       "    </tr>\n",
       "    <tr>\n",
       "      <th>13</th>\n",
       "      <td>binary:logistic</td>\n",
       "      <td>auc</td>\n",
       "      <td>0.1</td>\n",
       "      <td>4.322689</td>\n",
       "      <td>4</td>\n",
       "      <td>9</td>\n",
       "      <td>3</td>\n",
       "      <td>0</td>\n",
       "      <td>0.8</td>\n",
       "      <td>0.8</td>\n",
       "      <td>0</td>\n",
       "      <td>150</td>\n",
       "      <td>5</td>\n",
       "      <td>0.835492</td>\n",
       "      <td>0.907182</td>\n",
       "      <td>0.749777</td>\n",
       "      <td>0.734400</td>\n",
       "      <td>0.740771</td>\n",
       "      <td>0.749777</td>\n",
       "    </tr>\n",
       "    <tr>\n",
       "      <th>7</th>\n",
       "      <td>binary:logistic</td>\n",
       "      <td>auc</td>\n",
       "      <td>0.1</td>\n",
       "      <td>4.322689</td>\n",
       "      <td>4</td>\n",
       "      <td>9</td>\n",
       "      <td>3</td>\n",
       "      <td>0</td>\n",
       "      <td>0.8</td>\n",
       "      <td>0.8</td>\n",
       "      <td>0</td>\n",
       "      <td>150</td>\n",
       "      <td>5</td>\n",
       "      <td>0.835492</td>\n",
       "      <td>0.907182</td>\n",
       "      <td>0.749777</td>\n",
       "      <td>0.734400</td>\n",
       "      <td>0.740771</td>\n",
       "      <td>0.749777</td>\n",
       "    </tr>\n",
       "    <tr>\n",
       "      <th>6</th>\n",
       "      <td>binary:logistic</td>\n",
       "      <td>auc</td>\n",
       "      <td>0.1</td>\n",
       "      <td>4.322689</td>\n",
       "      <td>4</td>\n",
       "      <td>9</td>\n",
       "      <td>1</td>\n",
       "      <td>0</td>\n",
       "      <td>0.8</td>\n",
       "      <td>0.8</td>\n",
       "      <td>0</td>\n",
       "      <td>150</td>\n",
       "      <td>5</td>\n",
       "      <td>0.838073</td>\n",
       "      <td>0.916162</td>\n",
       "      <td>0.749279</td>\n",
       "      <td>0.737795</td>\n",
       "      <td>0.742544</td>\n",
       "      <td>0.749279</td>\n",
       "    </tr>\n",
       "    <tr>\n",
       "      <th>12</th>\n",
       "      <td>binary:logistic</td>\n",
       "      <td>auc</td>\n",
       "      <td>0.1</td>\n",
       "      <td>4.322689</td>\n",
       "      <td>4</td>\n",
       "      <td>9</td>\n",
       "      <td>1</td>\n",
       "      <td>0</td>\n",
       "      <td>0.8</td>\n",
       "      <td>0.8</td>\n",
       "      <td>0</td>\n",
       "      <td>150</td>\n",
       "      <td>5</td>\n",
       "      <td>0.838073</td>\n",
       "      <td>0.916162</td>\n",
       "      <td>0.749279</td>\n",
       "      <td>0.737795</td>\n",
       "      <td>0.742544</td>\n",
       "      <td>0.749279</td>\n",
       "    </tr>\n",
       "    <tr>\n",
       "      <th>17</th>\n",
       "      <td>binary:logistic</td>\n",
       "      <td>auc</td>\n",
       "      <td>0.1</td>\n",
       "      <td>4.322689</td>\n",
       "      <td>4</td>\n",
       "      <td>11</td>\n",
       "      <td>5</td>\n",
       "      <td>0</td>\n",
       "      <td>0.8</td>\n",
       "      <td>0.8</td>\n",
       "      <td>0</td>\n",
       "      <td>150</td>\n",
       "      <td>5</td>\n",
       "      <td>0.843864</td>\n",
       "      <td>0.942476</td>\n",
       "      <td>0.744581</td>\n",
       "      <td>0.746262</td>\n",
       "      <td>0.744835</td>\n",
       "      <td>0.744581</td>\n",
       "    </tr>\n",
       "    <tr>\n",
       "      <th>16</th>\n",
       "      <td>binary:logistic</td>\n",
       "      <td>auc</td>\n",
       "      <td>0.1</td>\n",
       "      <td>4.322689</td>\n",
       "      <td>4</td>\n",
       "      <td>11</td>\n",
       "      <td>3</td>\n",
       "      <td>0</td>\n",
       "      <td>0.8</td>\n",
       "      <td>0.8</td>\n",
       "      <td>0</td>\n",
       "      <td>150</td>\n",
       "      <td>5</td>\n",
       "      <td>0.847083</td>\n",
       "      <td>0.953500</td>\n",
       "      <td>0.743288</td>\n",
       "      <td>0.751500</td>\n",
       "      <td>0.746696</td>\n",
       "      <td>0.743288</td>\n",
       "    </tr>\n",
       "    <tr>\n",
       "      <th>20</th>\n",
       "      <td>binary:logistic</td>\n",
       "      <td>auc</td>\n",
       "      <td>0.1</td>\n",
       "      <td>4.322689</td>\n",
       "      <td>4</td>\n",
       "      <td>13</td>\n",
       "      <td>5</td>\n",
       "      <td>0</td>\n",
       "      <td>0.8</td>\n",
       "      <td>0.8</td>\n",
       "      <td>0</td>\n",
       "      <td>150</td>\n",
       "      <td>5</td>\n",
       "      <td>0.852583</td>\n",
       "      <td>0.974293</td>\n",
       "      <td>0.740098</td>\n",
       "      <td>0.761485</td>\n",
       "      <td>0.749445</td>\n",
       "      <td>0.740098</td>\n",
       "    </tr>\n",
       "    <tr>\n",
       "      <th>15</th>\n",
       "      <td>binary:logistic</td>\n",
       "      <td>auc</td>\n",
       "      <td>0.1</td>\n",
       "      <td>4.322689</td>\n",
       "      <td>4</td>\n",
       "      <td>11</td>\n",
       "      <td>1</td>\n",
       "      <td>0</td>\n",
       "      <td>0.8</td>\n",
       "      <td>0.8</td>\n",
       "      <td>0</td>\n",
       "      <td>150</td>\n",
       "      <td>5</td>\n",
       "      <td>0.850361</td>\n",
       "      <td>0.967150</td>\n",
       "      <td>0.739869</td>\n",
       "      <td>0.758212</td>\n",
       "      <td>0.747701</td>\n",
       "      <td>0.739869</td>\n",
       "    </tr>\n",
       "    <tr>\n",
       "      <th>19</th>\n",
       "      <td>binary:logistic</td>\n",
       "      <td>auc</td>\n",
       "      <td>0.1</td>\n",
       "      <td>4.322689</td>\n",
       "      <td>4</td>\n",
       "      <td>13</td>\n",
       "      <td>3</td>\n",
       "      <td>0</td>\n",
       "      <td>0.8</td>\n",
       "      <td>0.8</td>\n",
       "      <td>0</td>\n",
       "      <td>150</td>\n",
       "      <td>5</td>\n",
       "      <td>0.856160</td>\n",
       "      <td>0.983824</td>\n",
       "      <td>0.737854</td>\n",
       "      <td>0.769242</td>\n",
       "      <td>0.751171</td>\n",
       "      <td>0.737854</td>\n",
       "    </tr>\n",
       "    <tr>\n",
       "      <th>18</th>\n",
       "      <td>binary:logistic</td>\n",
       "      <td>auc</td>\n",
       "      <td>0.1</td>\n",
       "      <td>4.322689</td>\n",
       "      <td>4</td>\n",
       "      <td>13</td>\n",
       "      <td>1</td>\n",
       "      <td>0</td>\n",
       "      <td>0.8</td>\n",
       "      <td>0.8</td>\n",
       "      <td>0</td>\n",
       "      <td>150</td>\n",
       "      <td>5</td>\n",
       "      <td>0.859759</td>\n",
       "      <td>0.993560</td>\n",
       "      <td>0.732413</td>\n",
       "      <td>0.778592</td>\n",
       "      <td>0.751053</td>\n",
       "      <td>0.732413</td>\n",
       "    </tr>\n",
       "  </tbody>\n",
       "</table>\n",
       "</div>"
      ],
      "text/plain": [
       "          objective eval_metric  eta  scale_pos_weight nthread max_depth  \\\n",
       "1   binary:logistic         auc  0.1          4.322689       4         5   \n",
       "43  binary:logistic         auc  0.1          4.322689       4         6   \n",
       "26  binary:logistic         auc  0.1          4.322689       4         5   \n",
       "24  binary:logistic         auc  0.1          4.322689       4         5   \n",
       "22  binary:logistic         auc  0.1          4.322689       4         4   \n",
       "21  binary:logistic         auc  0.1          4.322689       4         4   \n",
       "47  binary:logistic         auc  0.1          4.322689       4         6   \n",
       "25  binary:logistic         auc  0.1          4.322689       4         5   \n",
       "2   binary:logistic         auc  0.1          4.322689       4         5   \n",
       "44  binary:logistic         auc  0.1          4.322689       4         6   \n",
       "23  binary:logistic         auc  0.1          4.322689       4         4   \n",
       "48  binary:logistic         auc  0.1          4.322689       4         6   \n",
       "0   binary:logistic         auc  0.1          4.322689       4         5   \n",
       "33  binary:logistic         auc  0.1          4.322689       4         6   \n",
       "41  binary:logistic         auc  0.1          4.322689       4         6   \n",
       "46  binary:logistic         auc  0.1          4.322689       4         6   \n",
       "31  binary:logistic         auc  0.1          4.322689       4         6   \n",
       "40  binary:logistic         auc  0.1          4.322689       4         6   \n",
       "45  binary:logistic         auc  0.1          4.322689       4         6   \n",
       "34  binary:logistic         auc  0.1          4.322689       4         6   \n",
       "42  binary:logistic         auc  0.1          4.322689       4         6   \n",
       "36  binary:logistic         auc  0.1          4.322689       4         6   \n",
       "37  binary:logistic         auc  0.1          4.322689       4         6   \n",
       "49  binary:logistic         auc  0.1          4.322689       4         6   \n",
       "28  binary:logistic         auc  0.1          4.322689       4         6   \n",
       "29  binary:logistic         auc  0.1          4.322689       4         6   \n",
       "30  binary:logistic         auc  0.1          4.322689       4         6   \n",
       "32  binary:logistic         auc  0.1          4.322689       4         6   \n",
       "39  binary:logistic         auc  0.1          4.322689       4         6   \n",
       "50  binary:logistic         auc  0.1          4.322689       4         6   \n",
       "35  binary:logistic         auc  0.1          4.322689       4         6   \n",
       "27  binary:logistic         auc  0.1          4.322689       4         6   \n",
       "38  binary:logistic         auc  0.1          4.322689       4         6   \n",
       "5   binary:logistic         auc  0.1          4.322689       4         7   \n",
       "11  binary:logistic         auc  0.1          4.322689       4         7   \n",
       "10  binary:logistic         auc  0.1          4.322689       4         7   \n",
       "4   binary:logistic         auc  0.1          4.322689       4         7   \n",
       "9   binary:logistic         auc  0.1          4.322689       4         7   \n",
       "3   binary:logistic         auc  0.1          4.322689       4         7   \n",
       "14  binary:logistic         auc  0.1          4.322689       4         9   \n",
       "8   binary:logistic         auc  0.1          4.322689       4         9   \n",
       "13  binary:logistic         auc  0.1          4.322689       4         9   \n",
       "7   binary:logistic         auc  0.1          4.322689       4         9   \n",
       "6   binary:logistic         auc  0.1          4.322689       4         9   \n",
       "12  binary:logistic         auc  0.1          4.322689       4         9   \n",
       "17  binary:logistic         auc  0.1          4.322689       4        11   \n",
       "16  binary:logistic         auc  0.1          4.322689       4        11   \n",
       "20  binary:logistic         auc  0.1          4.322689       4        13   \n",
       "15  binary:logistic         auc  0.1          4.322689       4        11   \n",
       "19  binary:logistic         auc  0.1          4.322689       4        13   \n",
       "18  binary:logistic         auc  0.1          4.322689       4        13   \n",
       "\n",
       "   min_child_weight gamma  subsample  colsample_bytree reg_alpha num_rounds  \\\n",
       "1                 3     0        0.8               0.8         0        150   \n",
       "43                6   0.4        0.8               0.6         0        150   \n",
       "26                6     0        0.8               0.8         0        150   \n",
       "24                4     0        0.8               0.8         0        150   \n",
       "22                5     0        0.8               0.8         0        150   \n",
       "21                4     0        0.8               0.8         0        150   \n",
       "47                6   0.4        0.9               0.6         0        150   \n",
       "25                5     0        0.8               0.8         0        150   \n",
       "2                 5     0        0.8               0.8         0        150   \n",
       "44                6   0.4        0.8               0.7         0        150   \n",
       "23                6     0        0.8               0.8         0        150   \n",
       "48                6   0.4        0.9               0.7         0        150   \n",
       "0                 1     0        0.8               0.8         0        150   \n",
       "33                6   0.3        0.8               0.8         0        150   \n",
       "41                6   0.4        0.7               0.8         0        150   \n",
       "46                6   0.4        0.8               0.9         0        150   \n",
       "31                6   0.1        0.8               0.8         0        150   \n",
       "40                6   0.4        0.7               0.7         0        150   \n",
       "45                6   0.4        0.8               0.8         0        150   \n",
       "34                6   0.4        0.8               0.8         0        150   \n",
       "42                6   0.4        0.7               0.9         0        150   \n",
       "36                6   0.4        0.6               0.7         0        150   \n",
       "37                6   0.4        0.6               0.8         0        150   \n",
       "49                6   0.4        0.9               0.8         0        150   \n",
       "28                5     0        0.8               0.8         0        150   \n",
       "29                6     0        0.8               0.8         0        150   \n",
       "30                6     0        0.8               0.8         0        150   \n",
       "32                6   0.2        0.8               0.8         0        150   \n",
       "39                6   0.4        0.7               0.6         0        150   \n",
       "50                6   0.4        0.9               0.9         0        150   \n",
       "35                6   0.4        0.6               0.6         0        150   \n",
       "27                4     0        0.8               0.8         0        150   \n",
       "38                6   0.4        0.6               0.9         0        150   \n",
       "5                 5     0        0.8               0.8         0        150   \n",
       "11                5     0        0.8               0.8         0        150   \n",
       "10                3     0        0.8               0.8         0        150   \n",
       "4                 3     0        0.8               0.8         0        150   \n",
       "9                 1     0        0.8               0.8         0        150   \n",
       "3                 1     0        0.8               0.8         0        150   \n",
       "14                5     0        0.8               0.8         0        150   \n",
       "8                 5     0        0.8               0.8         0        150   \n",
       "13                3     0        0.8               0.8         0        150   \n",
       "7                 3     0        0.8               0.8         0        150   \n",
       "6                 1     0        0.8               0.8         0        150   \n",
       "12                1     0        0.8               0.8         0        150   \n",
       "17                5     0        0.8               0.8         0        150   \n",
       "16                3     0        0.8               0.8         0        150   \n",
       "20                5     0        0.8               0.8         0        150   \n",
       "15                1     0        0.8               0.8         0        150   \n",
       "19                3     0        0.8               0.8         0        150   \n",
       "18                1     0        0.8               0.8         0        150   \n",
       "\n",
       "   early_stopping_rounds   val_acc  train_acc    recall  precision        f1  \\\n",
       "1                      5  0.817240   0.832862  0.759349   0.715862  0.731276   \n",
       "43                     5  0.821445   0.844060  0.759110   0.719843  0.734359   \n",
       "26                     5  0.817169   0.832133  0.759065   0.715663  0.731064   \n",
       "24                     5  0.817191   0.832624  0.759035   0.715549  0.731022   \n",
       "22                     5  0.812681   0.822464  0.759034   0.711528  0.727674   \n",
       "21                     5  0.812909   0.822415  0.758971   0.711756  0.727825   \n",
       "47                     5  0.822077   0.844197  0.758863   0.720299  0.734632   \n",
       "25                     5  0.816635   0.832345  0.758843   0.715057  0.730545   \n",
       "2                      5  0.816635   0.832345  0.758843   0.715057  0.730545   \n",
       "44                     5  0.821928   0.844994  0.758827   0.720090  0.734517   \n",
       "23                     5  0.812842   0.822362  0.758745   0.711563  0.727635   \n",
       "48                     5  0.821016   0.844270  0.758572   0.719307  0.733803   \n",
       "0                      5  0.816690   0.833546  0.758496   0.715180  0.730494   \n",
       "33                     5  0.821355   0.844720  0.758451   0.719554  0.733980   \n",
       "41                     5  0.820410   0.843917  0.758291   0.718508  0.733124   \n",
       "46                     5  0.821078   0.844929  0.758157   0.719170  0.733608   \n",
       "31                     5  0.821193   0.844917  0.758137   0.719263  0.733684   \n",
       "40                     5  0.821247   0.844076  0.758089   0.719470  0.733719   \n",
       "45                     5  0.820709   0.844753  0.758026   0.718834  0.733291   \n",
       "34                     5  0.820709   0.844753  0.758026   0.718834  0.733291   \n",
       "42                     5  0.820360   0.844398  0.757987   0.718253  0.732903   \n",
       "36                     5  0.819870   0.843081  0.757987   0.718001  0.732622   \n",
       "37                     5  0.820149   0.843840  0.757964   0.718156  0.732793   \n",
       "49                     5  0.821150   0.844888  0.757896   0.719222  0.733559   \n",
       "28                     5  0.821349   0.845151  0.757865   0.719397  0.733701   \n",
       "29                     5  0.820905   0.844831  0.757830   0.718907  0.733319   \n",
       "30                     5  0.820905   0.844831  0.757830   0.718907  0.733319   \n",
       "32                     5  0.820759   0.844790  0.757808   0.718709  0.733177   \n",
       "39                     5  0.820630   0.843434  0.757804   0.718665  0.733087   \n",
       "50                     5  0.821444   0.845067  0.757691   0.719398  0.733638   \n",
       "35                     5  0.819598   0.842506  0.757590   0.717500  0.732185   \n",
       "27                     5  0.821009   0.845437  0.757188   0.718926  0.733130   \n",
       "38                     5  0.819419   0.844228  0.757101   0.717255  0.731866   \n",
       "5                      5  0.825497   0.860853  0.756762   0.723411  0.736358   \n",
       "11                     5  0.825497   0.860853  0.756762   0.723411  0.736358   \n",
       "10                     5  0.825800   0.862833  0.756578   0.723720  0.736440   \n",
       "4                      5  0.825800   0.862833  0.756578   0.723720  0.736440   \n",
       "9                      5  0.826530   0.866914  0.755689   0.724567  0.736706   \n",
       "3                      5  0.826530   0.866914  0.755689   0.724567  0.736706   \n",
       "14                     5  0.834439   0.901012  0.750890   0.733176  0.740491   \n",
       "8                      5  0.834439   0.901012  0.750890   0.733176  0.740491   \n",
       "13                     5  0.835492   0.907182  0.749777   0.734400  0.740771   \n",
       "7                      5  0.835492   0.907182  0.749777   0.734400  0.740771   \n",
       "6                      5  0.838073   0.916162  0.749279   0.737795  0.742544   \n",
       "12                     5  0.838073   0.916162  0.749279   0.737795  0.742544   \n",
       "17                     5  0.843864   0.942476  0.744581   0.746262  0.744835   \n",
       "16                     5  0.847083   0.953500  0.743288   0.751500  0.746696   \n",
       "20                     5  0.852583   0.974293  0.740098   0.761485  0.749445   \n",
       "15                     5  0.850361   0.967150  0.739869   0.758212  0.747701   \n",
       "19                     5  0.856160   0.983824  0.737854   0.769242  0.751171   \n",
       "18                     5  0.859759   0.993560  0.732413   0.778592  0.751053   \n",
       "\n",
       "     roc_auc  \n",
       "1   0.759349  \n",
       "43  0.759110  \n",
       "26  0.759065  \n",
       "24  0.759035  \n",
       "22  0.759034  \n",
       "21  0.758971  \n",
       "47  0.758863  \n",
       "25  0.758843  \n",
       "2   0.758843  \n",
       "44  0.758827  \n",
       "23  0.758745  \n",
       "48  0.758572  \n",
       "0   0.758496  \n",
       "33  0.758451  \n",
       "41  0.758291  \n",
       "46  0.758157  \n",
       "31  0.758137  \n",
       "40  0.758089  \n",
       "45  0.758026  \n",
       "34  0.758026  \n",
       "42  0.757987  \n",
       "36  0.757987  \n",
       "37  0.757964  \n",
       "49  0.757896  \n",
       "28  0.757865  \n",
       "29  0.757830  \n",
       "30  0.757830  \n",
       "32  0.757808  \n",
       "39  0.757804  \n",
       "50  0.757691  \n",
       "35  0.757590  \n",
       "27  0.757188  \n",
       "38  0.757101  \n",
       "5   0.756762  \n",
       "11  0.756762  \n",
       "10  0.756578  \n",
       "4   0.756578  \n",
       "9   0.755689  \n",
       "3   0.755689  \n",
       "14  0.750890  \n",
       "8   0.750890  \n",
       "13  0.749777  \n",
       "7   0.749777  \n",
       "6   0.749279  \n",
       "12  0.749279  \n",
       "17  0.744581  \n",
       "16  0.743288  \n",
       "20  0.740098  \n",
       "15  0.739869  \n",
       "19  0.737854  \n",
       "18  0.732413  "
      ]
     },
     "execution_count": 111,
     "metadata": {},
     "output_type": "execute_result"
    }
   ],
   "source": [
    "performance.sort_values(by='roc_auc',ascending=False)"
   ]
  },
  {
   "cell_type": "markdown",
   "metadata": {
    "heading_collapsed": true
   },
   "source": [
    "## Focus on the ATL airport"
   ]
  },
  {
   "cell_type": "code",
   "execution_count": 37,
   "metadata": {
    "hidden": true
   },
   "outputs": [],
   "source": [
    "ORI_ATL = training_prev[training_prev['ORIGIN'] == 'ATL']\n",
    "#DEST_ATL = training[training['DEST'] == 'ATL']"
   ]
  },
  {
   "cell_type": "code",
   "execution_count": 38,
   "metadata": {
    "hidden": true
   },
   "outputs": [
    {
     "name": "stdout",
     "output_type": "stream",
     "text": [
      "(277746, 54)\n"
     ]
    }
   ],
   "source": [
    "print(ORI_ATL.shape)\n",
    "#print(DEST_ATL.shape)"
   ]
  },
  {
   "cell_type": "code",
   "execution_count": 39,
   "metadata": {
    "hidden": true
   },
   "outputs": [
    {
     "data": {
      "text/plain": [
       "Index(['FL_DATE', 'OP_UNIQUE_CARRIER', 'TAIL_NUM', 'OP_CARRIER_FL_NUM',\n",
       "       'ORIGIN_AIRPORT_ID', 'ORIGIN', 'DEST_AIRPORT_ID', 'DEST', 'DEP_DELAY',\n",
       "       'ARR_DELAY', 'CRS_ELAPSED_TIME', 'ACTUAL_ELAPSED_TIME', 'AIR_TIME',\n",
       "       'DISTANCE', 'CRS_DEP_DT', 'DEP_DELAY_TD', 'CRS_ELAPSED_TD', 'DEP_DT',\n",
       "       'Weekday', 'Month', 'Day', 'Week_no', 'CRS_ARR_DT', 'ARR_DELAY_TD',\n",
       "       'ARR_DT', 'DewPointC', 'FeelsLikeC', 'HeatIndexC', 'WindChillC',\n",
       "       'WindGustKmph', 'cloudcover', 'humidity', 'precipMM', 'pressure',\n",
       "       'tempC', 'uvIndex', 'visibility', 'winddir16Point', 'winddirDegree',\n",
       "       'windspeedKmph', 'weatherDesc_new', 'Wide', 'Year', 'DEST_prev',\n",
       "       'ARR_DT_prev', 'Turnaround_time', 'DISTANCE_prev', 'DEP_DELAY_prev',\n",
       "       'DEP_DELAY_CAT', 'Last2', 'Last14', 'Last8', 'AVG_DELAY6',\n",
       "       'DEP_DELAY_BI'],\n",
       "      dtype='object')"
      ]
     },
     "execution_count": 39,
     "metadata": {},
     "output_type": "execute_result"
    }
   ],
   "source": [
    "ORI_ATL.columns"
   ]
  },
  {
   "cell_type": "markdown",
   "metadata": {
    "heading_collapsed": true
   },
   "source": [
    "## Data Visualisation"
   ]
  },
  {
   "cell_type": "markdown",
   "metadata": {
    "heading_collapsed": true,
    "hidden": true
   },
   "source": [
    "### Demand Profile"
   ]
  },
  {
   "cell_type": "code",
   "execution_count": 15,
   "metadata": {
    "hidden": true
   },
   "outputs": [
    {
     "data": {
      "image/png": "[encoded data removed]",
      "text/plain": [
       "<Figure size 864x576 with 1 Axes>"
      ]
     },
     "metadata": {
      "needs_background": "light"
     },
     "output_type": "display_data"
    }
   ],
   "source": [
    "ORI_ATL[ORI_ATL['FL_DATE']=='2018-04-23']['DEP_TIME_HfHr'].value_counts().sort_index()[4:].plot(figsize=(12,8),label='Actual')\n",
    "ORI_ATL[ORI_ATL['FL_DATE']=='2018-04-23']['CRS_DEP_TIME_HfHr'].value_counts().sort_index().plot(figsize=(12,8),label='Scheduled')\n",
    "plt.title('ATL Demand Departure Profile \"2018-04-23\"')\n",
    "plt.legend()\n",
    "plt.show()"
   ]
  },
  {
   "cell_type": "code",
   "execution_count": 14,
   "metadata": {
    "hidden": true
   },
   "outputs": [
    {
     "data": {
      "image/png": "[encoded data removed]",
      "text/plain": [
       "<Figure size 864x576 with 1 Axes>"
      ]
     },
     "metadata": {
      "needs_background": "light"
     },
     "output_type": "display_data"
    }
   ],
   "source": [
    "DEST_ATL[DEST_ATL['FL_DATE']=='2018-04-23']['ARR_TIME_HfHr'].value_counts().sort_index()[4:].plot(figsize=(12,8),label='Actual')\n",
    "DEST_ATL[DEST_ATL['FL_DATE']=='2018-04-23']['CRS_ARR_TIME_HfHr'].value_counts().sort_index()[3:].plot(figsize=(12,8),label='Scheduled')\n",
    "plt.title('ATL Demand Arrival Profile \"2018-04-23\"')\n",
    "plt.legend()\n",
    "plt.show()"
   ]
  },
  {
   "cell_type": "markdown",
   "metadata": {
    "heading_collapsed": true,
    "hidden": true
   },
   "source": [
    "### Average daily departure delay in a year"
   ]
  },
  {
   "cell_type": "code",
   "execution_count": 16,
   "metadata": {
    "hidden": true
   },
   "outputs": [
    {
     "data": {
      "image/png": "[encoded data removed]",
      "text/plain": [
       "<Figure size 864x576 with 1 Axes>"
      ]
     },
     "metadata": {
      "needs_background": "light"
     },
     "output_type": "display_data"
    }
   ],
   "source": [
    "ORI_ATL.groupby(['Datetime']).mean()['DEP_DELAY_NEW'].plot(figsize=(12,8))\n",
    "plt.show()"
   ]
  },
  {
   "cell_type": "markdown",
   "metadata": {
    "heading_collapsed": true,
    "hidden": true
   },
   "source": [
    "### Average hourly departure delay in a day "
   ]
  },
  {
   "cell_type": "code",
   "execution_count": 8,
   "metadata": {
    "hidden": true
   },
   "outputs": [],
   "source": [
    "training_prev['CRS_DEP_Hr'] = training_prev['CRS_DEP_DT'].dt.hour"
   ]
  },
  {
   "cell_type": "code",
   "execution_count": 20,
   "metadata": {
    "hidden": true,
    "scrolled": false
   },
   "outputs": [
    {
     "data": {
      "image/png": "[encoded data removed]",
      "text/plain": [
       "<Figure size 432x288 with 1 Axes>"
      ]
     },
     "metadata": {
      "needs_background": "light"
     },
     "output_type": "display_data"
    }
   ],
   "source": [
    "ax = training_prev.groupby(['CRS_DEP_Hr']).size().plot()\n",
    "plt.xlabel('Hour')\n",
    "plt.ylabel('Number of Flights')\n",
    "plt.title('Hourly number of flights in a day')\n",
    "plt.xticks(np.arange(0,24,2))\n",
    "ax.set_yticklabels(['','0k','50k','100k','150k','200k','250k'])\n",
    "plt.savefig(\"./images/1.png\", dpi=300)\n",
    "plt.show()"
   ]
  },
  {
   "cell_type": "code",
   "execution_count": 11,
   "metadata": {
    "hidden": true
   },
   "outputs": [
    {
     "data": {
      "image/png": "[encoded data removed]",
      "text/plain": [
       "<Figure size 432x288 with 1 Axes>"
      ]
     },
     "metadata": {
      "needs_background": "light"
     },
     "output_type": "display_data"
    }
   ],
   "source": [
    "training_prev.groupby(['CRS_DEP_Hr']).mean()['DEP_DELAY'].plot()\n",
    "plt.xlabel('Hour')\n",
    "plt.ylabel('Avg. Delay (mins)')\n",
    "plt.title('Average hourly departure delay (mins) in a day')\n",
    "plt.xticks(np.arange(0,24,2))\n",
    "plt.savefig(\"2.png\", dpi=300)\n",
    "plt.show()"
   ]
  },
  {
   "cell_type": "code",
   "execution_count": 17,
   "metadata": {
    "hidden": true
   },
   "outputs": [
    {
     "data": {
      "image/png": "[encoded data removed]",
      "text/plain": [
       "<Figure size 864x576 with 1 Axes>"
      ]
     },
     "metadata": {
      "needs_background": "light"
     },
     "output_type": "display_data"
    }
   ],
   "source": [
    "ORI_ATL[ORI_ATL['DEP_DELAY_NEW']>0].groupby(['CRS_DEP_TIME_HfHr']).mean()['DEP_DELAY_NEW'].plot(figsize=(12,8))\n",
    "plt.xlabel('Time')\n",
    "plt.ylabel('Avg. Delay')\n",
    "plt.title('Average half-hourly departure delay(non-zero) in a day')\n",
    "plt.show()"
   ]
  },
  {
   "cell_type": "markdown",
   "metadata": {
    "heading_collapsed": true,
    "hidden": true
   },
   "source": [
    "### Boxplot of departure delay by weekday"
   ]
  },
  {
   "cell_type": "code",
   "execution_count": 32,
   "metadata": {
    "hidden": true
   },
   "outputs": [
    {
     "data": {
      "image/png": "[encoded data removed]",
      "text/plain": [
       "<Figure size 864x576 with 1 Axes>"
      ]
     },
     "metadata": {
      "needs_background": "light"
     },
     "output_type": "display_data"
    }
   ],
   "source": [
    "plt.figure(figsize=(12,8))\n",
    "sns.barplot(x=\"Weekday\", y=\"DEP_DELAY\", data=training_prev, palette=\"Blues_d\")\n",
    "plt.title('Avg. departure delay by weekday')\n",
    "plt.ylabel('Departure delay(mins)')\n",
    "plt.xticks(np.arange(7),('Mon','Tue','Wedn','Thur','Fri','Sat','Sun'))\n",
    "plt.show()"
   ]
  },
  {
   "cell_type": "markdown",
   "metadata": {
    "heading_collapsed": true,
    "hidden": true
   },
   "source": [
    "### Average departure delay by carrier"
   ]
  },
  {
   "cell_type": "code",
   "execution_count": 9,
   "metadata": {
    "hidden": true
   },
   "outputs": [
    {
     "data": {
      "image/png": "[encoded data removed]",
      "text/plain": [
       "<Figure size 864x576 with 1 Axes>"
      ]
     },
     "metadata": {
      "needs_background": "light"
     },
     "output_type": "display_data"
    }
   ],
   "source": [
    "plt.figure(figsize=(12,8))\n",
    "sns.barplot(x=\"OP_UNIQUE_CARRIER\", y=\"DEP_DELAY\", data=training_prev.sample(frac=0.3),palette=\"Blues_d\")\n",
    "plt.title('Avg. departure delay by carrier',size=16)\n",
    "plt.ylabel('Avg. delay (mins)',size=14)\n",
    "plt.xlabel('Carriers',size=14)\n",
    "plt.show()"
   ]
  },
  {
   "cell_type": "markdown",
   "metadata": {
    "heading_collapsed": true,
    "hidden": true
   },
   "source": [
    "### Avg. departure delay by weather"
   ]
  },
  {
   "cell_type": "code",
   "execution_count": 117,
   "metadata": {
    "hidden": true
   },
   "outputs": [
    {
     "data": {
      "image/png": "[encoded data removed]",
      "text/plain": [
       "<Figure size 864x576 with 1 Axes>"
      ]
     },
     "metadata": {
      "needs_background": "light"
     },
     "output_type": "display_data"
    }
   ],
   "source": [
    "plt.figure(figsize=(12,8))\n",
    "sns.barplot(x=\"weatherDesc_new\", y=\"DEP_DELAY\", \n",
    "            data=training_prev[training_prev['EST_TRN']<=timedelta(seconds=60*60*1)],\n",
    "            palette=\"Blues_d\")\n",
    "plt.title('Avg. departure delay by weather')\n",
    "plt.ylabel('Departure delay(mins)')\n",
    "plt.xticks(rotation=270)\n",
    "plt.xlabel('Types of weather')\n",
    "plt.show()"
   ]
  },
  {
   "cell_type": "code",
   "execution_count": 120,
   "metadata": {
    "hidden": true
   },
   "outputs": [
    {
     "data": {
      "text/plain": [
       "Sunny                                  1448168\n",
       "Partly cloudy                           619622\n",
       "Clear                                   330884\n",
       "Overcast                                279978\n",
       "Cloudy                                  204220\n",
       "Patchy rain possible                    144602\n",
       "Moderate or heavy rain shower            73841\n",
       "Light rain shower                        57346\n",
       "Thundery outbreaks possible              32154\n",
       "Mist                                     24658\n",
       "Light drizzle                            17677\n",
       "Torrential rain shower                   14168\n",
       "Light rain                               13710\n",
       "Fog                                      12666\n",
       "Moderate rain                            11141\n",
       "Moderate rain at times                    9420\n",
       "Heavy snow                                7563\n",
       "Patchy light rain with thunder            7369\n",
       "Patchy light drizzle                      5630\n",
       "Patchy light rain                         3779\n",
       "Light snow                                3691\n",
       "Moderate snow                             3354\n",
       "Heavy rain                                3331\n",
       "Heavy rain at times                       2149\n",
       "Patchy light snow                         1735\n",
       "Blizzard                                  1607\n",
       "Moderate or heavy snow showers            1457\n",
       "Light sleet                                986\n",
       "Patchy moderate snow                       835\n",
       "Moderate or heavy rain with thunder        670\n",
       "Blowing snow                               643\n",
       "Light snow showers                         524\n",
       "Heavy freezing drizzle                     469\n",
       "Patchy heavy snow                          444\n",
       "Moderate or heavy sleet                    427\n",
       "Freezing fog                               410\n",
       "Patchy snow possible                       374\n",
       "Patchy sleet possible                      255\n",
       "Light sleet showers                        233\n",
       "Light freezing rain                        204\n",
       "Freezing drizzle                           152\n",
       "Moderate or heavy freezing rain             80\n",
       "Ice pellets                                 65\n",
       "Name: weatherDesc_new, dtype: int64"
      ]
     },
     "execution_count": 120,
     "metadata": {},
     "output_type": "execute_result"
    }
   ],
   "source": [
    "training_prev['weatherDesc_new'].value_counts()"
   ]
  },
  {
   "cell_type": "markdown",
   "metadata": {
    "hidden": true
   },
   "source": [
    "### Correlation Matrix"
   ]
  },
  {
   "cell_type": "code",
   "execution_count": 16,
   "metadata": {
    "hidden": true
   },
   "outputs": [],
   "source": [
    "weather = training_prev[['DewPointC', 'cloudcover','humidity', 'precipMM', 'pressure','tempC',\n",
    "                         'uvIndex', 'visibility','windspeedKmph']]"
   ]
  },
  {
   "cell_type": "code",
   "execution_count": 20,
   "metadata": {
    "hidden": true
   },
   "outputs": [
    {
     "data": {
      "text/plain": [
       "DewPointC        0.043756\n",
       "cloudcover       0.035107\n",
       "humidity         0.042071\n",
       "precipMM         0.058994\n",
       "pressure        -0.047343\n",
       "tempC            0.027104\n",
       "uvIndex          0.009330\n",
       "visibility      -0.042325\n",
       "windspeedKmph    0.028446\n",
       "Name: DEP_DELAY, dtype: float64"
      ]
     },
     "execution_count": 20,
     "metadata": {},
     "output_type": "execute_result"
    }
   ],
   "source": [
    "pd.concat([weather,training_prev['DEP_DELAY']],axis=1).corr().iloc[-1,:-1]"
   ]
  },
  {
   "cell_type": "code",
   "execution_count": 17,
   "metadata": {
    "hidden": true
   },
   "outputs": [
    {
     "data": {
      "image/png": "[encoded data removed]",
      "text/plain": [
       "<Figure size 792x648 with 2 Axes>"
      ]
     },
     "metadata": {},
     "output_type": "display_data"
    }
   ],
   "source": [
    "sns.set(style=\"white\")\n",
    "\n",
    "\n",
    "# Compute the correlation matrix\n",
    "corr = pd.concat([weather,training_prev['DEP_DELAY']],axis=1).corr()\n",
    "#corr = weather.corr()\n",
    "\n",
    "# Set up the matplotlib figure\n",
    "f, ax = plt.subplots(figsize=(11, 9))\n",
    "\n",
    "# Generate a custom diverging colormap\n",
    "cmap = sns.diverging_palette(220, 10, as_cmap=True)\n",
    "\n",
    "# Draw the heatmap with the mask and correct aspect ratio\n",
    "sns.heatmap(corr, cmap=cmap, \n",
    "            #vmax=.3, \n",
    "            center=0,\n",
    "            square=True,\n",
    "            linewidths=.5, cbar_kws={\"shrink\": .5})\n",
    "plt.tight_layout()\n",
    "plt.savefig(\"./images/weather.png\", dpi=300)\n",
    "plt.show()"
   ]
  },
  {
   "cell_type": "markdown",
   "metadata": {
    "heading_collapsed": true,
    "hidden": true
   },
   "source": [
    "### Airport Delay last 6 hours"
   ]
  },
  {
   "cell_type": "code",
   "execution_count": 21,
   "metadata": {
    "hidden": true
   },
   "outputs": [
    {
     "data": {
      "text/plain": [
       "-4.036036036036036"
      ]
     },
     "execution_count": 21,
     "metadata": {},
     "output_type": "execute_result"
    }
   ],
   "source": [
    "np.percentile(training_prev['AVG_DELAY6'], 5)"
   ]
  },
  {
   "cell_type": "code",
   "execution_count": 68,
   "metadata": {
    "hidden": true
   },
   "outputs": [
    {
     "data": {
      "image/png": "[encoded data removed]",
      "text/plain": [
       "<Figure size 432x288 with 1 Axes>"
      ]
     },
     "metadata": {
      "needs_background": "light"
     },
     "output_type": "display_data"
    }
   ],
   "source": [
    "ax1 = sns.distplot(training_prev[(training_prev['DEP_DELAY_BI']==0)&\n",
    "                                 (training_prev['AVG_DELAY6']<=54)&\n",
    "                                 (training_prev['AVG_DELAY6']>=-4)]['AVG_DELAY6'],\n",
    "                  kde_kws={'label':'Not Delayed'})\n",
    "ax2 = sns.distplot(training_prev[(training_prev['DEP_DELAY_BI']==1)&\n",
    "                                 (training_prev['AVG_DELAY6']<=54)&\n",
    "                                 (training_prev['AVG_DELAY6']>=-4)]['AVG_DELAY6'],\n",
    "                  kde_kws={'label':'Delayed'})\n",
    "plt.xlabel('Avg. Airport-level delay in the last six hours')\n",
    "plt.ylabel('Probability')\n",
    "plt.title('Distribution of Avg. Airport-level delay between classes')\n",
    "plt.savefig(\"APR_delay.png\", dpi=300)\n",
    "plt.show()"
   ]
  },
  {
   "cell_type": "code",
   "execution_count": 29,
   "metadata": {
    "hidden": true
   },
   "outputs": [
    {
     "data": {
      "text/plain": [
       "10.944780765787677"
      ]
     },
     "execution_count": 29,
     "metadata": {},
     "output_type": "execute_result"
    }
   ],
   "source": [
    "np.mean(training_prev[(training_prev['DEP_DELAY_BI']==0)]['AVG_DELAY6'])"
   ]
  },
  {
   "cell_type": "code",
   "execution_count": 30,
   "metadata": {
    "hidden": true
   },
   "outputs": [
    {
     "data": {
      "text/plain": [
       "13.257735761672885"
      ]
     },
     "execution_count": 30,
     "metadata": {},
     "output_type": "execute_result"
    }
   ],
   "source": [
    "np.mean(training_prev[(training_prev['DEP_DELAY_BI']==1)]['AVG_DELAY6'])"
   ]
  },
  {
   "cell_type": "code",
   "execution_count": 31,
   "metadata": {
    "hidden": true
   },
   "outputs": [
    {
     "data": {
      "text/plain": [
       "27.804724784219232"
      ]
     },
     "execution_count": 31,
     "metadata": {},
     "output_type": "execute_result"
    }
   ],
   "source": [
    "np.std(training_prev[(training_prev['DEP_DELAY_BI']==0)]['AVG_DELAY6'])"
   ]
  },
  {
   "cell_type": "code",
   "execution_count": 32,
   "metadata": {
    "hidden": true
   },
   "outputs": [
    {
     "data": {
      "text/plain": [
       "24.099913687776343"
      ]
     },
     "execution_count": 32,
     "metadata": {},
     "output_type": "execute_result"
    }
   ],
   "source": [
    "np.std(training_prev[(training_prev['DEP_DELAY_BI']==1)]['AVG_DELAY6'])"
   ]
  },
  {
   "cell_type": "code",
   "execution_count": 27,
   "metadata": {
    "hidden": true
   },
   "outputs": [
    {
     "data": {
      "text/plain": [
       "Ttest_indResult(statistic=-66.50307347494329, pvalue=0.0)"
      ]
     },
     "execution_count": 27,
     "metadata": {},
     "output_type": "execute_result"
    }
   ],
   "source": [
    "from scipy import stats\n",
    "stats.ttest_ind(training_prev[(training_prev['DEP_DELAY_BI']==0)]['AVG_DELAY6'], training_prev[(training_prev['DEP_DELAY_BI']==1)]['AVG_DELAY6'], equal_var = False)"
   ]
  },
  {
   "cell_type": "markdown",
   "metadata": {
    "heading_collapsed": true,
    "hidden": true
   },
   "source": [
    "### OD-pair"
   ]
  },
  {
   "cell_type": "code",
   "execution_count": 37,
   "metadata": {
    "hidden": true
   },
   "outputs": [
    {
     "data": {
      "text/plain": [
       "41.0"
      ]
     },
     "execution_count": 37,
     "metadata": {},
     "output_type": "execute_result"
    }
   ],
   "source": [
    "np.percentile(training_prev['OD_DELAY6'], 95)"
   ]
  },
  {
   "cell_type": "code",
   "execution_count": 52,
   "metadata": {
    "hidden": true
   },
   "outputs": [],
   "source": [
    "pos = training_prev[(training_prev['DEP_DELAY_BI']==1)&(training_prev['OD_DELAY6']!=0)]['OD_DELAY6']\n",
    "neg = training_prev[(training_prev['DEP_DELAY_BI']==0)&(training_prev['OD_DELAY6']!=0)]['OD_DELAY6']"
   ]
  },
  {
   "cell_type": "code",
   "execution_count": 55,
   "metadata": {
    "hidden": true
   },
   "outputs": [
    {
     "data": {
      "image/png": "[encoded data removed]",
      "text/plain": [
       "<Figure size 432x288 with 1 Axes>"
      ]
     },
     "metadata": {
      "needs_background": "light"
     },
     "output_type": "display_data"
    }
   ],
   "source": [
    "ax1 = sns.distplot(training_prev[(training_prev['DEP_DELAY_BI']==0)&\n",
    "                                 (training_prev['OD_DELAY6']>=-6.75)&\n",
    "                                 (training_prev['OD_DELAY6']<=41)&\n",
    "                                 (training_prev['OD_DELAY6']!=0)]['OD_DELAY6'],\n",
    "                  kde_kws={'label':'Not Delayed'})\n",
    "ax2 = sns.distplot(training_prev[(training_prev['DEP_DELAY_BI']==1)&\n",
    "                                 (training_prev['OD_DELAY6']>=-6.75)&\n",
    "                                 (training_prev['OD_DELAY6']<=41)&\n",
    "                                 (training_prev['OD_DELAY6']!=0)]['OD_DELAY6'],\n",
    "                  kde_kws={'label':'Delayed'})\n",
    "plt.xlabel('Avg. Airport-level delay in the last six hours')\n",
    "plt.ylabel('Probability')\n",
    "plt.title('Distribution of Avg. Airport-level delay between classes')\n",
    "plt.show()"
   ]
  },
  {
   "cell_type": "code",
   "execution_count": 67,
   "metadata": {
    "hidden": true
   },
   "outputs": [
    {
     "data": {
      "image/png": "[encoded data removed]",
      "text/plain": [
       "<Figure size 432x288 with 1 Axes>"
      ]
     },
     "metadata": {
      "needs_background": "light"
     },
     "output_type": "display_data"
    }
   ],
   "source": [
    "ax = sns.boxplot(x='DEP_DELAY_BI', y='OD_DELAY6',data=training_prev.sample(frac=0.5)[training_prev['OD_DELAY6']!=0])\n",
    "ax.set_ylim([-10,50])\n",
    "plt.ylabel('OD-pair delay minutes')\n",
    "plt.xlabel('Delay Class')\n",
    "plt.title('Distribution of OD-pair delay between delay classes')\n",
    "ax.set_xticklabels(['Not Delayed','Delayed'])\n",
    "plt.savefig(\"OD.png\", dpi=300)\n",
    "plt.show()"
   ]
  },
  {
   "cell_type": "code",
   "execution_count": 39,
   "metadata": {
    "hidden": true
   },
   "outputs": [
    {
     "data": {
      "text/plain": [
       "Ttest_indResult(statistic=-139.19585066308463, pvalue=0.0)"
      ]
     },
     "execution_count": 39,
     "metadata": {},
     "output_type": "execute_result"
    }
   ],
   "source": [
    "stats.ttest_ind(training_prev[(training_prev['DEP_DELAY_BI']==0)]['OD_DELAY6'], training_prev[(training_prev['DEP_DELAY_BI']==1)]['OD_DELAY6'], equal_var = False)"
   ]
  },
  {
   "cell_type": "code",
   "execution_count": 40,
   "metadata": {
    "hidden": true
   },
   "outputs": [
    {
     "data": {
      "text/plain": [
       "5.312760817277513"
      ]
     },
     "execution_count": 40,
     "metadata": {},
     "output_type": "execute_result"
    }
   ],
   "source": [
    "np.mean(training_prev[(training_prev['DEP_DELAY_BI']==0)]['OD_DELAY6'])"
   ]
  },
  {
   "cell_type": "code",
   "execution_count": 41,
   "metadata": {
    "hidden": true
   },
   "outputs": [
    {
     "data": {
      "text/plain": [
       "11.529787842803588"
      ]
     },
     "execution_count": 41,
     "metadata": {},
     "output_type": "execute_result"
    }
   ],
   "source": [
    "np.mean(training_prev[(training_prev['DEP_DELAY_BI']==1)]['OD_DELAY6'])"
   ]
  },
  {
   "cell_type": "markdown",
   "metadata": {
    "heading_collapsed": true,
    "hidden": true
   },
   "source": [
    "### Turnaround Time"
   ]
  },
  {
   "cell_type": "code",
   "execution_count": 28,
   "metadata": {
    "hidden": true
   },
   "outputs": [],
   "source": [
    "sample = training_prev.sample(frac=0.01)\n",
    "log_delay = np.log(sample['DEP_DELAY']+1-min(sample['DEP_DELAY']))\n",
    "log_trn = np.log(sample['MIN5_TRN'])"
   ]
  },
  {
   "cell_type": "code",
   "execution_count": 54,
   "metadata": {
    "hidden": true
   },
   "outputs": [
    {
     "data": {
      "text/plain": [
       "Ttest_indResult(statistic=-141.92318816195728, pvalue=0.0)"
      ]
     },
     "execution_count": 54,
     "metadata": {},
     "output_type": "execute_result"
    }
   ],
   "source": [
    "from scipy import stats\n",
    "stats.ttest_ind(training_prev[(training_prev['DEP_DELAY_BI']==0)]['Buff_TRN'], training_prev[(training_prev['DEP_DELAY_BI']==1)]['Buff_TRN'], equal_var = False)"
   ]
  },
  {
   "cell_type": "code",
   "execution_count": 55,
   "metadata": {
    "hidden": true
   },
   "outputs": [
    {
     "data": {
      "text/plain": [
       "111.38780139340433"
      ]
     },
     "execution_count": 55,
     "metadata": {},
     "output_type": "execute_result"
    }
   ],
   "source": [
    "np.mean(training_prev[(training_prev['DEP_DELAY_BI']==0)]['Buff_TRN'])"
   ]
  },
  {
   "cell_type": "code",
   "execution_count": 56,
   "metadata": {
    "hidden": true
   },
   "outputs": [
    {
     "data": {
      "text/plain": [
       "182.90137413323853"
      ]
     },
     "execution_count": 56,
     "metadata": {},
     "output_type": "execute_result"
    }
   ],
   "source": [
    "np.mean(training_prev[(training_prev['DEP_DELAY_BI']==1)]['Buff_TRN'])"
   ]
  },
  {
   "cell_type": "code",
   "execution_count": 57,
   "metadata": {
    "hidden": true
   },
   "outputs": [
    {
     "data": {
      "text/plain": [
       "232.2855555276429"
      ]
     },
     "execution_count": 57,
     "metadata": {},
     "output_type": "execute_result"
    }
   ],
   "source": [
    "np.std(training_prev[(training_prev['DEP_DELAY_BI']==0)]['Buff_TRN'])"
   ]
  },
  {
   "cell_type": "code",
   "execution_count": 58,
   "metadata": {
    "hidden": true
   },
   "outputs": [
    {
     "data": {
      "text/plain": [
       "383.36872290158107"
      ]
     },
     "execution_count": 58,
     "metadata": {},
     "output_type": "execute_result"
    }
   ],
   "source": [
    "np.std(training_prev[(training_prev['DEP_DELAY_BI']==1)]['Buff_TRN'])"
   ]
  },
  {
   "cell_type": "code",
   "execution_count": 79,
   "metadata": {
    "hidden": true
   },
   "outputs": [
    {
     "data": {
      "text/plain": [
       "-24.5"
      ]
     },
     "execution_count": 79,
     "metadata": {},
     "output_type": "execute_result"
    }
   ],
   "source": [
    "np.quantile(training_prev['DEP_DELAY'],0.25) - 1.5*(np.quantile(training_prev['DEP_DELAY'],0.75) \n",
    "                                                    - np.quantile(training_prev['DEP_DELAY'],0.25))"
   ]
  },
  {
   "cell_type": "code",
   "execution_count": 84,
   "metadata": {
    "hidden": true
   },
   "outputs": [
    {
     "data": {
      "image/png": "[encoded data removed]",
      "text/plain": [
       "<Figure size 432x288 with 1 Axes>"
      ]
     },
     "metadata": {
      "needs_background": "light"
     },
     "output_type": "display_data"
    }
   ],
   "source": [
    "ax = sns.barplot(x='DEP_DELAY_BI',y='Buff_TRN',data=training_prev[(training_prev['DEP_DELAY']<=27.5)&\n",
    "                                                                  (training_prev['DEP_DELAY']>=-24.5)])\n",
    "plt.xlabel('Delay Class')\n",
    "plt.ylabel('Turnaround Slack (mins)')\n",
    "plt.title('Average Turnaround Slack between different delay class')\n",
    "ax.set_xticklabels(['Not Delayed','Delayed'])\n",
    "ax.set_ylim([80,120])\n",
    "plt.savefig(\"./images/Buff.png\", dpi=300)\n",
    "plt.show()"
   ]
  },
  {
   "cell_type": "markdown",
   "metadata": {
    "heading_collapsed": true,
    "hidden": true
   },
   "source": [
    "### Departure Delay of previous flight"
   ]
  },
  {
   "cell_type": "code",
   "execution_count": 106,
   "metadata": {
    "hidden": true
   },
   "outputs": [
    {
     "data": {
      "image/png": "[encoded data removed]",
      "text/plain": [
       "<Figure size 432x288 with 1 Axes>"
      ]
     },
     "metadata": {
      "needs_background": "light"
     },
     "output_type": "display_data"
    }
   ],
   "source": [
    "ax = sns.boxplot(x='DEP_DELAY_BI', y='DEP_DELAY_prev',data=training_prev.sample(frac=0.5))\n",
    "ax.set_ylim([-20,100])\n",
    "plt.ylabel('Previous flight delay minutes')\n",
    "plt.xlabel('Delay Class')\n",
    "plt.title('Distribution of previous flight delay (mins) between delay classes')\n",
    "ax.set_xticklabels(['Not Delayed','Delayed'])\n",
    "plt.savefig(\"./images/prev.png\", dpi=300)\n",
    "plt.show()"
   ]
  }
 ],
 "metadata": {
  "kernelspec": {
   "display_name": "Python [conda env:Python3]",
   "language": "python",
   "name": "conda-env-Python3-py"
  },
  "language_info": {
   "codemirror_mode": {
    "name": "ipython",
    "version": 3
   },
   "file_extension": ".py",
   "mimetype": "text/x-python",
   "name": "python",
   "nbconvert_exporter": "python",
   "pygments_lexer": "ipython3",
   "version": "3.6.8"
  },
  "toc": {
   "base_numbering": 1,
   "nav_menu": {
    "height": "478px",
    "width": "428px"
   },
   "number_sections": true,
   "sideBar": true,
   "skip_h1_title": false,
   "title_cell": "Table of Contents",
   "title_sidebar": "Contents",
   "toc_cell": false,
   "toc_position": {},
   "toc_section_display": true,
   "toc_window_display": false
  }
 },
 "nbformat": 4,
 "nbformat_minor": 2
}
