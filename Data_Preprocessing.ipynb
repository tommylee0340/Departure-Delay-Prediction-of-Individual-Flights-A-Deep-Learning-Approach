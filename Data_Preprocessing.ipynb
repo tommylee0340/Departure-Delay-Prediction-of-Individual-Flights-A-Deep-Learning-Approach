{
 "cells": [
  {
   "cell_type": "markdown",
   "metadata": {
    "heading_collapsed": true
   },
   "source": [
    "# Import packages"
   ]
  },
  {
   "cell_type": "code",
   "execution_count": 1,
   "metadata": {
    "hidden": true
   },
   "outputs": [],
   "source": [
    "import pandas as pd\n",
    "import numpy as np\n",
    "import matplotlib.pyplot as plt"
   ]
  },
  {
   "cell_type": "code",
   "execution_count": 3,
   "metadata": {
    "hidden": true
   },
   "outputs": [
    {
     "name": "stdout",
     "output_type": "stream",
     "text": [
      "Collecting timezonefinder\n",
      "  Using cached https://files.pythonhosted.org/packages/51/c0/d5dab6191ee631f811a6bfc710552f500eb2bb8b7751b72051aaa1692582/timezonefinder-4.0.2-py3-none-any.whl\n",
      "Collecting importlib-resources (from timezonefinder)\n",
      "  Using cached https://files.pythonhosted.org/packages/2f/f7/b4aa02cdd3ee7ebba375969d77c00826aa15c5db84247d23c89522dccbfa/importlib_resources-1.0.2-py2.py3-none-any.whl\n",
      "Requirement already satisfied: numpy in /opt/anaconda/envs/Python3/lib/python3.6/site-packages (from timezonefinder) (1.16.2)\n",
      "Installing collected packages: importlib-resources, timezonefinder\n",
      "Successfully installed importlib-resources-1.0.2 timezonefinder-4.0.2\n"
     ]
    }
   ],
   "source": [
    "!pip install timezonefinder"
   ]
  },
  {
   "cell_type": "code",
   "execution_count": 4,
   "metadata": {
    "hidden": true
   },
   "outputs": [],
   "source": [
    "from timezonefinder import TimezoneFinder\n",
    "import pytz"
   ]
  },
  {
   "cell_type": "code",
   "execution_count": 2,
   "metadata": {
    "hidden": true
   },
   "outputs": [],
   "source": [
    "pd.set_option('display.max_columns', 500)\n",
    "pd.set_option('display.max_rows', 500)"
   ]
  },
  {
   "cell_type": "markdown",
   "metadata": {
    "heading_collapsed": true
   },
   "source": [
    "# Collect Weather Data"
   ]
  },
  {
   "cell_type": "markdown",
   "metadata": {
    "heading_collapsed": true,
    "hidden": true
   },
   "source": [
    "### Import Airport code match data (for collecting weather data)"
   ]
  },
  {
   "cell_type": "code",
   "execution_count": 4,
   "metadata": {
    "hidden": true
   },
   "outputs": [],
   "source": [
    "airport_match = pd.read_csv('Airport_Code_Match.csv')"
   ]
  },
  {
   "cell_type": "code",
   "execution_count": 5,
   "metadata": {
    "hidden": true
   },
   "outputs": [],
   "source": [
    "airport_match = airport_match[airport_match['AIRPORT_IS_LATEST']==1]"
   ]
  },
  {
   "cell_type": "code",
   "execution_count": 6,
   "metadata": {
    "hidden": true
   },
   "outputs": [],
   "source": [
    "airport_latlon = pd.merge(unique_airport,airport_match,left_on='ORIGIN_AIRPORT_ID',\n",
    "                          right_on='AIRPORT_ID',how='inner')"
   ]
  },
  {
   "cell_type": "code",
   "execution_count": 7,
   "metadata": {
    "hidden": true
   },
   "outputs": [],
   "source": [
    "airport_loc = airport_latlon[['ORIGIN_AIRPORT_ID','ORIGIN','LATITUDE','LONGITUDE']]"
   ]
  },
  {
   "cell_type": "markdown",
   "metadata": {
    "heading_collapsed": true,
    "hidden": true
   },
   "source": [
    "### API from WWO"
   ]
  },
  {
   "cell_type": "code",
   "execution_count": 9,
   "metadata": {
    "hidden": true
   },
   "outputs": [],
   "source": [
    "import requests"
   ]
  },
  {
   "cell_type": "code",
   "execution_count": 10,
   "metadata": {
    "hidden": true
   },
   "outputs": [],
   "source": [
    "def get_request(q,date,end_date):\n",
    "    \n",
    "    parameters = {'q': q, \n",
    "                  'date': date, # format '2018-01-01'\n",
    "                  'enddate':end_date,\n",
    "                  'tp':'1',\n",
    "                  'includelocation':'yes',\n",
    "                  'format':'json',\n",
    "                  'key':'22528998d4d548d2ba0102133192004'}\n",
    "\n",
    "    response = requests.get(\"https://api.worldweatheronline.com/premium/v1/past-weather.ashx\", params=parameters)\n",
    "    \n",
    "    data = response.json()\n",
    "    \n",
    "    if response.status_code != 200:\n",
    "        raise Exception('status code is not 200')\n",
    "    \n",
    "    return data"
   ]
  },
  {
   "cell_type": "code",
   "execution_count": 11,
   "metadata": {
    "hidden": true
   },
   "outputs": [],
   "source": [
    "date_range = pd.DataFrame(\n",
    "            {'start_date':['2018-01-01','2018-02-01','2018-03-01','2018-04-01','2018-05-01',\n",
    "                           '2018-06-01','2018-07-01','2018-08-01','2018-09-01','2018-10-01',\n",
    "                            '2018-11-01','2018-12-01'],\n",
    "             'end_date':['2018-01-31','2018-02-28','2018-03-31','2018-04-30','2018-05-31',\n",
    "                           '2018-06-30','2018-07-31','2018-08-31','2018-09-30','2018-10-31',\n",
    "                            '2018-11-30','2018-12-31']})"
   ]
  },
  {
   "cell_type": "code",
   "execution_count": 12,
   "metadata": {
    "hidden": true
   },
   "outputs": [],
   "source": [
    "def init_df():\n",
    "    \n",
    "    cols = ['Airport_id', 'Airport_name', 'Date', 'DewPointC', 'DewPointF',\n",
    "       'FeelsLikeC', 'FeelsLikeF', 'HeatIndexC', 'HeatIndexF', 'WindChillC',\n",
    "       'WindChillF', 'WindGustKmph', 'WindGustMiles', 'cloudcover', 'humidity',\n",
    "       'precipMM', 'pressure', 'tempC', 'tempF', 'time', 'uvIndex',\n",
    "       'visibility', 'weatherCode', 'weatherDesc', 'weatherIconUrl',\n",
    "       'winddir16Point', 'winddirDegree', 'windspeedKmph', 'windspeedMiles']\n",
    "    \n",
    "    init_df = pd.DataFrame(columns=cols)\n",
    "    return init_df"
   ]
  },
  {
   "cell_type": "code",
   "execution_count": 13,
   "metadata": {
    "hidden": true
   },
   "outputs": [],
   "source": [
    "def data_to_df(data,airport_id,airport_name):\n",
    "\n",
    "    rows = []\n",
    "\n",
    "    for date in data['data']['weather']:\n",
    "        hour_data = date['hourly']\n",
    "        day = date['date']\n",
    "\n",
    "        for hour in hour_data:\n",
    "            hour['Date'] = day\n",
    "            hour['Airport_id'] = airport_id\n",
    "            hour['Airport_name'] = airport_name\n",
    "            rows.append(hour)\n",
    "\n",
    "    df = pd.DataFrame(rows)\n",
    "    \n",
    "    return df"
   ]
  },
  {
   "cell_type": "markdown",
   "metadata": {
    "heading_collapsed": true,
    "hidden": true
   },
   "source": [
    "### Weather Batch Schedule\n",
    "\n",
    "- Batch 1: [0:20], from EWR to SLC\n",
    "- Batch 2: [20:60], from RDU to BZN\n",
    "- Batch 3: [60:100], from EUG to BLI\n",
    "- Batch 4: [100:149], from SBA to DAY\n",
    "- Batch 5: [149:195], from ATW to RST\n",
    "- Batch 6: [195:240], from BRO to JLN\n",
    "- Batch 7: [240:285], from CMI to TWF\n",
    "- Batch 8: [285:330], from MBS to ADK"
   ]
  },
  {
   "cell_type": "code",
   "execution_count": 87,
   "metadata": {
    "hidden": true
   },
   "outputs": [
    {
     "name": "stdout",
     "output_type": "stream",
     "text": [
      "330\n",
      "331\n",
      "332\n",
      "333\n",
      "334\n",
      "335\n",
      "336\n",
      "337\n",
      "338\n",
      "339\n",
      "340\n",
      "341\n",
      "342\n",
      "343\n",
      "344\n",
      "345\n",
      "346\n",
      "347\n",
      "348\n",
      "349\n",
      "350\n",
      "351\n",
      "352\n",
      "353\n",
      "354\n",
      "355\n",
      "356\n",
      "357\n"
     ]
    }
   ],
   "source": [
    "# initialise an empty DataFrame\n",
    "full_df = init_df()\n",
    "\n",
    "for index, row in airport_loc.iloc[330:,:].iterrows():\n",
    "    coordinate = str(row['LATITUDE']) + ',' + str(row['LONGITUDE'])\n",
    "    airport_id = row['ORIGIN_AIRPORT_ID']\n",
    "    airport_name = row['ORIGIN']\n",
    "    print(index)\n",
    "    \n",
    "    for index, row in date_range.iterrows():\n",
    "        data = get_request(q=coordinate,date=row['start_date'],end_date=row['end_date'])\n",
    "        df = data_to_df(data=data,airport_id = airport_id,airport_name = airport_name)\n",
    "        full_df = full_df.append(df,ignore_index=True)"
   ]
  },
  {
   "cell_type": "code",
   "execution_count": 93,
   "metadata": {
    "hidden": true
   },
   "outputs": [
    {
     "data": {
      "text/plain": [
       "28"
      ]
     },
     "execution_count": 93,
     "metadata": {},
     "output_type": "execute_result"
    }
   ],
   "source": [
    "len(full_df['Airport_name'].value_counts())"
   ]
  },
  {
   "cell_type": "code",
   "execution_count": 89,
   "metadata": {
    "hidden": true
   },
   "outputs": [
    {
     "data": {
      "text/plain": [
       "(245280, 29)"
      ]
     },
     "execution_count": 89,
     "metadata": {},
     "output_type": "execute_result"
    }
   ],
   "source": [
    "full_df.shape"
   ]
  },
  {
   "cell_type": "code",
   "execution_count": 91,
   "metadata": {
    "hidden": true
   },
   "outputs": [],
   "source": [
    "weather_batch9 = full_df.copy()"
   ]
  },
  {
   "cell_type": "code",
   "execution_count": 92,
   "metadata": {
    "hidden": true
   },
   "outputs": [],
   "source": [
    "weather_batch9.to_csv('weather_batch9.csv')"
   ]
  },
  {
   "cell_type": "markdown",
   "metadata": {
    "heading_collapsed": true,
    "hidden": true
   },
   "source": [
    "### Combine all weather data"
   ]
  },
  {
   "cell_type": "code",
   "execution_count": 3,
   "metadata": {
    "hidden": true
   },
   "outputs": [],
   "source": [
    "w_01 = pd.read_csv('weather_batch1.csv')\n",
    "w_02 = pd.read_csv('weather_batch2.csv')\n",
    "w_03 = pd.read_csv('weather_batch3.csv')\n",
    "w_04 = pd.read_csv('weather_batch4.csv')\n",
    "w_05 = pd.read_csv('weather_batch5.csv')\n",
    "w_06 = pd.read_csv('weather_batch6.csv')\n",
    "w_07 = pd.read_csv('weather_batch7.csv')\n",
    "w_08 = pd.read_csv('weather_batch8.csv')\n",
    "w_09 = pd.read_csv('weather_batch9.csv')"
   ]
  },
  {
   "cell_type": "code",
   "execution_count": 4,
   "metadata": {
    "hidden": true
   },
   "outputs": [],
   "source": [
    "all_weather_data = w_01.append([w_02,w_03,w_04,w_05,w_06,w_07,w_08,w_09])"
   ]
  },
  {
   "cell_type": "code",
   "execution_count": 5,
   "metadata": {
    "hidden": true
   },
   "outputs": [
    {
     "data": {
      "text/plain": [
       "(3136080, 30)"
      ]
     },
     "execution_count": 5,
     "metadata": {},
     "output_type": "execute_result"
    }
   ],
   "source": [
    "all_weather_data.shape"
   ]
  },
  {
   "cell_type": "code",
   "execution_count": 41,
   "metadata": {
    "hidden": true
   },
   "outputs": [],
   "source": [
    "# get the description out\n",
    "all_weather_data['weatherDesc_new'] = all_weather_data['weatherDesc'].apply(lambda x\n",
    "                                                                            :x.split(\"'\")[-2])"
   ]
  },
  {
   "cell_type": "code",
   "execution_count": 4,
   "metadata": {
    "hidden": true,
    "scrolled": true
   },
   "outputs": [
    {
     "data": {
      "text/html": [
       "<div>\n",
       "<style scoped>\n",
       "    .dataframe tbody tr th:only-of-type {\n",
       "        vertical-align: middle;\n",
       "    }\n",
       "\n",
       "    .dataframe tbody tr th {\n",
       "        vertical-align: top;\n",
       "    }\n",
       "\n",
       "    .dataframe thead th {\n",
       "        text-align: right;\n",
       "    }\n",
       "</style>\n",
       "<table border=\"1\" class=\"dataframe\">\n",
       "  <thead>\n",
       "    <tr style=\"text-align: right;\">\n",
       "      <th></th>\n",
       "      <th>Airport_id</th>\n",
       "      <th>Airport_name</th>\n",
       "      <th>Date</th>\n",
       "      <th>DewPointC</th>\n",
       "      <th>DewPointF</th>\n",
       "      <th>FeelsLikeC</th>\n",
       "      <th>FeelsLikeF</th>\n",
       "      <th>HeatIndexC</th>\n",
       "      <th>HeatIndexF</th>\n",
       "      <th>WindChillC</th>\n",
       "      <th>WindChillF</th>\n",
       "      <th>WindGustKmph</th>\n",
       "      <th>WindGustMiles</th>\n",
       "      <th>cloudcover</th>\n",
       "      <th>humidity</th>\n",
       "      <th>precipMM</th>\n",
       "      <th>pressure</th>\n",
       "      <th>tempC</th>\n",
       "      <th>tempF</th>\n",
       "      <th>time</th>\n",
       "      <th>uvIndex</th>\n",
       "      <th>visibility</th>\n",
       "      <th>weatherCode</th>\n",
       "      <th>weatherDesc</th>\n",
       "      <th>weatherIconUrl</th>\n",
       "      <th>winddir16Point</th>\n",
       "      <th>winddirDegree</th>\n",
       "      <th>windspeedKmph</th>\n",
       "      <th>windspeedMiles</th>\n",
       "      <th>weatherDesc_new</th>\n",
       "    </tr>\n",
       "  </thead>\n",
       "  <tbody>\n",
       "    <tr>\n",
       "      <th>0</th>\n",
       "      <td>11618</td>\n",
       "      <td>EWR</td>\n",
       "      <td>2018-01-01</td>\n",
       "      <td>-17</td>\n",
       "      <td>1</td>\n",
       "      <td>-20</td>\n",
       "      <td>-5</td>\n",
       "      <td>-12</td>\n",
       "      <td>10</td>\n",
       "      <td>-20</td>\n",
       "      <td>-5</td>\n",
       "      <td>24</td>\n",
       "      <td>15</td>\n",
       "      <td>4</td>\n",
       "      <td>65</td>\n",
       "      <td>0.0</td>\n",
       "      <td>1028</td>\n",
       "      <td>-12</td>\n",
       "      <td>10</td>\n",
       "      <td>0</td>\n",
       "      <td>0</td>\n",
       "      <td>10</td>\n",
       "      <td>113</td>\n",
       "      <td>[{'value': 'Clear'}]</td>\n",
       "      <td>[{'value': 'http://cdn.worldweatheronline.net/...</td>\n",
       "      <td>NW</td>\n",
       "      <td>324</td>\n",
       "      <td>21</td>\n",
       "      <td>13</td>\n",
       "      <td>Clear</td>\n",
       "    </tr>\n",
       "    <tr>\n",
       "      <th>1</th>\n",
       "      <td>11618</td>\n",
       "      <td>EWR</td>\n",
       "      <td>2018-01-01</td>\n",
       "      <td>-17</td>\n",
       "      <td>1</td>\n",
       "      <td>-20</td>\n",
       "      <td>-5</td>\n",
       "      <td>-12</td>\n",
       "      <td>11</td>\n",
       "      <td>-20</td>\n",
       "      <td>-5</td>\n",
       "      <td>24</td>\n",
       "      <td>15</td>\n",
       "      <td>4</td>\n",
       "      <td>65</td>\n",
       "      <td>0.0</td>\n",
       "      <td>1028</td>\n",
       "      <td>-12</td>\n",
       "      <td>10</td>\n",
       "      <td>100</td>\n",
       "      <td>0</td>\n",
       "      <td>10</td>\n",
       "      <td>113</td>\n",
       "      <td>[{'value': 'Clear'}]</td>\n",
       "      <td>[{'value': 'http://cdn.worldweatheronline.net/...</td>\n",
       "      <td>NW</td>\n",
       "      <td>323</td>\n",
       "      <td>21</td>\n",
       "      <td>13</td>\n",
       "      <td>Clear</td>\n",
       "    </tr>\n",
       "    <tr>\n",
       "      <th>2</th>\n",
       "      <td>11618</td>\n",
       "      <td>EWR</td>\n",
       "      <td>2018-01-01</td>\n",
       "      <td>-17</td>\n",
       "      <td>1</td>\n",
       "      <td>-20</td>\n",
       "      <td>-5</td>\n",
       "      <td>-12</td>\n",
       "      <td>11</td>\n",
       "      <td>-20</td>\n",
       "      <td>-5</td>\n",
       "      <td>25</td>\n",
       "      <td>15</td>\n",
       "      <td>3</td>\n",
       "      <td>65</td>\n",
       "      <td>0.0</td>\n",
       "      <td>1028</td>\n",
       "      <td>-12</td>\n",
       "      <td>10</td>\n",
       "      <td>200</td>\n",
       "      <td>0</td>\n",
       "      <td>10</td>\n",
       "      <td>113</td>\n",
       "      <td>[{'value': 'Clear'}]</td>\n",
       "      <td>[{'value': 'http://cdn.worldweatheronline.net/...</td>\n",
       "      <td>NW</td>\n",
       "      <td>322</td>\n",
       "      <td>21</td>\n",
       "      <td>13</td>\n",
       "      <td>Clear</td>\n",
       "    </tr>\n",
       "    <tr>\n",
       "      <th>3</th>\n",
       "      <td>11618</td>\n",
       "      <td>EWR</td>\n",
       "      <td>2018-01-01</td>\n",
       "      <td>-17</td>\n",
       "      <td>1</td>\n",
       "      <td>-20</td>\n",
       "      <td>-5</td>\n",
       "      <td>-12</td>\n",
       "      <td>11</td>\n",
       "      <td>-20</td>\n",
       "      <td>-5</td>\n",
       "      <td>25</td>\n",
       "      <td>16</td>\n",
       "      <td>3</td>\n",
       "      <td>65</td>\n",
       "      <td>0.0</td>\n",
       "      <td>1028</td>\n",
       "      <td>-12</td>\n",
       "      <td>10</td>\n",
       "      <td>300</td>\n",
       "      <td>0</td>\n",
       "      <td>10</td>\n",
       "      <td>113</td>\n",
       "      <td>[{'value': 'Clear'}]</td>\n",
       "      <td>[{'value': 'http://cdn.worldweatheronline.net/...</td>\n",
       "      <td>NW</td>\n",
       "      <td>322</td>\n",
       "      <td>21</td>\n",
       "      <td>13</td>\n",
       "      <td>Clear</td>\n",
       "    </tr>\n",
       "    <tr>\n",
       "      <th>4</th>\n",
       "      <td>11618</td>\n",
       "      <td>EWR</td>\n",
       "      <td>2018-01-01</td>\n",
       "      <td>-17</td>\n",
       "      <td>1</td>\n",
       "      <td>-20</td>\n",
       "      <td>-5</td>\n",
       "      <td>-12</td>\n",
       "      <td>10</td>\n",
       "      <td>-20</td>\n",
       "      <td>-5</td>\n",
       "      <td>24</td>\n",
       "      <td>15</td>\n",
       "      <td>3</td>\n",
       "      <td>65</td>\n",
       "      <td>0.0</td>\n",
       "      <td>1029</td>\n",
       "      <td>-13</td>\n",
       "      <td>9</td>\n",
       "      <td>400</td>\n",
       "      <td>0</td>\n",
       "      <td>10</td>\n",
       "      <td>113</td>\n",
       "      <td>[{'value': 'Clear'}]</td>\n",
       "      <td>[{'value': 'http://cdn.worldweatheronline.net/...</td>\n",
       "      <td>NW</td>\n",
       "      <td>317</td>\n",
       "      <td>20</td>\n",
       "      <td>13</td>\n",
       "      <td>Clear</td>\n",
       "    </tr>\n",
       "  </tbody>\n",
       "</table>\n",
       "</div>"
      ],
      "text/plain": [
       "   Airport_id Airport_name        Date  DewPointC  DewPointF  FeelsLikeC  \\\n",
       "0       11618          EWR  2018-01-01        -17          1         -20   \n",
       "1       11618          EWR  2018-01-01        -17          1         -20   \n",
       "2       11618          EWR  2018-01-01        -17          1         -20   \n",
       "3       11618          EWR  2018-01-01        -17          1         -20   \n",
       "4       11618          EWR  2018-01-01        -17          1         -20   \n",
       "\n",
       "   FeelsLikeF  HeatIndexC  HeatIndexF  WindChillC  WindChillF  WindGustKmph  \\\n",
       "0          -5         -12          10         -20          -5            24   \n",
       "1          -5         -12          11         -20          -5            24   \n",
       "2          -5         -12          11         -20          -5            25   \n",
       "3          -5         -12          11         -20          -5            25   \n",
       "4          -5         -12          10         -20          -5            24   \n",
       "\n",
       "   WindGustMiles  cloudcover  humidity  precipMM  pressure  tempC  tempF  \\\n",
       "0             15           4        65       0.0      1028    -12     10   \n",
       "1             15           4        65       0.0      1028    -12     10   \n",
       "2             15           3        65       0.0      1028    -12     10   \n",
       "3             16           3        65       0.0      1028    -12     10   \n",
       "4             15           3        65       0.0      1029    -13      9   \n",
       "\n",
       "   time  uvIndex  visibility  weatherCode           weatherDesc  \\\n",
       "0     0        0          10          113  [{'value': 'Clear'}]   \n",
       "1   100        0          10          113  [{'value': 'Clear'}]   \n",
       "2   200        0          10          113  [{'value': 'Clear'}]   \n",
       "3   300        0          10          113  [{'value': 'Clear'}]   \n",
       "4   400        0          10          113  [{'value': 'Clear'}]   \n",
       "\n",
       "                                      weatherIconUrl winddir16Point  \\\n",
       "0  [{'value': 'http://cdn.worldweatheronline.net/...             NW   \n",
       "1  [{'value': 'http://cdn.worldweatheronline.net/...             NW   \n",
       "2  [{'value': 'http://cdn.worldweatheronline.net/...             NW   \n",
       "3  [{'value': 'http://cdn.worldweatheronline.net/...             NW   \n",
       "4  [{'value': 'http://cdn.worldweatheronline.net/...             NW   \n",
       "\n",
       "   winddirDegree  windspeedKmph  windspeedMiles weatherDesc_new  \n",
       "0            324             21              13           Clear  \n",
       "1            323             21              13           Clear  \n",
       "2            322             21              13           Clear  \n",
       "3            322             21              13           Clear  \n",
       "4            317             20              13           Clear  "
      ]
     },
     "execution_count": 4,
     "metadata": {},
     "output_type": "execute_result"
    }
   ],
   "source": [
    "all_weather_data.head()"
   ]
  },
  {
   "cell_type": "code",
   "execution_count": 5,
   "metadata": {
    "hidden": true
   },
   "outputs": [
    {
     "data": {
      "text/plain": [
       "Index(['Airport_id', 'Airport_name', 'Date', 'DewPointC', 'DewPointF',\n",
       "       'FeelsLikeC', 'FeelsLikeF', 'HeatIndexC', 'HeatIndexF', 'WindChillC',\n",
       "       'WindChillF', 'WindGustKmph', 'WindGustMiles', 'cloudcover', 'humidity',\n",
       "       'precipMM', 'pressure', 'tempC', 'tempF', 'time', 'uvIndex',\n",
       "       'visibility', 'weatherCode', 'weatherDesc', 'weatherIconUrl',\n",
       "       'winddir16Point', 'winddirDegree', 'windspeedKmph', 'windspeedMiles',\n",
       "       'weatherDesc_new'],\n",
       "      dtype='object')"
      ]
     },
     "execution_count": 5,
     "metadata": {},
     "output_type": "execute_result"
    }
   ],
   "source": [
    "all_weather_data.columns"
   ]
  },
  {
   "cell_type": "code",
   "execution_count": 6,
   "metadata": {
    "hidden": true
   },
   "outputs": [],
   "source": [
    "all_weather_data['Datetime'] = pd.to_datetime(all_weather_data['Date'])"
   ]
  },
  {
   "cell_type": "code",
   "execution_count": 7,
   "metadata": {
    "hidden": true
   },
   "outputs": [],
   "source": [
    "all_weather_data['Hour'] = all_weather_data['time'].apply(lambda x:int(x/100))"
   ]
  },
  {
   "cell_type": "markdown",
   "metadata": {
    "heading_collapsed": true,
    "hidden": true
   },
   "source": [
    "### Drop unwanted columns from the weather dataset"
   ]
  },
  {
   "cell_type": "code",
   "execution_count": 8,
   "metadata": {
    "hidden": true
   },
   "outputs": [],
   "source": [
    "all_weather_data = all_weather_data.drop(['Airport_id','Date','DewPointF','FeelsLikeF',\n",
    "                                          'HeatIndexF','WindChillF','WindGustMiles','tempF',\n",
    "                                          'time', 'weatherCode', 'weatherDesc', 'weatherIconUrl',\n",
    "                                          'windspeedMiles'],axis=1)"
   ]
  },
  {
   "cell_type": "code",
   "execution_count": 9,
   "metadata": {
    "hidden": true
   },
   "outputs": [
    {
     "data": {
      "text/plain": [
       "Index(['Airport_name', 'DewPointC', 'FeelsLikeC', 'HeatIndexC', 'WindChillC',\n",
       "       'WindGustKmph', 'cloudcover', 'humidity', 'precipMM', 'pressure',\n",
       "       'tempC', 'uvIndex', 'visibility', 'winddir16Point', 'winddirDegree',\n",
       "       'windspeedKmph', 'weatherDesc_new', 'Datetime', 'Hour'],\n",
       "      dtype='object')"
      ]
     },
     "execution_count": 9,
     "metadata": {},
     "output_type": "execute_result"
    }
   ],
   "source": [
    "all_weather_data.columns"
   ]
  },
  {
   "cell_type": "code",
   "execution_count": 18,
   "metadata": {
    "hidden": true
   },
   "outputs": [],
   "source": [
    "all_weather_data.to_csv('all_weather_data.csv')"
   ]
  },
  {
   "cell_type": "code",
   "execution_count": 34,
   "metadata": {
    "hidden": true
   },
   "outputs": [
    {
     "name": "stderr",
     "output_type": "stream",
     "text": [
      "/opt/anaconda/envs/Python3/lib/python3.6/site-packages/numpy/lib/arraysetops.py:569: FutureWarning: elementwise comparison failed; returning scalar instead, but in the future will perform elementwise comparison\n",
      "  mask |= (ar1 == a)\n"
     ]
    }
   ],
   "source": [
    "all_weather_data = pd.read_csv('all_weather_data.csv',index_col = 0)"
   ]
  },
  {
   "cell_type": "code",
   "execution_count": 35,
   "metadata": {
    "hidden": true
   },
   "outputs": [
    {
     "data": {
      "text/plain": [
       "(3136080, 19)"
      ]
     },
     "execution_count": 35,
     "metadata": {},
     "output_type": "execute_result"
    }
   ],
   "source": [
    "all_weather_data.shape"
   ]
  },
  {
   "cell_type": "code",
   "execution_count": 38,
   "metadata": {
    "hidden": true
   },
   "outputs": [
    {
     "data": {
      "text/plain": [
       "358"
      ]
     },
     "execution_count": 38,
     "metadata": {},
     "output_type": "execute_result"
    }
   ],
   "source": [
    "len(all_weather_data['Airport_name'].drop_duplicates())"
   ]
  },
  {
   "cell_type": "code",
   "execution_count": 93,
   "metadata": {
    "hidden": true
   },
   "outputs": [],
   "source": [
    "all_weather_data['Datetime'] = pd.to_datetime(all_weather_data['Datetime'])"
   ]
  },
  {
   "cell_type": "markdown",
   "metadata": {
    "heading_collapsed": true
   },
   "source": [
    "# Collect flight on-time data"
   ]
  },
  {
   "cell_type": "code",
   "execution_count": 28,
   "metadata": {
    "hidden": true
   },
   "outputs": [],
   "source": [
    "d_01 = pd.read_csv('01_2018.csv')\n",
    "d_02 = pd.read_csv('02_2018.csv')\n",
    "d_03 = pd.read_csv('03_2018.csv')\n",
    "d_04 = pd.read_csv('04_2018.csv')\n",
    "d_05 = pd.read_csv('05_2018.csv')\n",
    "d_06 = pd.read_csv('06_2018.csv')\n",
    "d_07 = pd.read_csv('07_2018.csv')\n",
    "d_08 = pd.read_csv('08_2018.csv')\n",
    "d_09 = pd.read_csv('09_2018.csv')\n",
    "d_10 = pd.read_csv('10_2018.csv')\n",
    "d_11 = pd.read_csv('11_2018.csv')\n",
    "d_12 = pd.read_csv('12_2018.csv')"
   ]
  },
  {
   "cell_type": "code",
   "execution_count": 29,
   "metadata": {
    "hidden": true
   },
   "outputs": [],
   "source": [
    "all_data = d_01.append([d_02,d_03,d_04,d_05,d_06,d_07,d_08,d_09,d_10,d_11,d_12])"
   ]
  },
  {
   "cell_type": "code",
   "execution_count": 30,
   "metadata": {
    "hidden": true
   },
   "outputs": [
    {
     "data": {
      "text/plain": [
       "(7213446, 28)"
      ]
     },
     "execution_count": 30,
     "metadata": {},
     "output_type": "execute_result"
    }
   ],
   "source": [
    "all_data.shape"
   ]
  },
  {
   "cell_type": "code",
   "execution_count": 31,
   "metadata": {
    "hidden": true
   },
   "outputs": [],
   "source": [
    "all_data.to_csv('all_data.csv')"
   ]
  },
  {
   "cell_type": "code",
   "execution_count": 2,
   "metadata": {
    "hidden": true
   },
   "outputs": [
    {
     "name": "stderr",
     "output_type": "stream",
     "text": [
      "/opt/anaconda/envs/Python3/lib/python3.6/site-packages/numpy/lib/arraysetops.py:569: FutureWarning: elementwise comparison failed; returning scalar instead, but in the future will perform elementwise comparison\n",
      "  mask |= (ar1 == a)\n"
     ]
    }
   ],
   "source": [
    "all_data = pd.read_csv('all_data.csv',index_col = 0)"
   ]
  },
  {
   "cell_type": "code",
   "execution_count": 5,
   "metadata": {
    "hidden": true
   },
   "outputs": [],
   "source": [
    "major_apt = ['ATL','BOS','BWI','CLT','DCA','DEN','DFW','DTW','EWR','FLL','HNL','IAD',\n",
    "             'IAH','JFK','LAS','LAX','LGA','MCO','MDW','MEM','MIA','MSP','ORD','PHL',\n",
    "             'PHX','PDX','SAN','SEA','SFO','SLC','TPA','LGB','OAK','SNA']"
   ]
  },
  {
   "cell_type": "code",
   "execution_count": 6,
   "metadata": {
    "hidden": true
   },
   "outputs": [],
   "source": [
    "major = all_data[all_data['ORIGIN'].isin(major_apt)]"
   ]
  },
  {
   "cell_type": "code",
   "execution_count": 7,
   "metadata": {
    "hidden": true
   },
   "outputs": [
    {
     "data": {
      "text/plain": [
       "(4787995, 28)"
      ]
     },
     "execution_count": 7,
     "metadata": {},
     "output_type": "execute_result"
    }
   ],
   "source": [
    "major.shape"
   ]
  },
  {
   "cell_type": "code",
   "execution_count": 8,
   "metadata": {
    "hidden": true
   },
   "outputs": [
    {
     "data": {
      "text/plain": [
       "(7213446, 28)"
      ]
     },
     "execution_count": 8,
     "metadata": {},
     "output_type": "execute_result"
    }
   ],
   "source": [
    "all_data.shape"
   ]
  },
  {
   "cell_type": "code",
   "execution_count": 4,
   "metadata": {
    "hidden": true
   },
   "outputs": [
    {
     "data": {
      "text/html": [
       "<div>\n",
       "<style scoped>\n",
       "    .dataframe tbody tr th:only-of-type {\n",
       "        vertical-align: middle;\n",
       "    }\n",
       "\n",
       "    .dataframe tbody tr th {\n",
       "        vertical-align: top;\n",
       "    }\n",
       "\n",
       "    .dataframe thead th {\n",
       "        text-align: right;\n",
       "    }\n",
       "</style>\n",
       "<table border=\"1\" class=\"dataframe\">\n",
       "  <thead>\n",
       "    <tr style=\"text-align: right;\">\n",
       "      <th></th>\n",
       "      <th>FL_DATE</th>\n",
       "      <th>OP_UNIQUE_CARRIER</th>\n",
       "      <th>TAIL_NUM</th>\n",
       "      <th>OP_CARRIER_FL_NUM</th>\n",
       "      <th>ORIGIN_AIRPORT_ID</th>\n",
       "      <th>ORIGIN</th>\n",
       "      <th>ORIGIN_CITY_NAME</th>\n",
       "      <th>DEST_AIRPORT_ID</th>\n",
       "      <th>DEST</th>\n",
       "      <th>DEST_CITY_NAME</th>\n",
       "      <th>...</th>\n",
       "      <th>ARR_TIME</th>\n",
       "      <th>ARR_DELAY</th>\n",
       "      <th>CANCELLED</th>\n",
       "      <th>CANCELLATION_CODE</th>\n",
       "      <th>DIVERTED</th>\n",
       "      <th>CRS_ELAPSED_TIME</th>\n",
       "      <th>ACTUAL_ELAPSED_TIME</th>\n",
       "      <th>AIR_TIME</th>\n",
       "      <th>DISTANCE</th>\n",
       "      <th>Unnamed: 27</th>\n",
       "    </tr>\n",
       "  </thead>\n",
       "  <tbody>\n",
       "    <tr>\n",
       "      <th>0</th>\n",
       "      <td>2018-01-01</td>\n",
       "      <td>UA</td>\n",
       "      <td>N434UA</td>\n",
       "      <td>2429</td>\n",
       "      <td>11618</td>\n",
       "      <td>EWR</td>\n",
       "      <td>Newark, NJ</td>\n",
       "      <td>11292</td>\n",
       "      <td>DEN</td>\n",
       "      <td>Denver, CO</td>\n",
       "      <td>...</td>\n",
       "      <td>1722.0</td>\n",
       "      <td>-23.0</td>\n",
       "      <td>0.0</td>\n",
       "      <td>NaN</td>\n",
       "      <td>0.0</td>\n",
       "      <td>268.0</td>\n",
       "      <td>250.0</td>\n",
       "      <td>225.0</td>\n",
       "      <td>1605.0</td>\n",
       "      <td>NaN</td>\n",
       "    </tr>\n",
       "    <tr>\n",
       "      <th>1</th>\n",
       "      <td>2018-01-01</td>\n",
       "      <td>UA</td>\n",
       "      <td>N76528</td>\n",
       "      <td>2427</td>\n",
       "      <td>12889</td>\n",
       "      <td>LAS</td>\n",
       "      <td>Las Vegas, NV</td>\n",
       "      <td>14771</td>\n",
       "      <td>SFO</td>\n",
       "      <td>San Francisco, CA</td>\n",
       "      <td>...</td>\n",
       "      <td>1230.0</td>\n",
       "      <td>-24.0</td>\n",
       "      <td>0.0</td>\n",
       "      <td>NaN</td>\n",
       "      <td>0.0</td>\n",
       "      <td>99.0</td>\n",
       "      <td>83.0</td>\n",
       "      <td>65.0</td>\n",
       "      <td>414.0</td>\n",
       "      <td>NaN</td>\n",
       "    </tr>\n",
       "    <tr>\n",
       "      <th>2</th>\n",
       "      <td>2018-01-01</td>\n",
       "      <td>UA</td>\n",
       "      <td>N27205</td>\n",
       "      <td>2426</td>\n",
       "      <td>14908</td>\n",
       "      <td>SNA</td>\n",
       "      <td>Santa Ana, CA</td>\n",
       "      <td>11292</td>\n",
       "      <td>DEN</td>\n",
       "      <td>Denver, CO</td>\n",
       "      <td>...</td>\n",
       "      <td>1636.0</td>\n",
       "      <td>-13.0</td>\n",
       "      <td>0.0</td>\n",
       "      <td>NaN</td>\n",
       "      <td>0.0</td>\n",
       "      <td>134.0</td>\n",
       "      <td>126.0</td>\n",
       "      <td>106.0</td>\n",
       "      <td>846.0</td>\n",
       "      <td>NaN</td>\n",
       "    </tr>\n",
       "    <tr>\n",
       "      <th>3</th>\n",
       "      <td>2018-01-01</td>\n",
       "      <td>UA</td>\n",
       "      <td>N14214</td>\n",
       "      <td>2425</td>\n",
       "      <td>14635</td>\n",
       "      <td>RSW</td>\n",
       "      <td>Fort Myers, FL</td>\n",
       "      <td>13930</td>\n",
       "      <td>ORD</td>\n",
       "      <td>Chicago, IL</td>\n",
       "      <td>...</td>\n",
       "      <td>1754.0</td>\n",
       "      <td>-2.0</td>\n",
       "      <td>0.0</td>\n",
       "      <td>NaN</td>\n",
       "      <td>0.0</td>\n",
       "      <td>190.0</td>\n",
       "      <td>182.0</td>\n",
       "      <td>157.0</td>\n",
       "      <td>1120.0</td>\n",
       "      <td>NaN</td>\n",
       "    </tr>\n",
       "    <tr>\n",
       "      <th>4</th>\n",
       "      <td>2018-01-01</td>\n",
       "      <td>UA</td>\n",
       "      <td>N404UA</td>\n",
       "      <td>2424</td>\n",
       "      <td>13930</td>\n",
       "      <td>ORD</td>\n",
       "      <td>Chicago, IL</td>\n",
       "      <td>10257</td>\n",
       "      <td>ALB</td>\n",
       "      <td>Albany, NY</td>\n",
       "      <td>...</td>\n",
       "      <td>936.0</td>\n",
       "      <td>14.0</td>\n",
       "      <td>0.0</td>\n",
       "      <td>NaN</td>\n",
       "      <td>0.0</td>\n",
       "      <td>112.0</td>\n",
       "      <td>106.0</td>\n",
       "      <td>83.0</td>\n",
       "      <td>723.0</td>\n",
       "      <td>NaN</td>\n",
       "    </tr>\n",
       "  </tbody>\n",
       "</table>\n",
       "<p>5 rows × 28 columns</p>\n",
       "</div>"
      ],
      "text/plain": [
       "      FL_DATE OP_UNIQUE_CARRIER TAIL_NUM  OP_CARRIER_FL_NUM  \\\n",
       "0  2018-01-01                UA   N434UA               2429   \n",
       "1  2018-01-01                UA   N76528               2427   \n",
       "2  2018-01-01                UA   N27205               2426   \n",
       "3  2018-01-01                UA   N14214               2425   \n",
       "4  2018-01-01                UA   N404UA               2424   \n",
       "\n",
       "   ORIGIN_AIRPORT_ID ORIGIN ORIGIN_CITY_NAME  DEST_AIRPORT_ID DEST  \\\n",
       "0              11618    EWR       Newark, NJ            11292  DEN   \n",
       "1              12889    LAS    Las Vegas, NV            14771  SFO   \n",
       "2              14908    SNA    Santa Ana, CA            11292  DEN   \n",
       "3              14635    RSW   Fort Myers, FL            13930  ORD   \n",
       "4              13930    ORD      Chicago, IL            10257  ALB   \n",
       "\n",
       "      DEST_CITY_NAME  ...  ARR_TIME  ARR_DELAY  CANCELLED  CANCELLATION_CODE  \\\n",
       "0         Denver, CO  ...    1722.0      -23.0        0.0                NaN   \n",
       "1  San Francisco, CA  ...    1230.0      -24.0        0.0                NaN   \n",
       "2         Denver, CO  ...    1636.0      -13.0        0.0                NaN   \n",
       "3        Chicago, IL  ...    1754.0       -2.0        0.0                NaN   \n",
       "4         Albany, NY  ...     936.0       14.0        0.0                NaN   \n",
       "\n",
       "   DIVERTED  CRS_ELAPSED_TIME  ACTUAL_ELAPSED_TIME  AIR_TIME  DISTANCE  \\\n",
       "0       0.0             268.0                250.0     225.0    1605.0   \n",
       "1       0.0              99.0                 83.0      65.0     414.0   \n",
       "2       0.0             134.0                126.0     106.0     846.0   \n",
       "3       0.0             190.0                182.0     157.0    1120.0   \n",
       "4       0.0             112.0                106.0      83.0     723.0   \n",
       "\n",
       "   Unnamed: 27  \n",
       "0          NaN  \n",
       "1          NaN  \n",
       "2          NaN  \n",
       "3          NaN  \n",
       "4          NaN  \n",
       "\n",
       "[5 rows x 28 columns]"
      ]
     },
     "execution_count": 4,
     "metadata": {},
     "output_type": "execute_result"
    }
   ],
   "source": [
    "all_data.head()"
   ]
  },
  {
   "cell_type": "code",
   "execution_count": 11,
   "metadata": {
    "hidden": true
   },
   "outputs": [
    {
     "data": {
      "text/plain": [
       "Index(['FL_DATE', 'OP_UNIQUE_CARRIER', 'TAIL_NUM', 'OP_CARRIER_FL_NUM',\n",
       "       'ORIGIN_AIRPORT_ID', 'ORIGIN', 'ORIGIN_CITY_NAME', 'DEST_AIRPORT_ID',\n",
       "       'DEST', 'DEST_CITY_NAME', 'CRS_DEP_TIME', 'DEP_TIME', 'DEP_DELAY',\n",
       "       'TAXI_OUT', 'WHEELS_OFF', 'WHEELS_ON', 'TAXI_IN', 'CRS_ARR_TIME',\n",
       "       'ARR_TIME', 'ARR_DELAY', 'CANCELLED', 'CANCELLATION_CODE', 'DIVERTED',\n",
       "       'CRS_ELAPSED_TIME', 'ACTUAL_ELAPSED_TIME', 'AIR_TIME', 'DISTANCE',\n",
       "       'Unnamed: 27'],\n",
       "      dtype='object')"
      ]
     },
     "execution_count": 11,
     "metadata": {},
     "output_type": "execute_result"
    }
   ],
   "source": [
    "all_data.columns"
   ]
  },
  {
   "cell_type": "code",
   "execution_count": 6,
   "metadata": {
    "hidden": true
   },
   "outputs": [],
   "source": [
    "unique_airport = all_data[['ORIGIN_AIRPORT_ID', 'ORIGIN']].drop_duplicates()"
   ]
  },
  {
   "cell_type": "code",
   "execution_count": 12,
   "metadata": {
    "hidden": true
   },
   "outputs": [],
   "source": [
    "all_data['FL_DATE'] = pd.to_datetime(all_data['FL_DATE'])"
   ]
  },
  {
   "cell_type": "code",
   "execution_count": 14,
   "metadata": {
    "hidden": true
   },
   "outputs": [],
   "source": [
    "all_data['Month'] = all_data['FL_DATE'].dt.month"
   ]
  },
  {
   "cell_type": "code",
   "execution_count": 33,
   "metadata": {
    "hidden": true
   },
   "outputs": [
    {
     "data": {
      "image/png": "[encoded data removed]",
      "text/plain": [
       "<Figure size 864x576 with 1 Axes>"
      ]
     },
     "metadata": {
      "needs_background": "light"
     },
     "output_type": "display_data"
    }
   ],
   "source": [
    "plt.figure(figsize=(12,8))\n",
    "plt.bar(all_data['Month'].value_counts().index,all_data['Month'].value_counts().values)\n",
    "plt.xticks(np.arange(1,13),size=14)\n",
    "plt.yticks(size=14)\n",
    "plt.xlabel('Month',size=14)\n",
    "plt.ylabel('Number of Flights',size=14)\n",
    "plt.title('Number of U.S. domestic flights in different months',size=16)\n",
    "plt.show()"
   ]
  },
  {
   "cell_type": "code",
   "execution_count": 39,
   "metadata": {
    "hidden": true
   },
   "outputs": [],
   "source": [
    "def binarise(data):\n",
    "    if data <= 15:\n",
    "        return 0\n",
    "    else:\n",
    "        return 1\n",
    "    \n",
    "all_data['DEP_DELAY_BI'] = all_data['DEP_DELAY'].apply(binarise)"
   ]
  },
  {
   "cell_type": "code",
   "execution_count": 40,
   "metadata": {
    "hidden": true
   },
   "outputs": [
    {
     "data": {
      "text/plain": [
       "0    5833390\n",
       "1    1380056\n",
       "Name: DEP_DELAY_BI, dtype: int64"
      ]
     },
     "execution_count": 40,
     "metadata": {},
     "output_type": "execute_result"
    }
   ],
   "source": [
    "all_data['DEP_DELAY_BI'].value_counts()"
   ]
  },
  {
   "cell_type": "markdown",
   "metadata": {
    "heading_collapsed": true
   },
   "source": [
    "# Collect Aircraft Info"
   ]
  },
  {
   "cell_type": "code",
   "execution_count": 37,
   "metadata": {
    "hidden": true
   },
   "outputs": [
    {
     "name": "stderr",
     "output_type": "stream",
     "text": [
      "/opt/anaconda/envs/Python3/lib/python3.6/site-packages/IPython/core/interactiveshell.py:3049: DtypeWarning: Columns (18) have mixed types. Specify dtype option on import or set low_memory=False.\n",
      "  interactivity=interactivity, compiler=compiler, result=result)\n"
     ]
    }
   ],
   "source": [
    "master = pd.read_csv('MASTER.txt')"
   ]
  },
  {
   "cell_type": "code",
   "execution_count": 38,
   "metadata": {
    "hidden": true
   },
   "outputs": [
    {
     "name": "stderr",
     "output_type": "stream",
     "text": [
      "/opt/anaconda/envs/Python3/lib/python3.6/site-packages/IPython/core/interactiveshell.py:3049: DtypeWarning: Columns (3) have mixed types. Specify dtype option on import or set low_memory=False.\n",
      "  interactivity=interactivity, compiler=compiler, result=result)\n"
     ]
    }
   ],
   "source": [
    "aircraft = pd.read_csv('ACFTREF.txt')"
   ]
  },
  {
   "cell_type": "code",
   "execution_count": 39,
   "metadata": {
    "hidden": true
   },
   "outputs": [],
   "source": [
    "engine = pd.read_csv('ENGINE.txt')"
   ]
  },
  {
   "cell_type": "code",
   "execution_count": 40,
   "metadata": {
    "hidden": true
   },
   "outputs": [
    {
     "ename": "NameError",
     "evalue": "name 'all_data' is not defined",
     "output_type": "error",
     "traceback": [
      "\u001b[0;31m---------------------------------------------------------------------------\u001b[0m",
      "\u001b[0;31mNameError\u001b[0m                                 Traceback (most recent call last)",
      "\u001b[0;32m<ipython-input-40-9738a002af63>\u001b[0m in \u001b[0;36m<module>\u001b[0;34m\u001b[0m\n\u001b[1;32m      1\u001b[0m \u001b[0;31m# there is one na value in the tail num\u001b[0m\u001b[0;34m\u001b[0m\u001b[0;34m\u001b[0m\u001b[0;34m\u001b[0m\u001b[0m\n\u001b[0;32m----> 2\u001b[0;31m \u001b[0munique_n\u001b[0m \u001b[0;34m=\u001b[0m \u001b[0mall_data\u001b[0m\u001b[0;34m[\u001b[0m\u001b[0;34m[\u001b[0m\u001b[0;34m'TAIL_NUM'\u001b[0m\u001b[0;34m]\u001b[0m\u001b[0;34m]\u001b[0m\u001b[0;34m.\u001b[0m\u001b[0mdrop_duplicates\u001b[0m\u001b[0;34m(\u001b[0m\u001b[0;34m)\u001b[0m\u001b[0;34m.\u001b[0m\u001b[0mdropna\u001b[0m\u001b[0;34m(\u001b[0m\u001b[0;34m)\u001b[0m\u001b[0;34m\u001b[0m\u001b[0;34m\u001b[0m\u001b[0m\n\u001b[0m\u001b[1;32m      3\u001b[0m \u001b[0;31m# get the n number except the N\u001b[0m\u001b[0;34m\u001b[0m\u001b[0;34m\u001b[0m\u001b[0;34m\u001b[0m\u001b[0m\n\u001b[1;32m      4\u001b[0m \u001b[0munique_n\u001b[0m\u001b[0;34m[\u001b[0m\u001b[0;34m'N_short'\u001b[0m\u001b[0;34m]\u001b[0m \u001b[0;34m=\u001b[0m \u001b[0munique_n\u001b[0m\u001b[0;34m[\u001b[0m\u001b[0;34m'TAIL_NUM'\u001b[0m\u001b[0;34m]\u001b[0m\u001b[0;34m.\u001b[0m\u001b[0mapply\u001b[0m\u001b[0;34m(\u001b[0m\u001b[0;32mlambda\u001b[0m \u001b[0mx\u001b[0m \u001b[0;34m:\u001b[0m \u001b[0mx\u001b[0m\u001b[0;34m[\u001b[0m\u001b[0;36m1\u001b[0m\u001b[0;34m:\u001b[0m\u001b[0;34m]\u001b[0m\u001b[0;34m)\u001b[0m\u001b[0;34m\u001b[0m\u001b[0;34m\u001b[0m\u001b[0m\n",
      "\u001b[0;31mNameError\u001b[0m: name 'all_data' is not defined"
     ]
    }
   ],
   "source": [
    "# there is one na value in the tail num\n",
    "unique_n = all_data[['TAIL_NUM']].drop_duplicates().dropna()\n",
    "# get the n number except the N\n",
    "unique_n['N_short'] = unique_n['TAIL_NUM'].apply(lambda x : x[1:])"
   ]
  },
  {
   "cell_type": "code",
   "execution_count": 16,
   "metadata": {
    "hidden": true
   },
   "outputs": [],
   "source": [
    "# merge with the master file\n",
    "n_master = pd.merge(unique_n,master[['N-NUMBER','MFR MDL CODE','ENG MFR MDL','YEAR MFR']],\n",
    "                    left_on='N_short',right_on='N-NUMBER',how='inner')"
   ]
  },
  {
   "cell_type": "code",
   "execution_count": 17,
   "metadata": {
    "hidden": true
   },
   "outputs": [],
   "source": [
    "n_aircraft = pd.merge(n_master,aircraft[['CODE','MFR','MODEL','NO-ENG']],\n",
    "                      left_on='MFR MDL CODE',right_on='CODE',how='inner')\n",
    "engine['CODE_str'] = engine['CODE'].apply(str)"
   ]
  },
  {
   "cell_type": "code",
   "execution_count": 18,
   "metadata": {
    "hidden": true
   },
   "outputs": [],
   "source": [
    "acft_info = pd.merge(n_aircraft,engine[['CODE_str','MFR','MODEL']],\n",
    "                     left_on='ENG MFR MDL',right_on='CODE_str',how='inner')"
   ]
  },
  {
   "cell_type": "code",
   "execution_count": 6,
   "metadata": {
    "hidden": true
   },
   "outputs": [],
   "source": [
    "acft_info = acft_info[['TAIL_NUM','YEAR MFR','MFR_x','MODEL_x']]"
   ]
  },
  {
   "cell_type": "code",
   "execution_count": 4,
   "metadata": {
    "hidden": true
   },
   "outputs": [
    {
     "data": {
      "text/html": [
       "<div>\n",
       "<style scoped>\n",
       "    .dataframe tbody tr th:only-of-type {\n",
       "        vertical-align: middle;\n",
       "    }\n",
       "\n",
       "    .dataframe tbody tr th {\n",
       "        vertical-align: top;\n",
       "    }\n",
       "\n",
       "    .dataframe thead th {\n",
       "        text-align: right;\n",
       "    }\n",
       "</style>\n",
       "<table border=\"1\" class=\"dataframe\">\n",
       "  <thead>\n",
       "    <tr style=\"text-align: right;\">\n",
       "      <th></th>\n",
       "      <th>TAIL_NUM</th>\n",
       "      <th>YEAR MFR</th>\n",
       "      <th>MFR_x</th>\n",
       "      <th>MODEL_x</th>\n",
       "    </tr>\n",
       "  </thead>\n",
       "  <tbody>\n",
       "    <tr>\n",
       "      <th>0</th>\n",
       "      <td>N434UA</td>\n",
       "      <td>1996</td>\n",
       "      <td>AIRBUS INDUSTRIE</td>\n",
       "      <td>A320-232</td>\n",
       "    </tr>\n",
       "    <tr>\n",
       "      <th>1</th>\n",
       "      <td>N404UA</td>\n",
       "      <td>1993</td>\n",
       "      <td>AIRBUS INDUSTRIE</td>\n",
       "      <td>A320-232</td>\n",
       "    </tr>\n",
       "    <tr>\n",
       "      <th>2</th>\n",
       "      <td>N487UA</td>\n",
       "      <td>2002</td>\n",
       "      <td>AIRBUS INDUSTRIE</td>\n",
       "      <td>A320-232</td>\n",
       "    </tr>\n",
       "    <tr>\n",
       "      <th>3</th>\n",
       "      <td>N416UA</td>\n",
       "      <td>1994</td>\n",
       "      <td>AIRBUS INDUSTRIE</td>\n",
       "      <td>A320-232</td>\n",
       "    </tr>\n",
       "    <tr>\n",
       "      <th>4</th>\n",
       "      <td>N405UA</td>\n",
       "      <td>1993</td>\n",
       "      <td>AIRBUS INDUSTRIE</td>\n",
       "      <td>A320-232</td>\n",
       "    </tr>\n",
       "  </tbody>\n",
       "</table>\n",
       "</div>"
      ],
      "text/plain": [
       "  TAIL_NUM YEAR MFR                           MFR_x               MODEL_x\n",
       "0   N434UA     1996  AIRBUS INDUSTRIE                A320-232            \n",
       "1   N404UA     1993  AIRBUS INDUSTRIE                A320-232            \n",
       "2   N487UA     2002  AIRBUS INDUSTRIE                A320-232            \n",
       "3   N416UA     1994  AIRBUS INDUSTRIE                A320-232            \n",
       "4   N405UA     1993  AIRBUS INDUSTRIE                A320-232            "
      ]
     },
     "execution_count": 4,
     "metadata": {},
     "output_type": "execute_result"
    }
   ],
   "source": [
    "acft_info.head()"
   ]
  },
  {
   "cell_type": "code",
   "execution_count": 8,
   "metadata": {
    "hidden": true
   },
   "outputs": [],
   "source": [
    "acft_info.to_csv('acft_info.csv')"
   ]
  },
  {
   "cell_type": "code",
   "execution_count": 3,
   "metadata": {
    "hidden": true
   },
   "outputs": [],
   "source": [
    "acft_info = pd.read_csv('acft_info.csv',index_col = 0)"
   ]
  },
  {
   "cell_type": "markdown",
   "metadata": {
    "heading_collapsed": true,
    "hidden": true
   },
   "source": [
    "## Aircraft info from BTS database"
   ]
  },
  {
   "cell_type": "code",
   "execution_count": 5,
   "metadata": {
    "hidden": true
   },
   "outputs": [],
   "source": [
    "acft_info2 = pd.read_csv('ACF_info2.csv',encoding = \"ISO-8859-1\")"
   ]
  },
  {
   "cell_type": "code",
   "execution_count": 6,
   "metadata": {
    "hidden": true
   },
   "outputs": [],
   "source": [
    "acft_info2 = acft_info2[['MANUFACTURE_YEAR','TAIL_NUMBER',\n",
    "                         'MANUFACTURER','MODEL']]"
   ]
  },
  {
   "cell_type": "code",
   "execution_count": 7,
   "metadata": {
    "hidden": true
   },
   "outputs": [
    {
     "data": {
      "text/html": [
       "<div>\n",
       "<style scoped>\n",
       "    .dataframe tbody tr th:only-of-type {\n",
       "        vertical-align: middle;\n",
       "    }\n",
       "\n",
       "    .dataframe tbody tr th {\n",
       "        vertical-align: top;\n",
       "    }\n",
       "\n",
       "    .dataframe thead th {\n",
       "        text-align: right;\n",
       "    }\n",
       "</style>\n",
       "<table border=\"1\" class=\"dataframe\">\n",
       "  <thead>\n",
       "    <tr style=\"text-align: right;\">\n",
       "      <th></th>\n",
       "      <th>MANUFACTURE_YEAR</th>\n",
       "      <th>TAIL_NUMBER</th>\n",
       "      <th>MANUFACTURER</th>\n",
       "      <th>MODEL</th>\n",
       "    </tr>\n",
       "  </thead>\n",
       "  <tbody>\n",
       "    <tr>\n",
       "      <th>0</th>\n",
       "      <td>1990</td>\n",
       "      <td>N801TJ</td>\n",
       "      <td>Boeing</td>\n",
       "      <td>737-4B7</td>\n",
       "    </tr>\n",
       "    <tr>\n",
       "      <th>1</th>\n",
       "      <td>1990</td>\n",
       "      <td>N802TJ</td>\n",
       "      <td>Boeing</td>\n",
       "      <td>737-4B7</td>\n",
       "    </tr>\n",
       "    <tr>\n",
       "      <th>2</th>\n",
       "      <td>1993</td>\n",
       "      <td>N803TJ</td>\n",
       "      <td>Boeing</td>\n",
       "      <td>737-45D</td>\n",
       "    </tr>\n",
       "    <tr>\n",
       "      <th>3</th>\n",
       "      <td>1989</td>\n",
       "      <td>N804TJ</td>\n",
       "      <td>Boeing</td>\n",
       "      <td>737-401</td>\n",
       "    </tr>\n",
       "    <tr>\n",
       "      <th>4</th>\n",
       "      <td>1989</td>\n",
       "      <td>N418US</td>\n",
       "      <td>Boeing</td>\n",
       "      <td>737-401</td>\n",
       "    </tr>\n",
       "  </tbody>\n",
       "</table>\n",
       "</div>"
      ],
      "text/plain": [
       "   MANUFACTURE_YEAR TAIL_NUMBER MANUFACTURER    MODEL\n",
       "0              1990      N801TJ       Boeing  737-4B7\n",
       "1              1990      N802TJ       Boeing  737-4B7\n",
       "2              1993      N803TJ       Boeing  737-45D\n",
       "3              1989      N804TJ       Boeing  737-401\n",
       "4              1989      N418US       Boeing  737-401"
      ]
     },
     "execution_count": 7,
     "metadata": {},
     "output_type": "execute_result"
    }
   ],
   "source": [
    "acft_info2.head()"
   ]
  },
  {
   "cell_type": "markdown",
   "metadata": {
    "hidden": true
   },
   "source": [
    "#### Drop duplicates values for tail_number"
   ]
  },
  {
   "cell_type": "code",
   "execution_count": 8,
   "metadata": {
    "hidden": true
   },
   "outputs": [],
   "source": [
    "acft_info2 = acft_info2.drop([490])"
   ]
  },
  {
   "cell_type": "code",
   "execution_count": 9,
   "metadata": {
    "hidden": true
   },
   "outputs": [],
   "source": [
    "acft_info2 = acft_info2.drop([622])"
   ]
  },
  {
   "cell_type": "code",
   "execution_count": 10,
   "metadata": {
    "hidden": true
   },
   "outputs": [],
   "source": [
    "acft_info2 = acft_info2.drop([626])"
   ]
  },
  {
   "cell_type": "code",
   "execution_count": 11,
   "metadata": {
    "hidden": true
   },
   "outputs": [],
   "source": [
    "acft_info2 = acft_info2.drop(range(5358,5367))"
   ]
  },
  {
   "cell_type": "markdown",
   "metadata": {},
   "source": [
    "# Preprocessing"
   ]
  },
  {
   "cell_type": "markdown",
   "metadata": {
    "heading_collapsed": true
   },
   "source": [
    "## Extract major airports flights"
   ]
  },
  {
   "cell_type": "code",
   "execution_count": 15,
   "metadata": {
    "hidden": true
   },
   "outputs": [],
   "source": [
    "major_apt = ['ATL','BOS','BWI','CLT','DCA','DEN','DFW','DTW','EWR','FLL','HNL','IAD',\n",
    "             'IAH','JFK','LAS','LAX','LGA','MCO','MDW','MEM','MIA','MSP','ORD','PHL',\n",
    "             'PHX','PDX','SAN','SEA','SFO','SLC','TPA','LGB','OAK','SNA']"
   ]
  },
  {
   "cell_type": "code",
   "execution_count": 9,
   "metadata": {
    "hidden": true
   },
   "outputs": [],
   "source": [
    "major_flights = all_data[(all_data['ORIGIN'].isin(major_apt)) | \n",
    "                         (all_data['DEST'].isin(major_apt))]"
   ]
  },
  {
   "cell_type": "code",
   "execution_count": 17,
   "metadata": {
    "hidden": true
   },
   "outputs": [
    {
     "name": "stdout",
     "output_type": "stream",
     "text": [
      "The major airports account for 94.88% of flights\n"
     ]
    }
   ],
   "source": [
    "print('The major airports account for ' + \n",
    "      str(round(major_flights.shape[0]/all_data.shape[0]*100,2)) + \n",
    "     '% of flights')"
   ]
  },
  {
   "cell_type": "code",
   "execution_count": 18,
   "metadata": {
    "hidden": true
   },
   "outputs": [],
   "source": [
    "major_flights.to_csv('major_flights.csv') "
   ]
  },
  {
   "cell_type": "code",
   "execution_count": 41,
   "metadata": {
    "hidden": true
   },
   "outputs": [
    {
     "name": "stderr",
     "output_type": "stream",
     "text": [
      "/opt/anaconda/envs/Python3/lib/python3.6/site-packages/numpy/lib/arraysetops.py:569: FutureWarning: elementwise comparison failed; returning scalar instead, but in the future will perform elementwise comparison\n",
      "  mask |= (ar1 == a)\n"
     ]
    }
   ],
   "source": [
    "mj_flt = pd.read_csv('major_flights.csv',index_col = 0)\n",
    "mj_flt.reset_index(drop=True,inplace=True)"
   ]
  },
  {
   "cell_type": "markdown",
   "metadata": {
    "heading_collapsed": true
   },
   "source": [
    "## Extracting datetime related values"
   ]
  },
  {
   "cell_type": "code",
   "execution_count": 5,
   "metadata": {
    "hidden": true
   },
   "outputs": [
    {
     "data": {
      "text/html": [
       "<div>\n",
       "<style scoped>\n",
       "    .dataframe tbody tr th:only-of-type {\n",
       "        vertical-align: middle;\n",
       "    }\n",
       "\n",
       "    .dataframe tbody tr th {\n",
       "        vertical-align: top;\n",
       "    }\n",
       "\n",
       "    .dataframe thead th {\n",
       "        text-align: right;\n",
       "    }\n",
       "</style>\n",
       "<table border=\"1\" class=\"dataframe\">\n",
       "  <thead>\n",
       "    <tr style=\"text-align: right;\">\n",
       "      <th></th>\n",
       "      <th>FL_DATE</th>\n",
       "      <th>OP_UNIQUE_CARRIER</th>\n",
       "      <th>TAIL_NUM</th>\n",
       "      <th>OP_CARRIER_FL_NUM</th>\n",
       "      <th>ORIGIN_AIRPORT_ID</th>\n",
       "      <th>ORIGIN</th>\n",
       "      <th>ORIGIN_CITY_NAME</th>\n",
       "      <th>DEST_AIRPORT_ID</th>\n",
       "      <th>DEST</th>\n",
       "      <th>DEST_CITY_NAME</th>\n",
       "      <th>CRS_DEP_TIME</th>\n",
       "      <th>DEP_TIME</th>\n",
       "      <th>DEP_DELAY</th>\n",
       "      <th>TAXI_OUT</th>\n",
       "      <th>WHEELS_OFF</th>\n",
       "      <th>WHEELS_ON</th>\n",
       "      <th>TAXI_IN</th>\n",
       "      <th>CRS_ARR_TIME</th>\n",
       "      <th>ARR_TIME</th>\n",
       "      <th>ARR_DELAY</th>\n",
       "      <th>CANCELLED</th>\n",
       "      <th>CANCELLATION_CODE</th>\n",
       "      <th>DIVERTED</th>\n",
       "      <th>CRS_ELAPSED_TIME</th>\n",
       "      <th>ACTUAL_ELAPSED_TIME</th>\n",
       "      <th>AIR_TIME</th>\n",
       "      <th>DISTANCE</th>\n",
       "      <th>Unnamed: 27</th>\n",
       "    </tr>\n",
       "  </thead>\n",
       "  <tbody>\n",
       "    <tr>\n",
       "      <th>0</th>\n",
       "      <td>2018-01-01</td>\n",
       "      <td>UA</td>\n",
       "      <td>N434UA</td>\n",
       "      <td>2429</td>\n",
       "      <td>11618</td>\n",
       "      <td>EWR</td>\n",
       "      <td>Newark, NJ</td>\n",
       "      <td>11292</td>\n",
       "      <td>DEN</td>\n",
       "      <td>Denver, CO</td>\n",
       "      <td>1517</td>\n",
       "      <td>1512.0</td>\n",
       "      <td>-5.0</td>\n",
       "      <td>15.0</td>\n",
       "      <td>1527.0</td>\n",
       "      <td>1712.0</td>\n",
       "      <td>10.0</td>\n",
       "      <td>1745</td>\n",
       "      <td>1722.0</td>\n",
       "      <td>-23.0</td>\n",
       "      <td>0.0</td>\n",
       "      <td>NaN</td>\n",
       "      <td>0.0</td>\n",
       "      <td>268.0</td>\n",
       "      <td>250.0</td>\n",
       "      <td>225.0</td>\n",
       "      <td>1605.0</td>\n",
       "      <td>NaN</td>\n",
       "    </tr>\n",
       "    <tr>\n",
       "      <th>1</th>\n",
       "      <td>2018-01-01</td>\n",
       "      <td>UA</td>\n",
       "      <td>N76528</td>\n",
       "      <td>2427</td>\n",
       "      <td>12889</td>\n",
       "      <td>LAS</td>\n",
       "      <td>Las Vegas, NV</td>\n",
       "      <td>14771</td>\n",
       "      <td>SFO</td>\n",
       "      <td>San Francisco, CA</td>\n",
       "      <td>1115</td>\n",
       "      <td>1107.0</td>\n",
       "      <td>-8.0</td>\n",
       "      <td>11.0</td>\n",
       "      <td>1118.0</td>\n",
       "      <td>1223.0</td>\n",
       "      <td>7.0</td>\n",
       "      <td>1254</td>\n",
       "      <td>1230.0</td>\n",
       "      <td>-24.0</td>\n",
       "      <td>0.0</td>\n",
       "      <td>NaN</td>\n",
       "      <td>0.0</td>\n",
       "      <td>99.0</td>\n",
       "      <td>83.0</td>\n",
       "      <td>65.0</td>\n",
       "      <td>414.0</td>\n",
       "      <td>NaN</td>\n",
       "    </tr>\n",
       "    <tr>\n",
       "      <th>2</th>\n",
       "      <td>2018-01-01</td>\n",
       "      <td>UA</td>\n",
       "      <td>N27205</td>\n",
       "      <td>2426</td>\n",
       "      <td>14908</td>\n",
       "      <td>SNA</td>\n",
       "      <td>Santa Ana, CA</td>\n",
       "      <td>11292</td>\n",
       "      <td>DEN</td>\n",
       "      <td>Denver, CO</td>\n",
       "      <td>1335</td>\n",
       "      <td>1330.0</td>\n",
       "      <td>-5.0</td>\n",
       "      <td>15.0</td>\n",
       "      <td>1345.0</td>\n",
       "      <td>1631.0</td>\n",
       "      <td>5.0</td>\n",
       "      <td>1649</td>\n",
       "      <td>1636.0</td>\n",
       "      <td>-13.0</td>\n",
       "      <td>0.0</td>\n",
       "      <td>NaN</td>\n",
       "      <td>0.0</td>\n",
       "      <td>134.0</td>\n",
       "      <td>126.0</td>\n",
       "      <td>106.0</td>\n",
       "      <td>846.0</td>\n",
       "      <td>NaN</td>\n",
       "    </tr>\n",
       "    <tr>\n",
       "      <th>3</th>\n",
       "      <td>2018-01-01</td>\n",
       "      <td>UA</td>\n",
       "      <td>N14214</td>\n",
       "      <td>2425</td>\n",
       "      <td>14635</td>\n",
       "      <td>RSW</td>\n",
       "      <td>Fort Myers, FL</td>\n",
       "      <td>13930</td>\n",
       "      <td>ORD</td>\n",
       "      <td>Chicago, IL</td>\n",
       "      <td>1546</td>\n",
       "      <td>1552.0</td>\n",
       "      <td>6.0</td>\n",
       "      <td>19.0</td>\n",
       "      <td>1611.0</td>\n",
       "      <td>1748.0</td>\n",
       "      <td>6.0</td>\n",
       "      <td>1756</td>\n",
       "      <td>1754.0</td>\n",
       "      <td>-2.0</td>\n",
       "      <td>0.0</td>\n",
       "      <td>NaN</td>\n",
       "      <td>0.0</td>\n",
       "      <td>190.0</td>\n",
       "      <td>182.0</td>\n",
       "      <td>157.0</td>\n",
       "      <td>1120.0</td>\n",
       "      <td>NaN</td>\n",
       "    </tr>\n",
       "    <tr>\n",
       "      <th>4</th>\n",
       "      <td>2018-01-01</td>\n",
       "      <td>UA</td>\n",
       "      <td>N404UA</td>\n",
       "      <td>2424</td>\n",
       "      <td>13930</td>\n",
       "      <td>ORD</td>\n",
       "      <td>Chicago, IL</td>\n",
       "      <td>10257</td>\n",
       "      <td>ALB</td>\n",
       "      <td>Albany, NY</td>\n",
       "      <td>630</td>\n",
       "      <td>650.0</td>\n",
       "      <td>20.0</td>\n",
       "      <td>13.0</td>\n",
       "      <td>703.0</td>\n",
       "      <td>926.0</td>\n",
       "      <td>10.0</td>\n",
       "      <td>922</td>\n",
       "      <td>936.0</td>\n",
       "      <td>14.0</td>\n",
       "      <td>0.0</td>\n",
       "      <td>NaN</td>\n",
       "      <td>0.0</td>\n",
       "      <td>112.0</td>\n",
       "      <td>106.0</td>\n",
       "      <td>83.0</td>\n",
       "      <td>723.0</td>\n",
       "      <td>NaN</td>\n",
       "    </tr>\n",
       "  </tbody>\n",
       "</table>\n",
       "</div>"
      ],
      "text/plain": [
       "      FL_DATE OP_UNIQUE_CARRIER TAIL_NUM  OP_CARRIER_FL_NUM  \\\n",
       "0  2018-01-01                UA   N434UA               2429   \n",
       "1  2018-01-01                UA   N76528               2427   \n",
       "2  2018-01-01                UA   N27205               2426   \n",
       "3  2018-01-01                UA   N14214               2425   \n",
       "4  2018-01-01                UA   N404UA               2424   \n",
       "\n",
       "   ORIGIN_AIRPORT_ID ORIGIN ORIGIN_CITY_NAME  DEST_AIRPORT_ID DEST  \\\n",
       "0              11618    EWR       Newark, NJ            11292  DEN   \n",
       "1              12889    LAS    Las Vegas, NV            14771  SFO   \n",
       "2              14908    SNA    Santa Ana, CA            11292  DEN   \n",
       "3              14635    RSW   Fort Myers, FL            13930  ORD   \n",
       "4              13930    ORD      Chicago, IL            10257  ALB   \n",
       "\n",
       "      DEST_CITY_NAME  CRS_DEP_TIME  DEP_TIME  DEP_DELAY  TAXI_OUT  WHEELS_OFF  \\\n",
       "0         Denver, CO          1517    1512.0       -5.0      15.0      1527.0   \n",
       "1  San Francisco, CA          1115    1107.0       -8.0      11.0      1118.0   \n",
       "2         Denver, CO          1335    1330.0       -5.0      15.0      1345.0   \n",
       "3        Chicago, IL          1546    1552.0        6.0      19.0      1611.0   \n",
       "4         Albany, NY           630     650.0       20.0      13.0       703.0   \n",
       "\n",
       "   WHEELS_ON  TAXI_IN  CRS_ARR_TIME  ARR_TIME  ARR_DELAY  CANCELLED  \\\n",
       "0     1712.0     10.0          1745    1722.0      -23.0        0.0   \n",
       "1     1223.0      7.0          1254    1230.0      -24.0        0.0   \n",
       "2     1631.0      5.0          1649    1636.0      -13.0        0.0   \n",
       "3     1748.0      6.0          1756    1754.0       -2.0        0.0   \n",
       "4      926.0     10.0           922     936.0       14.0        0.0   \n",
       "\n",
       "  CANCELLATION_CODE  DIVERTED  CRS_ELAPSED_TIME  ACTUAL_ELAPSED_TIME  \\\n",
       "0               NaN       0.0             268.0                250.0   \n",
       "1               NaN       0.0              99.0                 83.0   \n",
       "2               NaN       0.0             134.0                126.0   \n",
       "3               NaN       0.0             190.0                182.0   \n",
       "4               NaN       0.0             112.0                106.0   \n",
       "\n",
       "   AIR_TIME  DISTANCE  Unnamed: 27  \n",
       "0     225.0    1605.0          NaN  \n",
       "1      65.0     414.0          NaN  \n",
       "2     106.0     846.0          NaN  \n",
       "3     157.0    1120.0          NaN  \n",
       "4      83.0     723.0          NaN  "
      ]
     },
     "execution_count": 5,
     "metadata": {},
     "output_type": "execute_result"
    }
   ],
   "source": [
    "mj_flt.head()"
   ]
  },
  {
   "cell_type": "code",
   "execution_count": 42,
   "metadata": {
    "hidden": true
   },
   "outputs": [],
   "source": [
    "# dropping those days that are transiting to and from DST for simplicity\n",
    "indexNames = mj_flt[(mj_flt['FL_DATE'] == '2018-03-10') |\n",
    "                (mj_flt['FL_DATE'] == '2018-03-11') |\n",
    "                (mj_flt['FL_DATE'] == '2018-11-03') |\n",
    "                (mj_flt['FL_DATE'] == '2018-11-04')].index\n",
    "mj_flt.drop(indexNames , inplace=True)"
   ]
  },
  {
   "cell_type": "markdown",
   "metadata": {
    "heading_collapsed": true
   },
   "source": [
    "## Clean the missing value for tail_num (cancelled flights)"
   ]
  },
  {
   "cell_type": "code",
   "execution_count": 43,
   "metadata": {
    "hidden": true
   },
   "outputs": [],
   "source": [
    "mj_flt.dropna(subset=['TAIL_NUM'],inplace=True)"
   ]
  },
  {
   "cell_type": "code",
   "execution_count": 44,
   "metadata": {
    "hidden": true
   },
   "outputs": [],
   "source": [
    "# Drop those cancelled flights\n",
    "mj_flt = mj_flt.dropna(subset=['DEP_TIME'])"
   ]
  },
  {
   "cell_type": "code",
   "execution_count": 45,
   "metadata": {
    "hidden": true
   },
   "outputs": [],
   "source": [
    "# Drop those diverted flights\n",
    "mj_flt = mj_flt.dropna(subset=['ARR_TIME'])\n",
    "mj_flt = mj_flt[mj_flt['DIVERTED'] == 0]"
   ]
  },
  {
   "cell_type": "code",
   "execution_count": 46,
   "metadata": {
    "hidden": true
   },
   "outputs": [
    {
     "data": {
      "text/plain": [
       "(6646329, 28)"
      ]
     },
     "execution_count": 46,
     "metadata": {},
     "output_type": "execute_result"
    }
   ],
   "source": [
    "mj_flt.shape"
   ]
  },
  {
   "cell_type": "code",
   "execution_count": 7,
   "metadata": {
    "hidden": true
   },
   "outputs": [],
   "source": [
    "def pad_time(dataset,column='DEP_TIME'):\n",
    "    dataset[column] = dataset[column].apply(lambda x: str(int(x)).zfill(4))\n",
    "    dataset[column] = dataset[column].replace({'2400':'0000'})\n",
    "\n",
    "def round_to_hour(dataset,column='DEP_TIME'):\n",
    "    dataset[column+'_Hour'] = pd.to_datetime(dataset[column],\n",
    "                                              format='%H%M').dt.round('H').dt.hour\n",
    "\n",
    "def round_to_30min(dataset,column='DEP_TIME'):\n",
    "    dataset[column+'_HfHr'] = pd.to_datetime(dataset[column],format='%H%M').dt.round('30min')"
   ]
  },
  {
   "cell_type": "code",
   "execution_count": 11,
   "metadata": {
    "hidden": true
   },
   "outputs": [],
   "source": [
    "pad_time(mj_flt,column='DEP_TIME')\n",
    "pad_time(mj_flt,column='ARR_TIME')\n",
    "pad_time(mj_flt,column='CRS_DEP_TIME')\n",
    "pad_time(mj_flt,column='CRS_ARR_TIME')"
   ]
  },
  {
   "cell_type": "markdown",
   "metadata": {
    "heading_collapsed": true
   },
   "source": [
    "## About departure time"
   ]
  },
  {
   "cell_type": "code",
   "execution_count": 12,
   "metadata": {
    "hidden": true
   },
   "outputs": [],
   "source": [
    "# create a datetime column for the scheduled departure time\n",
    "mj_flt['CRS_DEP_DT'] = mj_flt['FL_DATE'] + ' ' + mj_flt['CRS_DEP_TIME']\n",
    "mj_flt['CRS_DEP_DT'] = pd.to_datetime(mj_flt['CRS_DEP_DT'] ,format='%Y-%m-%d %H%M')"
   ]
  },
  {
   "cell_type": "code",
   "execution_count": 13,
   "metadata": {
    "hidden": true
   },
   "outputs": [],
   "source": [
    "# convert the delay time to a timedelta column\n",
    "mj_flt['DEP_DELAY_TD'] = pd.to_timedelta(mj_flt['DEP_DELAY'],unit='min')\n",
    "mj_flt['CRS_ELAPSED_TD'] = pd.to_timedelta(mj_flt['CRS_ELAPSED_TIME'],unit='min')"
   ]
  },
  {
   "cell_type": "code",
   "execution_count": 14,
   "metadata": {
    "hidden": true
   },
   "outputs": [],
   "source": [
    "# create the actual departure time column\n",
    "mj_flt['DEP_DT'] = mj_flt['CRS_DEP_DT'] + mj_flt['DEP_DELAY_TD']"
   ]
  },
  {
   "cell_type": "code",
   "execution_count": 15,
   "metadata": {
    "hidden": true
   },
   "outputs": [],
   "source": [
    "mj_flt['Weekday'] = mj_flt['CRS_DEP_DT'].dt.dayofweek\n",
    "mj_flt['Month'] = mj_flt['CRS_DEP_DT'].dt.month\n",
    "mj_flt['Day'] = mj_flt['CRS_DEP_DT'].dt.day\n",
    "mj_flt['Week_no'] = mj_flt['CRS_DEP_DT'].dt.weekofyear"
   ]
  },
  {
   "cell_type": "markdown",
   "metadata": {
    "heading_collapsed": true
   },
   "source": [
    "## About arrival time"
   ]
  },
  {
   "cell_type": "markdown",
   "metadata": {
    "heading_collapsed": true,
    "hidden": true
   },
   "source": [
    "### Find timezone for each airport"
   ]
  },
  {
   "cell_type": "code",
   "execution_count": 16,
   "metadata": {
    "hidden": true
   },
   "outputs": [],
   "source": [
    "airport_cor = pd.read_csv('Airport_cor.csv')\n",
    "airport_cor = airport_cor[airport_cor['AIRPORT_IS_LATEST']==1]"
   ]
  },
  {
   "cell_type": "code",
   "execution_count": 17,
   "metadata": {
    "hidden": true
   },
   "outputs": [
    {
     "name": "stderr",
     "output_type": "stream",
     "text": [
      "/opt/anaconda/envs/Python3/lib/python3.6/site-packages/ipykernel/__main__.py:13: SettingWithCopyWarning: \n",
      "A value is trying to be set on a copy of a slice from a DataFrame\n",
      "\n",
      "See the caveats in the documentation: http://pandas.pydata.org/pandas-docs/stable/indexing.html#indexing-view-versus-copy\n",
      "/opt/anaconda/envs/Python3/lib/python3.6/site-packages/ipykernel/__main__.py:14: SettingWithCopyWarning: \n",
      "A value is trying to be set on a copy of a slice from a DataFrame\n",
      "\n",
      "See the caveats in the documentation: http://pandas.pydata.org/pandas-docs/stable/indexing.html#indexing-view-versus-copy\n"
     ]
    }
   ],
   "source": [
    "from timezonefinder import TimezoneFinder\n",
    "\n",
    "tf = TimezoneFinder()\n",
    "\n",
    "airport_cor = airport_cor.dropna(subset=['LONGITUDE'])\n",
    "\n",
    "tz_list = []\n",
    "for index, row in airport_cor.iterrows():\n",
    "    tz_list.append(tf.timezone_at(lng=row['LONGITUDE'],lat=row['LATITUDE']))\n",
    "\n",
    "airport_cor['tz'] = tz_list\n",
    "\n",
    "airport_cor['tz'][108] = 'America/Anchorage'\n",
    "airport_cor['tz'][7776] = 'Asia/Ho_Chi_Minh'\n",
    "\n",
    "airport_cor = airport_cor[['AIRPORT_ID','tz']]"
   ]
  },
  {
   "cell_type": "code",
   "execution_count": 18,
   "metadata": {
    "hidden": true
   },
   "outputs": [],
   "source": [
    "# merge the time zone info with the major flight\n",
    "mj_flt = pd.merge(mj_flt,airport_cor,left_on='ORIGIN_AIRPORT_ID',right_on='AIRPORT_ID')\n",
    "mj_flt = pd.merge(mj_flt,airport_cor,left_on='DEST_AIRPORT_ID',right_on='AIRPORT_ID')\n",
    "mj_flt.rename({'tz_x':'ORI_TZ','tz_y':'DEST_TZ'},axis=1,inplace=True)"
   ]
  },
  {
   "cell_type": "code",
   "execution_count": 19,
   "metadata": {
    "hidden": true
   },
   "outputs": [],
   "source": [
    "from datetime import datetime\n",
    "def is_dst(dt=None, timezone=\"UTC\"):\n",
    "    if dt is None:\n",
    "        dt = datetime.utcnow()\n",
    "    timezone_aware_date = pytz.timezone(timezone).localize(dt, is_dst=None)\n",
    "    return timezone_aware_date.tzinfo._dst.seconds != 0"
   ]
  },
  {
   "cell_type": "code",
   "execution_count": 49,
   "metadata": {
    "hidden": true
   },
   "outputs": [
    {
     "data": {
      "text/plain": [
       "(6646329, 43)"
      ]
     },
     "execution_count": 49,
     "metadata": {},
     "output_type": "execute_result"
    }
   ],
   "source": [
    "mj_flt.shape"
   ]
  },
  {
   "cell_type": "code",
   "execution_count": 28,
   "metadata": {
    "hidden": true
   },
   "outputs": [
    {
     "name": "stdout",
     "output_type": "stream",
     "text": [
      "0\n",
      "100000\n",
      "200000\n",
      "300000\n",
      "400000\n",
      "500000\n",
      "600000\n",
      "700000\n",
      "800000\n",
      "900000\n",
      "1000000\n",
      "1100000\n",
      "1200000\n",
      "1300000\n",
      "1400000\n",
      "1500000\n",
      "1600000\n",
      "1700000\n",
      "1800000\n",
      "1900000\n",
      "2000000\n",
      "2100000\n",
      "2200000\n",
      "2300000\n",
      "2400000\n",
      "2500000\n",
      "2600000\n",
      "2700000\n",
      "2800000\n",
      "2900000\n",
      "3000000\n",
      "3100000\n",
      "3200000\n",
      "3300000\n",
      "3400000\n",
      "3500000\n",
      "3600000\n",
      "3700000\n",
      "3800000\n",
      "3900000\n",
      "4000000\n",
      "4100000\n",
      "4200000\n",
      "4300000\n",
      "4400000\n",
      "4500000\n",
      "4600000\n",
      "4700000\n",
      "4800000\n",
      "4900000\n",
      "5000000\n",
      "5100000\n",
      "5200000\n",
      "5300000\n",
      "5400000\n",
      "5500000\n",
      "5600000\n",
      "5700000\n",
      "5800000\n",
      "5900000\n",
      "6000000\n",
      "6100000\n",
      "6200000\n",
      "6300000\n",
      "6400000\n",
      "6500000\n"
     ]
    }
   ],
   "source": [
    "def get_crs_arr(row):\n",
    "    dst_flag = is_dst(row['CRS_DEP_DT'],row['ORI_TZ'])\n",
    "    local_tz = pytz.timezone(row['ORI_TZ'])\n",
    "    utc_time = local_tz.localize(row['CRS_DEP_DT'], is_dst=dst_flag).astimezone(pytz.utc)\n",
    "    dest_utc = utc_time + row['CRS_ELAPSED_TD']\n",
    "    dest_local = dest_utc.astimezone(row['DEST_TZ'])\n",
    "    return dest_local\n",
    "\n",
    "for i in range(0,6600000,100000):\n",
    "    print(i)\n",
    "    mj_flt.loc[i:i+100000,['CRS_ARR_DT']] = mj_flt[i:i+100000].apply(get_crs_arr,axis=1)"
   ]
  },
  {
   "cell_type": "code",
   "execution_count": 29,
   "metadata": {
    "hidden": true
   },
   "outputs": [],
   "source": [
    "mj_flt.loc[6500000:6646329,['CRS_ARR_DT']] = mj_flt[6500000:6646329].apply(get_crs_arr,axis=1)"
   ]
  },
  {
   "cell_type": "code",
   "execution_count": 20,
   "metadata": {
    "hidden": true
   },
   "outputs": [],
   "source": [
    "#start = np.array(np.arange(0,6900000,300000))\n",
    "#end = np.array(np.arange(300000,6900000,300000))\n",
    "#end = np.append(end,6729517)"
   ]
  },
  {
   "cell_type": "code",
   "execution_count": 44,
   "metadata": {
    "hidden": true
   },
   "outputs": [
    {
     "data": {
      "text/plain": [
       "\"\\ntim = []\\nfor (i,j) in zip(start,end):\\n    for index, row in mj_flt[i:j].iterrows():\\n        dst_flag = is_dst(row['CRS_DEP_DT'],row['ORI_TZ'])\\n        local_tz = pytz.timezone(row['ORI_TZ'])\\n        utc_time = local_tz.localize(row['CRS_DEP_DT'], is_dst=dst_flag).astimezone(pytz.utc)\\n        dest_utc = utc_time + row['CRS_ELAPSED_TD']\\n        dest_local = dest_utc.astimezone(row['DEST_TZ']) \\n        tim.append(dest_local)\\n\\n        if index%10000 == 0:\\n            print(index)\\n        if index == 906:\\n            print(dest_local)\\n\""
      ]
     },
     "execution_count": 44,
     "metadata": {},
     "output_type": "execute_result"
    }
   ],
   "source": [
    "\"\"\"\n",
    "tim = []\n",
    "for (i,j) in zip(start,end):\n",
    "    for index, row in mj_flt[i:j].iterrows():\n",
    "        dst_flag = is_dst(row['CRS_DEP_DT'],row['ORI_TZ'])\n",
    "        local_tz = pytz.timezone(row['ORI_TZ'])\n",
    "        utc_time = local_tz.localize(row['CRS_DEP_DT'], is_dst=dst_flag).astimezone(pytz.utc)\n",
    "        dest_utc = utc_time + row['CRS_ELAPSED_TD']\n",
    "        dest_local = dest_utc.astimezone(row['DEST_TZ']) \n",
    "        tim.append(dest_local)\n",
    "\n",
    "        if index%10000 == 0:\n",
    "            print(index)\n",
    "        if index == 906:\n",
    "            print(dest_local)\n",
    "\"\"\""
   ]
  },
  {
   "cell_type": "code",
   "execution_count": 39,
   "metadata": {
    "hidden": true
   },
   "outputs": [],
   "source": [
    "#pd.DataFrame(tim,columns=['col']).to_csv('tim.csv')"
   ]
  },
  {
   "cell_type": "code",
   "execution_count": 22,
   "metadata": {
    "hidden": true
   },
   "outputs": [],
   "source": [
    "#df = pd.read_csv('tim.csv',index_col = 0)"
   ]
  },
  {
   "cell_type": "code",
   "execution_count": 23,
   "metadata": {
    "hidden": true
   },
   "outputs": [],
   "source": [
    "#mj_flt['CRS_ARR_DT'] = df['col']"
   ]
  },
  {
   "cell_type": "code",
   "execution_count": 30,
   "metadata": {
    "hidden": true
   },
   "outputs": [],
   "source": [
    "mj_flt['CRS_ARR_DT'] = pd.to_datetime(mj_flt['CRS_ARR_DT'].apply(lambda x:str(x)[:-6]))"
   ]
  },
  {
   "cell_type": "code",
   "execution_count": 72,
   "metadata": {
    "hidden": true
   },
   "outputs": [],
   "source": [
    "# calculate nan values for arr_delay\n",
    "mj_flt.loc[mj_flt['ARR_DELAY'].isnull(),'ARR_DELAY'] = (mj_flt.loc[mj_flt['ARR_DELAY'].isnull(),'ARR_TIME'].apply(int) - \n",
    "                                                        mj_flt.loc[mj_flt['ARR_DELAY'].isnull(),'CRS_ARR_TIME'].apply(int))"
   ]
  },
  {
   "cell_type": "code",
   "execution_count": 73,
   "metadata": {
    "hidden": true
   },
   "outputs": [],
   "source": [
    "mj_flt['ARR_DELAY_TD'] = pd.to_timedelta(mj_flt['ARR_DELAY'],unit='min')\n",
    "mj_flt['ARR_DT'] = mj_flt['CRS_ARR_DT'] + mj_flt['ARR_DELAY_TD']"
   ]
  },
  {
   "cell_type": "code",
   "execution_count": 1,
   "metadata": {
    "hidden": true
   },
   "outputs": [],
   "source": [
    "#round_to_hour(mj_flt_mgwea,column='DEP_TIME')\n",
    "#round_to_hour(mj_flt_mgwea,column='ARR_TIME')\n",
    "#round_to_hour(mj_flt_mgwea,column='CRS_DEP_TIME')\n",
    "#round_to_hour(mj_flt_mgwea,column='CRS_ARR_TIME')"
   ]
  },
  {
   "cell_type": "code",
   "execution_count": 32,
   "metadata": {
    "hidden": true
   },
   "outputs": [],
   "source": [
    "#round_to_30min(mj_flt,column='DEP_TIME')\n",
    "#round_to_30min(mj_flt,column='ARR_TIME')\n",
    "#round_to_30min(mj_flt,column='CRS_DEP_TIME')\n",
    "#round_to_30min(mj_flt,column='CRS_ARR_TIME')"
   ]
  },
  {
   "cell_type": "markdown",
   "metadata": {
    "heading_collapsed": true
   },
   "source": [
    "## Merge with aircraft information"
   ]
  },
  {
   "cell_type": "code",
   "execution_count": 83,
   "metadata": {
    "hidden": true
   },
   "outputs": [],
   "source": [
    "mj_flt = pd.merge(mj_flt,acft_info2,left_on='TAIL_NUM',right_on='TAIL_NUMBER',how='left')"
   ]
  },
  {
   "cell_type": "code",
   "execution_count": 84,
   "metadata": {
    "hidden": true
   },
   "outputs": [
    {
     "data": {
      "text/plain": [
       "(6646329, 47)"
      ]
     },
     "execution_count": 84,
     "metadata": {},
     "output_type": "execute_result"
    }
   ],
   "source": [
    "mj_flt.shape"
   ]
  },
  {
   "cell_type": "code",
   "execution_count": 85,
   "metadata": {
    "hidden": true
   },
   "outputs": [],
   "source": [
    "mj_flt = pd.merge(mj_flt,acft_info,left_on='TAIL_NUM',right_on='TAIL_NUM',how='left')"
   ]
  },
  {
   "cell_type": "code",
   "execution_count": 86,
   "metadata": {
    "hidden": true
   },
   "outputs": [
    {
     "data": {
      "text/plain": [
       "(6646329, 50)"
      ]
     },
     "execution_count": 86,
     "metadata": {},
     "output_type": "execute_result"
    }
   ],
   "source": [
    "mj_flt.shape"
   ]
  },
  {
   "cell_type": "code",
   "execution_count": null,
   "metadata": {
    "hidden": true
   },
   "outputs": [],
   "source": [
    "#missing = mj_flt[(mj_flt['MANUFACTURE_YEAR'].isnull())&(mj_flt['YEAR MFR'].isnull())]"
   ]
  },
  {
   "cell_type": "code",
   "execution_count": 27,
   "metadata": {
    "hidden": true
   },
   "outputs": [
    {
     "data": {
      "text/plain": [
       "(67467, 44)"
      ]
     },
     "execution_count": 27,
     "metadata": {},
     "output_type": "execute_result"
    }
   ],
   "source": [
    "#missing.shape"
   ]
  },
  {
   "cell_type": "markdown",
   "metadata": {
    "hidden": true
   },
   "source": [
    "67467 rows doesn't have any of the two aircraft information"
   ]
  },
  {
   "cell_type": "markdown",
   "metadata": {
    "heading_collapsed": true
   },
   "source": [
    "## Debug the CRS_ARR_TIME problem"
   ]
  },
  {
   "cell_type": "code",
   "execution_count": 70,
   "metadata": {
    "hidden": true
   },
   "outputs": [
    {
     "data": {
      "text/html": [
       "<div>\n",
       "<style scoped>\n",
       "    .dataframe tbody tr th:only-of-type {\n",
       "        vertical-align: middle;\n",
       "    }\n",
       "\n",
       "    .dataframe tbody tr th {\n",
       "        vertical-align: top;\n",
       "    }\n",
       "\n",
       "    .dataframe thead th {\n",
       "        text-align: right;\n",
       "    }\n",
       "</style>\n",
       "<table border=\"1\" class=\"dataframe\">\n",
       "  <thead>\n",
       "    <tr style=\"text-align: right;\">\n",
       "      <th></th>\n",
       "      <th>CRS_ARR_TIME</th>\n",
       "      <th>CRS_ARR_DT</th>\n",
       "      <th>DEST_TZ</th>\n",
       "    </tr>\n",
       "  </thead>\n",
       "  <tbody>\n",
       "  </tbody>\n",
       "</table>\n",
       "</div>"
      ],
      "text/plain": [
       "Empty DataFrame\n",
       "Columns: [CRS_ARR_TIME, CRS_ARR_DT, DEST_TZ]\n",
       "Index: []"
      ]
     },
     "execution_count": 70,
     "metadata": {},
     "output_type": "execute_result"
    }
   ],
   "source": [
    "mask = (mj_flt['CRS_ARR_TIME'].apply(lambda x:int(x[2:])) != mj_flt['CRS_ARR_DT'].dt.minute)\n",
    "a = mj_flt[mask][['CRS_ARR_TIME','CRS_ARR_DT','DEST_TZ']]\n",
    "a.head()"
   ]
  },
  {
   "cell_type": "code",
   "execution_count": 69,
   "metadata": {
    "hidden": true
   },
   "outputs": [],
   "source": [
    "def correct_dt(row):\n",
    "    aa = pd.Timestamp(row['CRS_ARR_DT'].year,\n",
    "                     row['CRS_ARR_DT'].month,\n",
    "                     row['CRS_ARR_DT'].day,\n",
    "                     int(row['CRS_ARR_TIME'][:2]),\n",
    "                     int(row['CRS_ARR_TIME'][2:]))\n",
    "    return aa\n",
    "\n",
    "mj_flt.loc[mask,'CRS_ARR_DT'] = mj_flt.loc[mask].apply(correct_dt,axis=1)"
   ]
  },
  {
   "cell_type": "code",
   "execution_count": 28,
   "metadata": {
    "hidden": true
   },
   "outputs": [],
   "source": [
    "def check_process(crs_dep_dt,ori_tz,crs_elapsed_td,dest_tz):\n",
    "    dst_flag = is_dst(crs_dep_dt,ori_tz)\n",
    "    local_tz = pytz.timezone(ori_tz)\n",
    "    utc_time = local_tz.localize(crs_dep_dt, is_dst=dst_flag).astimezone(pytz.utc)\n",
    "    dest_utc = utc_time + crs_elapsed_td\n",
    "    dest_local = dest_utc.astimezone(dest_tz)\n",
    "    return dest_local"
   ]
  },
  {
   "cell_type": "markdown",
   "metadata": {
    "heading_collapsed": true
   },
   "source": [
    "## Drop unwanted columns"
   ]
  },
  {
   "cell_type": "code",
   "execution_count": 88,
   "metadata": {
    "hidden": true
   },
   "outputs": [],
   "source": [
    "mj_flt.drop(['TAXI_OUT','WHEELS_OFF', 'WHEELS_ON', 'TAXI_IN',\n",
    "             'CANCELLED', 'CANCELLATION_CODE', 'DIVERTED',\n",
    "             'Unnamed: 27','TAIL_NUMBER','AIRPORT_ID_x','AIRPORT_ID_y',\n",
    "             'ORIGIN_CITY_NAME','DEST_CITY_NAME','CRS_DEP_TIME', 'DEP_TIME',\n",
    "             'CRS_ARR_TIME','ARR_TIME'],axis=1,inplace=True)"
   ]
  },
  {
   "cell_type": "code",
   "execution_count": 89,
   "metadata": {
    "hidden": true
   },
   "outputs": [
    {
     "data": {
      "text/plain": [
       "(6646329, 33)"
      ]
     },
     "execution_count": 89,
     "metadata": {},
     "output_type": "execute_result"
    }
   ],
   "source": [
    "mj_flt.shape"
   ]
  },
  {
   "cell_type": "code",
   "execution_count": 94,
   "metadata": {
    "hidden": true
   },
   "outputs": [
    {
     "data": {
      "text/plain": [
       "Index(['FL_DATE', 'OP_UNIQUE_CARRIER', 'TAIL_NUM', 'OP_CARRIER_FL_NUM',\n",
       "       'ORIGIN_AIRPORT_ID', 'ORIGIN', 'DEST_AIRPORT_ID', 'DEST', 'DEP_DELAY',\n",
       "       'ARR_DELAY', 'CRS_ELAPSED_TIME', 'ACTUAL_ELAPSED_TIME', 'AIR_TIME',\n",
       "       'DISTANCE', 'CRS_DEP_DT', 'DEP_DELAY_TD', 'CRS_ELAPSED_TD', 'DEP_DT',\n",
       "       'Weekday', 'Month', 'Day', 'Week_no', 'ORI_TZ', 'DEST_TZ', 'CRS_ARR_DT',\n",
       "       'ARR_DELAY_TD', 'ARR_DT', 'MANUFACTURE_YEAR', 'MANUFACTURER', 'MODEL',\n",
       "       'YEAR MFR', 'MFR_x', 'MODEL_x'],\n",
       "      dtype='object')"
      ]
     },
     "execution_count": 94,
     "metadata": {},
     "output_type": "execute_result"
    }
   ],
   "source": [
    "mj_flt.columns"
   ]
  },
  {
   "cell_type": "code",
   "execution_count": 91,
   "metadata": {
    "hidden": true
   },
   "outputs": [],
   "source": [
    "mj_flt.to_csv('ready_data.csv')"
   ]
  },
  {
   "cell_type": "code",
   "execution_count": 10,
   "metadata": {
    "hidden": true
   },
   "outputs": [],
   "source": [
    "mj_flt = pd.read_csv('ready_data.csv',index_col=0)"
   ]
  },
  {
   "cell_type": "markdown",
   "metadata": {
    "heading_collapsed": true
   },
   "source": [
    "## Merge with the weather data"
   ]
  },
  {
   "cell_type": "code",
   "execution_count": 108,
   "metadata": {
    "hidden": true
   },
   "outputs": [],
   "source": [
    "mj_flt['DEP_DATE'] = mj_flt['CRS_DEP_DT'].apply(lambda x:x.date())\n",
    "mj_flt['DEP_HOUR'] = mj_flt['CRS_DEP_DT'].dt.hour\n",
    "all_weather_data['Datetime'] = all_weather_data['Datetime'].apply(lambda x:x.date())"
   ]
  },
  {
   "cell_type": "code",
   "execution_count": 109,
   "metadata": {
    "hidden": true
   },
   "outputs": [],
   "source": [
    "mj_flt_mgwea = pd.merge(mj_flt,all_weather_data,\n",
    "                        left_on=['ORIGIN','DEP_DATE','DEP_HOUR'],\n",
    "                        right_on=['Airport_name','Datetime','Hour'],how='inner')"
   ]
  },
  {
   "cell_type": "code",
   "execution_count": 110,
   "metadata": {
    "hidden": true
   },
   "outputs": [
    {
     "data": {
      "text/plain": [
       "Index(['FL_DATE', 'OP_UNIQUE_CARRIER', 'TAIL_NUM', 'OP_CARRIER_FL_NUM',\n",
       "       'ORIGIN_AIRPORT_ID', 'ORIGIN', 'DEST_AIRPORT_ID', 'DEST', 'DEP_DELAY',\n",
       "       'ARR_DELAY', 'CRS_ELAPSED_TIME', 'ACTUAL_ELAPSED_TIME', 'AIR_TIME',\n",
       "       'DISTANCE', 'CRS_DEP_DT', 'DEP_DELAY_TD', 'CRS_ELAPSED_TD', 'DEP_DT',\n",
       "       'Weekday', 'Month', 'Day', 'Week_no', 'ORI_TZ', 'DEST_TZ', 'CRS_ARR_DT',\n",
       "       'ARR_DELAY_TD', 'ARR_DT', 'MANUFACTURE_YEAR', 'MANUFACTURER', 'MODEL',\n",
       "       'YEAR MFR', 'MFR_x', 'MODEL_x', 'DEP_DATE', 'DEP_HOUR', 'Airport_name',\n",
       "       'DewPointC', 'FeelsLikeC', 'HeatIndexC', 'WindChillC', 'WindGustKmph',\n",
       "       'cloudcover', 'humidity', 'precipMM', 'pressure', 'tempC', 'uvIndex',\n",
       "       'visibility', 'winddir16Point', 'winddirDegree', 'windspeedKmph',\n",
       "       'weatherDesc_new', 'Datetime', 'Hour'],\n",
       "      dtype='object')"
      ]
     },
     "execution_count": 110,
     "metadata": {},
     "output_type": "execute_result"
    }
   ],
   "source": [
    "mj_flt_mgwea.columns"
   ]
  },
  {
   "cell_type": "code",
   "execution_count": 5,
   "metadata": {
    "hidden": true
   },
   "outputs": [],
   "source": [
    "mj_flt_mgwea.drop(['Datetime', 'Hour','Airport_name','DEP_DATE', 'DEP_HOUR'],axis=1,inplace=True)"
   ]
  },
  {
   "cell_type": "markdown",
   "metadata": {
    "heading_collapsed": true
   },
   "source": [
    "## Merge the wide/narrow aircraft column"
   ]
  },
  {
   "cell_type": "code",
   "execution_count": 6,
   "metadata": {
    "hidden": true
   },
   "outputs": [],
   "source": [
    "check_model = pd.read_csv('check_model.csv',index_col = 0)"
   ]
  },
  {
   "cell_type": "code",
   "execution_count": 7,
   "metadata": {
    "hidden": true
   },
   "outputs": [],
   "source": [
    "mj_flt_mgwea = pd.merge(mj_flt_mgwea,check_model,\n",
    "                         left_on=['MANUFACTURER','MODEL','MFR_x','MODEL_x'],\n",
    "                         right_on=['MANUFACTURER','MODEL','MFR_x','MODEL_x'],\n",
    "                         how='left')"
   ]
  },
  {
   "cell_type": "code",
   "execution_count": 8,
   "metadata": {
    "hidden": true
   },
   "outputs": [],
   "source": [
    "mj_flt_mgwea.loc[mj_flt_mgwea['Wide'].isnull(),'Wide'] = 0"
   ]
  },
  {
   "cell_type": "markdown",
   "metadata": {
    "heading_collapsed": true
   },
   "source": [
    "## Merge with the manufacturing year"
   ]
  },
  {
   "cell_type": "code",
   "execution_count": 9,
   "metadata": {
    "hidden": true
   },
   "outputs": [],
   "source": [
    "check_year = pd.read_csv('check_year.csv',index_col = 0)\n",
    "check_year = check_year.drop_duplicates()"
   ]
  },
  {
   "cell_type": "code",
   "execution_count": 10,
   "metadata": {
    "hidden": true
   },
   "outputs": [],
   "source": [
    "mj_flt_mgwea = pd.merge(mj_flt_mgwea,check_year,\n",
    "                         left_on=['MANUFACTURE_YEAR','YEAR MFR'],\n",
    "                         right_on=['MANUFACTURE_YEAR','YEAR MFR'],\n",
    "                         how='left')"
   ]
  },
  {
   "cell_type": "code",
   "execution_count": 11,
   "metadata": {
    "hidden": true
   },
   "outputs": [],
   "source": [
    "# try to fill the na values in the Year column with average year of each airline\n",
    "AL_Yr = mj_flt_mgwea.groupby('OP_UNIQUE_CARRIER').median()['Year']"
   ]
  },
  {
   "cell_type": "code",
   "execution_count": 12,
   "metadata": {
    "hidden": true
   },
   "outputs": [],
   "source": [
    "mj_flt_mgwea['Year'] = mj_flt_mgwea['Year'].fillna(mj_flt_mgwea['OP_UNIQUE_CARRIER'].map(AL_Yr))"
   ]
  },
  {
   "cell_type": "code",
   "execution_count": 13,
   "metadata": {
    "hidden": true
   },
   "outputs": [],
   "source": [
    "acft_info2 = pd.read_csv('ACF_info2.csv',encoding = \"ISO-8859-1\")\n",
    "acft_info2 = acft_info2[['MANUFACTURE_YEAR','TAIL_NUMBER']]"
   ]
  },
  {
   "cell_type": "code",
   "execution_count": 15,
   "metadata": {
    "hidden": true
   },
   "outputs": [],
   "source": [
    "G4_tail = mj_flt_mgwea[mj_flt_mgwea['Year'].isnull()][['TAIL_NUM']].drop_duplicates()\n",
    "G4_tail['TAIL_NUM'] = G4_tail['TAIL_NUM'].apply(lambda x:'N'+x)\n",
    "G4_tail = pd.merge(G4_tail,acft_info2,left_on='TAIL_NUM',right_on='TAIL_NUMBER',how='inner')\n",
    "G4_tail['TAIL_NUM'] = G4_tail['TAIL_NUM'].apply(lambda x:x[1:])\n",
    "G4_tail.drop(['TAIL_NUMBER'],axis=1,inplace=True)\n",
    "G4_tail = G4_tail.set_index('TAIL_NUM').to_dict()['MANUFACTURE_YEAR']"
   ]
  },
  {
   "cell_type": "code",
   "execution_count": 16,
   "metadata": {
    "hidden": true
   },
   "outputs": [],
   "source": [
    "mj_flt_mgwea['Year'] = mj_flt_mgwea['Year'].fillna(mj_flt_mgwea['TAIL_NUM'].map(G4_tail))\n",
    "# just fill the rest na values with 2006 since the average age of G4 airlirn is 13 years\n",
    "mj_flt_mgwea['Year'] = mj_flt_mgwea['Year'].fillna(2005)"
   ]
  },
  {
   "cell_type": "code",
   "execution_count": 17,
   "metadata": {
    "hidden": true
   },
   "outputs": [
    {
     "data": {
      "text/plain": [
       "Index(['FL_DATE', 'OP_UNIQUE_CARRIER', 'TAIL_NUM', 'OP_CARRIER_FL_NUM',\n",
       "       'ORIGIN_AIRPORT_ID', 'ORIGIN', 'DEST_AIRPORT_ID', 'DEST', 'DEP_DELAY',\n",
       "       'ARR_DELAY', 'CRS_ELAPSED_TIME', 'ACTUAL_ELAPSED_TIME', 'AIR_TIME',\n",
       "       'DISTANCE', 'CRS_DEP_DT', 'DEP_DELAY_TD', 'CRS_ELAPSED_TD', 'DEP_DT',\n",
       "       'Weekday', 'Month', 'Day', 'Week_no', 'ORI_TZ', 'DEST_TZ', 'CRS_ARR_DT',\n",
       "       'ARR_DELAY_TD', 'ARR_DT', 'MANUFACTURE_YEAR', 'MANUFACTURER', 'MODEL',\n",
       "       'YEAR MFR', 'MFR_x', 'MODEL_x', 'DewPointC', 'FeelsLikeC', 'HeatIndexC',\n",
       "       'WindChillC', 'WindGustKmph', 'cloudcover', 'humidity', 'precipMM',\n",
       "       'pressure', 'tempC', 'uvIndex', 'visibility', 'winddir16Point',\n",
       "       'winddirDegree', 'windspeedKmph', 'weatherDesc_new', 'Wide', 'Year'],\n",
       "      dtype='object')"
      ]
     },
     "execution_count": 17,
     "metadata": {},
     "output_type": "execute_result"
    }
   ],
   "source": [
    "mj_flt_mgwea.columns"
   ]
  },
  {
   "cell_type": "code",
   "execution_count": 18,
   "metadata": {
    "hidden": true
   },
   "outputs": [],
   "source": [
    "mj_flt_mgwea.drop(['MANUFACTURE_YEAR', 'MANUFACTURER', 'MODEL',\n",
    "                    'YEAR MFR', 'MFR_x', 'MODEL_x','ORI_TZ', 'DEST_TZ'],\n",
    "                   axis=1,inplace=True)"
   ]
  },
  {
   "cell_type": "code",
   "execution_count": 19,
   "metadata": {
    "hidden": true
   },
   "outputs": [],
   "source": [
    "mj_flt_mgwea.to_csv('ready_data.csv') "
   ]
  },
  {
   "cell_type": "code",
   "execution_count": 3,
   "metadata": {
    "hidden": true
   },
   "outputs": [
    {
     "name": "stderr",
     "output_type": "stream",
     "text": [
      "/opt/anaconda/envs/Python3/lib/python3.6/site-packages/numpy/lib/arraysetops.py:569: FutureWarning: elementwise comparison failed; returning scalar instead, but in the future will perform elementwise comparison\n",
      "  mask |= (ar1 == a)\n"
     ]
    }
   ],
   "source": [
    "mj_flt_mgwea = pd.read_csv('ready_data.csv',index_col = 0)"
   ]
  },
  {
   "cell_type": "code",
   "execution_count": 4,
   "metadata": {
    "hidden": true
   },
   "outputs": [
    {
     "data": {
      "text/plain": [
       "Index(['FL_DATE', 'OP_UNIQUE_CARRIER', 'TAIL_NUM', 'OP_CARRIER_FL_NUM',\n",
       "       'ORIGIN_AIRPORT_ID', 'ORIGIN', 'DEST_AIRPORT_ID', 'DEST', 'DEP_DELAY',\n",
       "       'ARR_DELAY', 'CRS_ELAPSED_TIME', 'ACTUAL_ELAPSED_TIME', 'AIR_TIME',\n",
       "       'DISTANCE', 'CRS_DEP_DT', 'DEP_DELAY_TD', 'CRS_ELAPSED_TD', 'DEP_DT',\n",
       "       'Weekday', 'Month', 'Day', 'Week_no', 'CRS_ARR_DT', 'ARR_DELAY_TD',\n",
       "       'ARR_DT', 'DewPointC', 'FeelsLikeC', 'HeatIndexC', 'WindChillC',\n",
       "       'WindGustKmph', 'cloudcover', 'humidity', 'precipMM', 'pressure',\n",
       "       'tempC', 'uvIndex', 'visibility', 'winddir16Point', 'winddirDegree',\n",
       "       'windspeedKmph', 'weatherDesc_new', 'Wide', 'Year'],\n",
       "      dtype='object')"
      ]
     },
     "execution_count": 4,
     "metadata": {},
     "output_type": "execute_result"
    }
   ],
   "source": [
    "mj_flt_mgwea.columns"
   ]
  },
  {
   "cell_type": "markdown",
   "metadata": {
    "heading_collapsed": true
   },
   "source": [
    "# Splitting training and testing set"
   ]
  },
  {
   "cell_type": "code",
   "execution_count": 8,
   "metadata": {
    "hidden": true
   },
   "outputs": [],
   "source": [
    "#test_week = [3,6,12,16,19,25,29,33,36,42,47,50]"
   ]
  },
  {
   "cell_type": "code",
   "execution_count": 5,
   "metadata": {
    "hidden": true
   },
   "outputs": [],
   "source": [
    "#testing = mj_flt_mgwea[mj_flt_mgwea['Week_no'].isin(test_week)]\n",
    "#training = mj_flt_mgwea[~mj_flt_mgwea['Week_no'].isin(test_week)]\n",
    "testing = mj_flt_mgwea[mj_flt_mgwea['Week_no']>=39]\n",
    "training = mj_flt_mgwea[mj_flt_mgwea['Week_no']<39]"
   ]
  },
  {
   "cell_type": "code",
   "execution_count": 6,
   "metadata": {
    "hidden": true
   },
   "outputs": [
    {
     "name": "stdout",
     "output_type": "stream",
     "text": [
      "(1765464, 43) (4880865, 43)\n"
     ]
    }
   ],
   "source": [
    "print(testing.shape,training.shape)"
   ]
  },
  {
   "cell_type": "code",
   "execution_count": 7,
   "metadata": {
    "hidden": true
   },
   "outputs": [],
   "source": [
    "testing.to_csv('testing.csv')\n",
    "training.to_csv('training.csv')"
   ]
  }
 ],
 "metadata": {
  "kernelspec": {
   "display_name": "Python [conda env:Python3]",
   "language": "python",
   "name": "conda-env-Python3-py"
  },
  "language_info": {
   "codemirror_mode": {
    "name": "ipython",
    "version": 3
   },
   "file_extension": ".py",
   "mimetype": "text/x-python",
   "name": "python",
   "nbconvert_exporter": "python",
   "pygments_lexer": "ipython3",
   "version": "3.6.8"
  },
  "toc": {
   "base_numbering": 1,
   "nav_menu": {},
   "number_sections": true,
   "sideBar": true,
   "skip_h1_title": false,
   "title_cell": "Table of Contents",
   "title_sidebar": "Contents",
   "toc_cell": false,
   "toc_position": {},
   "toc_section_display": true,
   "toc_window_display": false
  }
 },
 "nbformat": 4,
 "nbformat_minor": 2
}
